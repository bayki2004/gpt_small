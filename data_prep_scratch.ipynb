{
 "cells": [
  {
   "cell_type": "code",
   "execution_count": 1,
   "metadata": {},
   "outputs": [
    {
     "data": {
      "text/plain": [
       "(500, 6)"
      ]
     },
     "execution_count": 1,
     "metadata": {},
     "output_type": "execute_result"
    }
   ],
   "source": [
    "import pandas as pd\n",
    "import numpy as np\n",
    "import matplotlib.pyplot as plt\n",
    "import seaborn as sns\n",
    "import torch\n",
    "import torch.nn as nn\n",
    "df = pd.read_csv('data/dataset_full_pre_text.csv', nrows=500)\n",
    "df.shape"
   ]
  },
  {
   "cell_type": "code",
   "execution_count": 3,
   "metadata": {},
   "outputs": [
    {
     "data": {
      "text/html": [
       "<div>\n",
       "<style scoped>\n",
       "    .dataframe tbody tr th:only-of-type {\n",
       "        vertical-align: middle;\n",
       "    }\n",
       "\n",
       "    .dataframe tbody tr th {\n",
       "        vertical-align: top;\n",
       "    }\n",
       "\n",
       "    .dataframe thead th {\n",
       "        text-align: right;\n",
       "    }\n",
       "</style>\n",
       "<table border=\"1\" class=\"dataframe\">\n",
       "  <thead>\n",
       "    <tr style=\"text-align: right;\">\n",
       "      <th></th>\n",
       "      <th>Title</th>\n",
       "      <th>Author</th>\n",
       "      <th>Text</th>\n",
       "    </tr>\n",
       "  </thead>\n",
       "  <tbody>\n",
       "    <tr>\n",
       "      <th>0</th>\n",
       "      <td>Birds, Illustrated</td>\n",
       "      <td>Color Photography, Vol. 1, No. 1 Various</td>\n",
       "      <td>BIRDS, ILLUSTRATED BY COLOR PHOTOGRAPHY, VOL. ...</td>\n",
       "    </tr>\n",
       "    <tr>\n",
       "      <th>1</th>\n",
       "      <td>Artistic Anatomy of Animals</td>\n",
       "      <td>Édouard Cuyer</td>\n",
       "      <td>ARTISTIC ANATOMY OF ANIMALS *** Produced by Ch...</td>\n",
       "    </tr>\n",
       "    <tr>\n",
       "      <th>2</th>\n",
       "      <td>What Bird is That?</td>\n",
       "      <td>Frank M. Chapman</td>\n",
       "      <td>WHAT BIRD IS THAT? *** Produced by Chris Curno...</td>\n",
       "    </tr>\n",
       "    <tr>\n",
       "      <th>3</th>\n",
       "      <td>Fox Trapping: A Book of Instruction Telling Ho...</td>\n",
       "      <td>NaN</td>\n",
       "      <td>FOX TRAPPING: A BOOK OF INSTRUCTION TELLING HO...</td>\n",
       "    </tr>\n",
       "    <tr>\n",
       "      <th>4</th>\n",
       "      <td>On Snake-Poison: Its Action and Its Antidote</td>\n",
       "      <td>A. Mueller</td>\n",
       "      <td>ON SNAKE-POISON: ITS ACTION AND ITS ANTIDOTE *...</td>\n",
       "    </tr>\n",
       "    <tr>\n",
       "      <th>...</th>\n",
       "      <td>...</td>\n",
       "      <td>...</td>\n",
       "      <td>...</td>\n",
       "    </tr>\n",
       "    <tr>\n",
       "      <th>495</th>\n",
       "      <td>The Works of Horace</td>\n",
       "      <td>Horace</td>\n",
       "      <td>THE WORKS OF HORACE *** Produced by Juliet Sut...</td>\n",
       "    </tr>\n",
       "    <tr>\n",
       "      <th>496</th>\n",
       "      <td>Treatises on Friendship and Old Age</td>\n",
       "      <td>Marcus Tullius Cicero</td>\n",
       "      <td>TREATISES ON FRIENDSHIP AND OLD AGE *** Produc...</td>\n",
       "    </tr>\n",
       "    <tr>\n",
       "      <th>497</th>\n",
       "      <td>The Aeneid of Virgil</td>\n",
       "      <td>Virgil</td>\n",
       "      <td>THE AENEID OF VIRGIL *** Transcriber's note: N...</td>\n",
       "    </tr>\n",
       "    <tr>\n",
       "      <th>498</th>\n",
       "      <td>The Iliad of Homer (1873)</td>\n",
       "      <td>Homer</td>\n",
       "      <td>THE ILIAD *** THE ILIAD OF HOMER, Literally Tr...</td>\n",
       "    </tr>\n",
       "    <tr>\n",
       "      <th>499</th>\n",
       "      <td>The History of Don Quixote, Volume 1, Complete</td>\n",
       "      <td>Miguel de Cervantes Saavedra</td>\n",
       "      <td>THE HISTORY OF DON QUIXOTE, VOLUME 1, COMPLETE...</td>\n",
       "    </tr>\n",
       "  </tbody>\n",
       "</table>\n",
       "<p>500 rows × 3 columns</p>\n",
       "</div>"
      ],
      "text/plain": [
       "                                                 Title  \\\n",
       "0                                   Birds, Illustrated   \n",
       "1                          Artistic Anatomy of Animals   \n",
       "2                                   What Bird is That?   \n",
       "3    Fox Trapping: A Book of Instruction Telling Ho...   \n",
       "4         On Snake-Poison: Its Action and Its Antidote   \n",
       "..                                                 ...   \n",
       "495                                The Works of Horace   \n",
       "496                Treatises on Friendship and Old Age   \n",
       "497                               The Aeneid of Virgil   \n",
       "498                          The Iliad of Homer (1873)   \n",
       "499     The History of Don Quixote, Volume 1, Complete   \n",
       "\n",
       "                                       Author  \\\n",
       "0    Color Photography, Vol. 1, No. 1 Various   \n",
       "1                               Édouard Cuyer   \n",
       "2                            Frank M. Chapman   \n",
       "3                                         NaN   \n",
       "4                                  A. Mueller   \n",
       "..                                        ...   \n",
       "495                                    Horace   \n",
       "496                     Marcus Tullius Cicero   \n",
       "497                                    Virgil   \n",
       "498                                     Homer   \n",
       "499              Miguel de Cervantes Saavedra   \n",
       "\n",
       "                                                  Text  \n",
       "0    BIRDS, ILLUSTRATED BY COLOR PHOTOGRAPHY, VOL. ...  \n",
       "1    ARTISTIC ANATOMY OF ANIMALS *** Produced by Ch...  \n",
       "2    WHAT BIRD IS THAT? *** Produced by Chris Curno...  \n",
       "3    FOX TRAPPING: A BOOK OF INSTRUCTION TELLING HO...  \n",
       "4    ON SNAKE-POISON: ITS ACTION AND ITS ANTIDOTE *...  \n",
       "..                                                 ...  \n",
       "495  THE WORKS OF HORACE *** Produced by Juliet Sut...  \n",
       "496  TREATISES ON FRIENDSHIP AND OLD AGE *** Produc...  \n",
       "497  THE AENEID OF VIRGIL *** Transcriber's note: N...  \n",
       "498  THE ILIAD *** THE ILIAD OF HOMER, Literally Tr...  \n",
       "499  THE HISTORY OF DON QUIXOTE, VOLUME 1, COMPLETE...  \n",
       "\n",
       "[500 rows x 3 columns]"
      ]
     },
     "execution_count": 3,
     "metadata": {},
     "output_type": "execute_result"
    }
   ],
   "source": [
    "del df['Unnamed: 0']\n",
    "del df['Link']\n",
    "del df['Bookshelf']\n",
    "df"
   ]
  },
  {
   "cell_type": "code",
   "execution_count": 7,
   "metadata": {},
   "outputs": [
    {
     "data": {
      "text/html": [
       "<div>\n",
       "<style scoped>\n",
       "    .dataframe tbody tr th:only-of-type {\n",
       "        vertical-align: middle;\n",
       "    }\n",
       "\n",
       "    .dataframe tbody tr th {\n",
       "        vertical-align: top;\n",
       "    }\n",
       "\n",
       "    .dataframe thead th {\n",
       "        text-align: right;\n",
       "    }\n",
       "</style>\n",
       "<table border=\"1\" class=\"dataframe\">\n",
       "  <thead>\n",
       "    <tr style=\"text-align: right;\">\n",
       "      <th></th>\n",
       "      <th>Title</th>\n",
       "      <th>Author</th>\n",
       "      <th>Text</th>\n",
       "    </tr>\n",
       "  </thead>\n",
       "  <tbody>\n",
       "    <tr>\n",
       "      <th>0</th>\n",
       "      <td>Birds, Illustrated</td>\n",
       "      <td>Color Photography, Vol. 1, No. 1 Various</td>\n",
       "      <td>BIRDS, ILLUSTRATED BY COLOR PHOTOGRAPHY, VOL. ...</td>\n",
       "    </tr>\n",
       "    <tr>\n",
       "      <th>1</th>\n",
       "      <td>Artistic Anatomy of Animals</td>\n",
       "      <td>Édouard Cuyer</td>\n",
       "      <td>ARTISTIC ANATOMY OF ANIMALS *** Produced by Ch...</td>\n",
       "    </tr>\n",
       "    <tr>\n",
       "      <th>2</th>\n",
       "      <td>What Bird is That?</td>\n",
       "      <td>Frank M. Chapman</td>\n",
       "      <td>WHAT BIRD IS THAT? *** Produced by Chris Curno...</td>\n",
       "    </tr>\n",
       "    <tr>\n",
       "      <th>3</th>\n",
       "      <td>Fox Trapping: A Book of Instruction Telling Ho...</td>\n",
       "      <td>NaN</td>\n",
       "      <td>FOX TRAPPING: A BOOK OF INSTRUCTION TELLING HO...</td>\n",
       "    </tr>\n",
       "    <tr>\n",
       "      <th>4</th>\n",
       "      <td>On Snake-Poison: Its Action and Its Antidote</td>\n",
       "      <td>A. Mueller</td>\n",
       "      <td>ON SNAKE-POISON: ITS ACTION AND ITS ANTIDOTE *...</td>\n",
       "    </tr>\n",
       "    <tr>\n",
       "      <th>...</th>\n",
       "      <td>...</td>\n",
       "      <td>...</td>\n",
       "      <td>...</td>\n",
       "    </tr>\n",
       "    <tr>\n",
       "      <th>495</th>\n",
       "      <td>The Works of Horace</td>\n",
       "      <td>Horace</td>\n",
       "      <td>THE WORKS OF HORACE *** Produced by Juliet Sut...</td>\n",
       "    </tr>\n",
       "    <tr>\n",
       "      <th>496</th>\n",
       "      <td>Treatises on Friendship and Old Age</td>\n",
       "      <td>Marcus Tullius Cicero</td>\n",
       "      <td>TREATISES ON FRIENDSHIP AND OLD AGE *** Produc...</td>\n",
       "    </tr>\n",
       "    <tr>\n",
       "      <th>497</th>\n",
       "      <td>The Aeneid of Virgil</td>\n",
       "      <td>Virgil</td>\n",
       "      <td>THE AENEID OF VIRGIL *** Transcriber's note: N...</td>\n",
       "    </tr>\n",
       "    <tr>\n",
       "      <th>498</th>\n",
       "      <td>The Iliad of Homer (1873)</td>\n",
       "      <td>Homer</td>\n",
       "      <td>THE ILIAD *** THE ILIAD OF HOMER, Literally Tr...</td>\n",
       "    </tr>\n",
       "    <tr>\n",
       "      <th>499</th>\n",
       "      <td>The History of Don Quixote, Volume 1, Complete</td>\n",
       "      <td>Miguel de Cervantes Saavedra</td>\n",
       "      <td>THE HISTORY OF DON QUIXOTE, VOLUME 1, COMPLETE...</td>\n",
       "    </tr>\n",
       "  </tbody>\n",
       "</table>\n",
       "<p>491 rows × 3 columns</p>\n",
       "</div>"
      ],
      "text/plain": [
       "                                                 Title  \\\n",
       "0                                   Birds, Illustrated   \n",
       "1                          Artistic Anatomy of Animals   \n",
       "2                                   What Bird is That?   \n",
       "3    Fox Trapping: A Book of Instruction Telling Ho...   \n",
       "4         On Snake-Poison: Its Action and Its Antidote   \n",
       "..                                                 ...   \n",
       "495                                The Works of Horace   \n",
       "496                Treatises on Friendship and Old Age   \n",
       "497                               The Aeneid of Virgil   \n",
       "498                          The Iliad of Homer (1873)   \n",
       "499     The History of Don Quixote, Volume 1, Complete   \n",
       "\n",
       "                                       Author  \\\n",
       "0    Color Photography, Vol. 1, No. 1 Various   \n",
       "1                               Édouard Cuyer   \n",
       "2                            Frank M. Chapman   \n",
       "3                                         NaN   \n",
       "4                                  A. Mueller   \n",
       "..                                        ...   \n",
       "495                                    Horace   \n",
       "496                     Marcus Tullius Cicero   \n",
       "497                                    Virgil   \n",
       "498                                     Homer   \n",
       "499              Miguel de Cervantes Saavedra   \n",
       "\n",
       "                                                  Text  \n",
       "0    BIRDS, ILLUSTRATED BY COLOR PHOTOGRAPHY, VOL. ...  \n",
       "1    ARTISTIC ANATOMY OF ANIMALS *** Produced by Ch...  \n",
       "2    WHAT BIRD IS THAT? *** Produced by Chris Curno...  \n",
       "3    FOX TRAPPING: A BOOK OF INSTRUCTION TELLING HO...  \n",
       "4    ON SNAKE-POISON: ITS ACTION AND ITS ANTIDOTE *...  \n",
       "..                                                 ...  \n",
       "495  THE WORKS OF HORACE *** Produced by Juliet Sut...  \n",
       "496  TREATISES ON FRIENDSHIP AND OLD AGE *** Produc...  \n",
       "497  THE AENEID OF VIRGIL *** Transcriber's note: N...  \n",
       "498  THE ILIAD *** THE ILIAD OF HOMER, Literally Tr...  \n",
       "499  THE HISTORY OF DON QUIXOTE, VOLUME 1, COMPLETE...  \n",
       "\n",
       "[491 rows x 3 columns]"
      ]
     },
     "execution_count": 7,
     "metadata": {},
     "output_type": "execute_result"
    }
   ],
   "source": [
    "df_ = df[df['Author']!= 'Various']\n",
    "df_ = df_[df_['Author']!= 'Anonymous']\n",
    "df_ = df_[df_['Author']!= 'Various Authors']\n",
    "df_ = df_[df_['Author']!= 'Unknown']\n",
    "df_"
   ]
  },
  {
   "cell_type": "code",
   "execution_count": 8,
   "metadata": {},
   "outputs": [
    {
     "data": {
      "text/plain": [
       "(472, 3)"
      ]
     },
     "execution_count": 8,
     "metadata": {},
     "output_type": "execute_result"
    }
   ],
   "source": [
    "df_ = df_[~df_['Author'].isna()]\n",
    "df_.shape"
   ]
  },
  {
   "cell_type": "code",
   "execution_count": 10,
   "metadata": {},
   "outputs": [
    {
     "data": {
      "text/plain": [
       "(429, 3)"
      ]
     },
     "execution_count": 10,
     "metadata": {},
     "output_type": "execute_result"
    }
   ],
   "source": [
    "df_ = df_.drop_duplicates(subset=['Text'], keep='first')\n",
    "df_.shape"
   ]
  },
  {
   "cell_type": "code",
   "execution_count": 13,
   "metadata": {},
   "outputs": [
    {
     "data": {
      "text/html": [
       "<div>\n",
       "<style scoped>\n",
       "    .dataframe tbody tr th:only-of-type {\n",
       "        vertical-align: middle;\n",
       "    }\n",
       "\n",
       "    .dataframe tbody tr th {\n",
       "        vertical-align: top;\n",
       "    }\n",
       "\n",
       "    .dataframe thead th {\n",
       "        text-align: right;\n",
       "    }\n",
       "</style>\n",
       "<table border=\"1\" class=\"dataframe\">\n",
       "  <thead>\n",
       "    <tr style=\"text-align: right;\">\n",
       "      <th></th>\n",
       "      <th>Title</th>\n",
       "      <th>Author</th>\n",
       "      <th>Text</th>\n",
       "    </tr>\n",
       "  </thead>\n",
       "  <tbody>\n",
       "    <tr>\n",
       "      <th>0</th>\n",
       "      <td>Birds, Illustrated</td>\n",
       "      <td>Color Photography, Vol. 1, No. 1 Various</td>\n",
       "      <td>BIRDS, ILLUSTRATED BY COLOR PHOTOGRAPHY, VOL. ...</td>\n",
       "    </tr>\n",
       "    <tr>\n",
       "      <th>1</th>\n",
       "      <td>Artistic Anatomy of Animals</td>\n",
       "      <td>Édouard Cuyer</td>\n",
       "      <td>ARTISTIC ANATOMY OF ANIMALS *** Produced by Ch...</td>\n",
       "    </tr>\n",
       "    <tr>\n",
       "      <th>2</th>\n",
       "      <td>What Bird is That?</td>\n",
       "      <td>Frank M. Chapman</td>\n",
       "      <td>WHAT BIRD IS THAT? *** Produced by Chris Curno...</td>\n",
       "    </tr>\n",
       "    <tr>\n",
       "      <th>4</th>\n",
       "      <td>On Snake-Poison: Its Action and Its Antidote</td>\n",
       "      <td>A. Mueller</td>\n",
       "      <td>ON SNAKE-POISON: ITS ACTION AND ITS ANTIDOTE *...</td>\n",
       "    </tr>\n",
       "    <tr>\n",
       "      <th>5</th>\n",
       "      <td>Deadfalls and Snares</td>\n",
       "      <td>A. R. Harding</td>\n",
       "      <td>DEADFALLS AND SNARES *** Produced by Linda M. ...</td>\n",
       "    </tr>\n",
       "    <tr>\n",
       "      <th>...</th>\n",
       "      <td>...</td>\n",
       "      <td>...</td>\n",
       "      <td>...</td>\n",
       "    </tr>\n",
       "    <tr>\n",
       "      <th>495</th>\n",
       "      <td>The Works of Horace</td>\n",
       "      <td>Horace</td>\n",
       "      <td>THE WORKS OF HORACE *** Produced by Juliet Sut...</td>\n",
       "    </tr>\n",
       "    <tr>\n",
       "      <th>496</th>\n",
       "      <td>Treatises on Friendship and Old Age</td>\n",
       "      <td>Marcus Tullius Cicero</td>\n",
       "      <td>TREATISES ON FRIENDSHIP AND OLD AGE *** Produc...</td>\n",
       "    </tr>\n",
       "    <tr>\n",
       "      <th>497</th>\n",
       "      <td>The Aeneid of Virgil</td>\n",
       "      <td>Virgil</td>\n",
       "      <td>THE AENEID OF VIRGIL *** Transcriber's note: N...</td>\n",
       "    </tr>\n",
       "    <tr>\n",
       "      <th>498</th>\n",
       "      <td>The Iliad of Homer (1873)</td>\n",
       "      <td>Homer</td>\n",
       "      <td>THE ILIAD *** THE ILIAD OF HOMER, Literally Tr...</td>\n",
       "    </tr>\n",
       "    <tr>\n",
       "      <th>499</th>\n",
       "      <td>The History of Don Quixote, Volume 1, Complete</td>\n",
       "      <td>Miguel de Cervantes Saavedra</td>\n",
       "      <td>THE HISTORY OF DON QUIXOTE, VOLUME 1, COMPLETE...</td>\n",
       "    </tr>\n",
       "  </tbody>\n",
       "</table>\n",
       "<p>429 rows × 3 columns</p>\n",
       "</div>"
      ],
      "text/plain": [
       "                                              Title  \\\n",
       "0                                Birds, Illustrated   \n",
       "1                       Artistic Anatomy of Animals   \n",
       "2                                What Bird is That?   \n",
       "4      On Snake-Poison: Its Action and Its Antidote   \n",
       "5                              Deadfalls and Snares   \n",
       "..                                              ...   \n",
       "495                             The Works of Horace   \n",
       "496             Treatises on Friendship and Old Age   \n",
       "497                            The Aeneid of Virgil   \n",
       "498                       The Iliad of Homer (1873)   \n",
       "499  The History of Don Quixote, Volume 1, Complete   \n",
       "\n",
       "                                       Author  \\\n",
       "0    Color Photography, Vol. 1, No. 1 Various   \n",
       "1                               Édouard Cuyer   \n",
       "2                            Frank M. Chapman   \n",
       "4                                  A. Mueller   \n",
       "5                               A. R. Harding   \n",
       "..                                        ...   \n",
       "495                                    Horace   \n",
       "496                     Marcus Tullius Cicero   \n",
       "497                                    Virgil   \n",
       "498                                     Homer   \n",
       "499              Miguel de Cervantes Saavedra   \n",
       "\n",
       "                                                  Text  \n",
       "0    BIRDS, ILLUSTRATED BY COLOR PHOTOGRAPHY, VOL. ...  \n",
       "1    ARTISTIC ANATOMY OF ANIMALS *** Produced by Ch...  \n",
       "2    WHAT BIRD IS THAT? *** Produced by Chris Curno...  \n",
       "4    ON SNAKE-POISON: ITS ACTION AND ITS ANTIDOTE *...  \n",
       "5    DEADFALLS AND SNARES *** Produced by Linda M. ...  \n",
       "..                                                 ...  \n",
       "495  THE WORKS OF HORACE *** Produced by Juliet Sut...  \n",
       "496  TREATISES ON FRIENDSHIP AND OLD AGE *** Produc...  \n",
       "497  THE AENEID OF VIRGIL *** Transcriber's note: N...  \n",
       "498  THE ILIAD *** THE ILIAD OF HOMER, Literally Tr...  \n",
       "499  THE HISTORY OF DON QUIXOTE, VOLUME 1, COMPLETE...  \n",
       "\n",
       "[429 rows x 3 columns]"
      ]
     },
     "execution_count": 13,
     "metadata": {},
     "output_type": "execute_result"
    }
   ],
   "source": [
    "df_"
   ]
  },
  {
   "cell_type": "code",
   "execution_count": 27,
   "metadata": {},
   "outputs": [
    {
     "name": "stdout",
     "output_type": "stream",
     "text": [
      "320\n"
     ]
    },
    {
     "name": "stderr",
     "output_type": "stream",
     "text": [
      "/opt/anaconda3/lib/python3.11/site-packages/seaborn/_oldcore.py:1119: FutureWarning: use_inf_as_na option is deprecated and will be removed in a future version. Convert inf values to NaN before operating instead.\n",
      "  with pd.option_context('mode.use_inf_as_na', True):\n"
     ]
    },
    {
     "data": {
      "image/png": "[encoded data removed]",
      "text/plain": [
       "<Figure size 640x480 with 1 Axes>"
      ]
     },
     "metadata": {},
     "output_type": "display_data"
    }
   ],
   "source": [
    "import re\n",
    "def middle_sentences(text):\n",
    "    text = str(text)\n",
    "    sentences = re.split(r'(?<=[.!?])\\s+', text.strip())\n",
    "    sentences = sentences[int(len(sentences)/3):]\n",
    "    return sentences\n",
    "\n",
    "example_text = df_['Text'].iloc[0]\n",
    "example_sentences = middle_sentences(example_text)\n",
    "print(len(example_sentences))\n",
    "sentence_lengths = [len(sentence) for sentence in example_sentences]\n",
    "sns.histplot(sentence_lengths)\n",
    "plt.show()"
   ]
  },
  {
   "cell_type": "code",
   "execution_count": 28,
   "metadata": {},
   "outputs": [
    {
     "data": {
      "text/plain": [
       "100.790625"
      ]
     },
     "execution_count": 28,
     "metadata": {},
     "output_type": "execute_result"
    }
   ],
   "source": [
    "np.mean(sentence_lengths)"
   ]
  },
  {
   "cell_type": "code",
   "execution_count": 29,
   "metadata": {},
   "outputs": [
    {
     "name": "stderr",
     "output_type": "stream",
     "text": [
      "/opt/anaconda3/lib/python3.11/site-packages/huggingface_hub/file_download.py:1132: FutureWarning: `resume_download` is deprecated and will be removed in version 1.0.0. Downloads always resume when possible. If you want to force a new download, use `force_download=True`.\n",
      "  warnings.warn(\n",
      "Special tokens have been added in the vocabulary, make sure the associated word embeddings are fine-tuned or trained.\n"
     ]
    },
    {
     "data": {
      "text/plain": [
       "'</s>'"
      ]
     },
     "execution_count": 29,
     "metadata": {},
     "output_type": "execute_result"
    }
   ],
   "source": [
    "from transformers import T5Tokenizer\n",
    "tokenizer = T5Tokenizer.from_pretrained('t5-small')\n",
    "tokenizer.pad_token = tokenizer.eos_token\n",
    "tokenizer.pad_token"
   ]
  },
  {
   "cell_type": "code",
   "execution_count": 30,
   "metadata": {},
   "outputs": [
    {
     "name": "stdout",
     "output_type": "stream",
     "text": [
      "320\n"
     ]
    },
    {
     "name": "stderr",
     "output_type": "stream",
     "text": [
      "/opt/anaconda3/lib/python3.11/site-packages/seaborn/_oldcore.py:1119: FutureWarning: use_inf_as_na option is deprecated and will be removed in a future version. Convert inf values to NaN before operating instead.\n",
      "  with pd.option_context('mode.use_inf_as_na', True):\n"
     ]
    },
    {
     "data": {
      "image/png": "[encoded data removed]",
      "text/plain": [
       "<Figure size 640x480 with 1 Axes>"
      ]
     },
     "metadata": {},
     "output_type": "display_data"
    },
    {
     "name": "stdout",
     "output_type": "stream",
     "text": [
      "27.35625\n"
     ]
    }
   ],
   "source": [
    "tokenized_sentences = [tokenizer.encode(sentence) for sentence in example_sentences]\n",
    "print(len(tokenized_sentences))\n",
    "sns.histplot([len(sentence) for sentence in tokenized_sentences])\n",
    "plt.show()\n",
    "print(np.mean([len(sentence) for sentence in tokenized_sentences]))"
   ]
  },
  {
   "cell_type": "code",
   "execution_count": 32,
   "metadata": {},
   "outputs": [
    {
     "data": {
      "text/plain": [
       "429"
      ]
     },
     "execution_count": 32,
     "metadata": {},
     "output_type": "execute_result"
    }
   ],
   "source": [
    "sentences_ = []\n",
    "for text in df_['Text']:\n",
    "    sentences = middle_sentences(text)\n",
    "    sentences_.append(sentences)\n",
    "len(sentences_)"
   ]
  },
  {
   "cell_type": "code",
   "execution_count": 40,
   "metadata": {},
   "outputs": [
    {
     "name": "stderr",
     "output_type": "stream",
     "text": [
      "/opt/anaconda3/lib/python3.11/site-packages/seaborn/_oldcore.py:1119: FutureWarning: use_inf_as_na option is deprecated and will be removed in a future version. Convert inf values to NaN before operating instead.\n",
      "  with pd.option_context('mode.use_inf_as_na', True):\n"
     ]
    },
    {
     "data": {
      "image/png": "[encoded data removed]",
      "text/plain": [
       "<Figure size 640x480 with 1 Axes>"
      ]
     },
     "metadata": {},
     "output_type": "display_data"
    },
    {
     "name": "stdout",
     "output_type": "stream",
     "text": [
      "2094.6270396270397\n"
     ]
    },
    {
     "name": "stderr",
     "output_type": "stream",
     "text": [
      "/opt/anaconda3/lib/python3.11/site-packages/seaborn/_oldcore.py:1119: FutureWarning: use_inf_as_na option is deprecated and will be removed in a future version. Convert inf values to NaN before operating instead.\n",
      "  with pd.option_context('mode.use_inf_as_na', True):\n"
     ]
    },
    {
     "data": {
      "image/png": "[encoded data removed]",
      "text/plain": [
       "<Figure size 640x480 with 1 Axes>"
      ]
     },
     "metadata": {},
     "output_type": "display_data"
    },
    {
     "name": "stdout",
     "output_type": "stream",
     "text": [
      "106.57391587797585 85.0 1 511\n"
     ]
    }
   ],
   "source": [
    "number_sentences = [len(sentences) for sentences in sentences_]\n",
    "sns.histplot(number_sentences)\n",
    "plt.show()\n",
    "print(np.mean(number_sentences))\n",
    "sentence_lengths = [len(sentence) for sentences in sentences_ for sentence in sentences]\n",
    "sentence_lengths = [length for length in sentence_lengths if length < 512]\n",
    "sns.histplot(sentence_lengths)\n",
    "plt.show()\n",
    "print(np.mean(sentence_lengths), np.median(sentence_lengths), np.min(sentence_lengths), np.max(sentence_lengths))"
   ]
  },
  {
   "cell_type": "code",
   "execution_count": 52,
   "metadata": {},
   "outputs": [
    {
     "name": "stdout",
     "output_type": "stream",
     "text": [
      "('Here is the second one!', 'This is the third sentence.', 'Another one follows?', 'And yet another.', 'The final sentence is here.')\n"
     ]
    },
    {
     "data": {
      "text/html": [
       "<div>\n",
       "<style scoped>\n",
       "    .dataframe tbody tr th:only-of-type {\n",
       "        vertical-align: middle;\n",
       "    }\n",
       "\n",
       "    .dataframe tbody tr th {\n",
       "        vertical-align: top;\n",
       "    }\n",
       "\n",
       "    .dataframe thead th {\n",
       "        text-align: right;\n",
       "    }\n",
       "</style>\n",
       "<table border=\"1\" class=\"dataframe\">\n",
       "  <thead>\n",
       "    <tr style=\"text-align: right;\">\n",
       "      <th></th>\n",
       "      <th>Author</th>\n",
       "      <th>Sentence</th>\n",
       "    </tr>\n",
       "  </thead>\n",
       "  <tbody>\n",
       "    <tr>\n",
       "      <th>0</th>\n",
       "      <td>Color Photography, Vol. 1, No. 1 Various</td>\n",
       "      <td>I have not seen all. A ripe fruit catches the ...</td>\n",
       "    </tr>\n",
       "    <tr>\n",
       "      <th>1</th>\n",
       "      <td>Color Photography, Vol. 1, No. 1 Various</td>\n",
       "      <td>See the large ruff around my neck. I can raise...</td>\n",
       "    </tr>\n",
       "    <tr>\n",
       "      <th>2</th>\n",
       "      <td>Color Photography, Vol. 1, No. 1 Various</td>\n",
       "      <td>Then it sounds like two birds singing. My tong...</td>\n",
       "    </tr>\n",
       "    <tr>\n",
       "      <th>3</th>\n",
       "      <td>Color Photography, Vol. 1, No. 1 Various</td>\n",
       "      <td>I now saw that the birds must be seen alive in...</td>\n",
       "    </tr>\n",
       "    <tr>\n",
       "      <th>4</th>\n",
       "      <td>Color Photography, Vol. 1, No. 1 Various</td>\n",
       "      <td>Where shall man wander, and where shall he dwe...</td>\n",
       "    </tr>\n",
       "    <tr>\n",
       "      <th>...</th>\n",
       "      <td>...</td>\n",
       "      <td>...</td>\n",
       "    </tr>\n",
       "    <tr>\n",
       "      <th>2140</th>\n",
       "      <td>Miguel de Cervantes Saavedra</td>\n",
       "      <td>In the coach there was, as afterwards appeared...</td>\n",
       "    </tr>\n",
       "    <tr>\n",
       "      <th>2141</th>\n",
       "      <td>Miguel de Cervantes Saavedra</td>\n",
       "      <td>They went it might be a hundred paces farther,...</td>\n",
       "    </tr>\n",
       "    <tr>\n",
       "      <th>2142</th>\n",
       "      <td>Miguel de Cervantes Saavedra</td>\n",
       "      <td>As soon as he had done bathing his beautiful f...</td>\n",
       "    </tr>\n",
       "    <tr>\n",
       "      <th>2143</th>\n",
       "      <td>Miguel de Cervantes Saavedra</td>\n",
       "      <td>quick; and help my master, who is in the thick...</td>\n",
       "    </tr>\n",
       "    <tr>\n",
       "      <th>2144</th>\n",
       "      <td>Miguel de Cervantes Saavedra</td>\n",
       "      <td>He led by the hand a young girl in a travellin...</td>\n",
       "    </tr>\n",
       "  </tbody>\n",
       "</table>\n",
       "<p>2145 rows × 2 columns</p>\n",
       "</div>"
      ],
      "text/plain": [
       "                                        Author  \\\n",
       "0     Color Photography, Vol. 1, No. 1 Various   \n",
       "1     Color Photography, Vol. 1, No. 1 Various   \n",
       "2     Color Photography, Vol. 1, No. 1 Various   \n",
       "3     Color Photography, Vol. 1, No. 1 Various   \n",
       "4     Color Photography, Vol. 1, No. 1 Various   \n",
       "...                                        ...   \n",
       "2140              Miguel de Cervantes Saavedra   \n",
       "2141              Miguel de Cervantes Saavedra   \n",
       "2142              Miguel de Cervantes Saavedra   \n",
       "2143              Miguel de Cervantes Saavedra   \n",
       "2144              Miguel de Cervantes Saavedra   \n",
       "\n",
       "                                               Sentence  \n",
       "0     I have not seen all. A ripe fruit catches the ...  \n",
       "1     See the large ruff around my neck. I can raise...  \n",
       "2     Then it sounds like two birds singing. My tong...  \n",
       "3     I now saw that the birds must be seen alive in...  \n",
       "4     Where shall man wander, and where shall he dwe...  \n",
       "...                                                 ...  \n",
       "2140  In the coach there was, as afterwards appeared...  \n",
       "2141  They went it might be a hundred paces farther,...  \n",
       "2142  As soon as he had done bathing his beautiful f...  \n",
       "2143  quick; and help my master, who is in the thick...  \n",
       "2144  He led by the hand a young girl in a travellin...  \n",
       "\n",
       "[2145 rows x 2 columns]"
      ]
     },
     "execution_count": 52,
     "metadata": {},
     "output_type": "execute_result"
    }
   ],
   "source": [
    "import re\n",
    "\n",
    "def chunked_sentences(text):\n",
    "    text = str(text)\n",
    "    sentences = re.split(r'(?<=[.!?])\\s+', text.strip())\n",
    "    sentences = sentences[int(len(sentences)/4):]\n",
    "    n = len(sentences)\n",
    "\n",
    "    part1 = \" \".join(sentences[:n//5])\n",
    "    part2 = \" \".join(sentences[n//5:2*n//5])\n",
    "    part3 = \" \".join(sentences[2*n//5:3*n//5])\n",
    "    part4 = \" \".join(sentences[3*n//5:4*n//5])\n",
    "    part5 = \" \".join(sentences[4*n//5:])\n",
    "    \n",
    "    return part1, part2, part3, part4, part5\n",
    "\n",
    "# Example usage:\n",
    "text = \"This is the first sentence. Here is the second one! This is the third sentence. Another one follows? And yet another. The final sentence is here.\"\n",
    "chunks = chunked_sentences(text)\n",
    "print(chunks)\n",
    "sentences_ = []\n",
    "intermediate_df = []\n",
    "for author, text in df_[['Author', 'Text']].values:\n",
    "    sentences = chunked_sentences(text)\n",
    "    sentences_.append(sentences)\n",
    "    for i in range(len(sentences)):\n",
    "        intermediate_df.append((author, sentences[i]))\n",
    "    \n",
    "len(sentences_)\n",
    "sentences_[0]\n",
    "intermediate_df = pd.DataFrame(intermediate_df, columns=['Author', 'Sentence'])\n",
    "intermediate_df"
   ]
  },
  {
   "cell_type": "code",
   "execution_count": 61,
   "metadata": {},
   "outputs": [],
   "source": [
    "import torch\n",
    "\n",
    "author_seq_len = 10\n",
    "sentence_seq_len = 24\n",
    "\n",
    "# Extract authors and sentences as lists\n",
    "authors = intermediate_df[\"Author\"].tolist()\n",
    "sentences = intermediate_df[\"Sentence\"].tolist()\n",
    "\n",
    "# Batch tokenize authors\n",
    "author_tokens = tokenizer(\n",
    "    authors,\n",
    "    truncation=True,\n",
    "    padding='max_length',\n",
    "    max_length=author_seq_len,\n",
    "    return_tensors=\"pt\"  # Returns a PyTorch tensor directly\n",
    ")[\"input_ids\"]\n",
    "\n",
    "# Batch tokenize sentences\n",
    "sentence_tokens = tokenizer(\n",
    "    sentences,\n",
    "    truncation=True,\n",
    "    padding='max_length',\n",
    "    max_length=sentence_seq_len,\n",
    "    return_tensors=\"pt\"\n",
    ")[\"input_ids\"]\n",
    "\n",
    "# Combine into tuples\n",
    "as_tuples = list(zip(author_tokens, sentence_tokens))\n"
   ]
  },
  {
   "cell_type": "code",
   "execution_count": 62,
   "metadata": {},
   "outputs": [
    {
     "data": {
      "text/plain": [
       "(tensor([ 6088, 15380,     6,  4969,     5,  1914,   465,     5,   209,     1]),\n",
       " tensor([   27,    43,    59,   894,    66,     5,    71,     3,  5082,    15,\n",
       "          2728,     3, 23386,     8,   238,     7,   138,    31,     7,  1580,\n",
       "            11,     3,    88,     1]))"
      ]
     },
     "execution_count": 62,
     "metadata": {},
     "output_type": "execute_result"
    }
   ],
   "source": [
    "as_tuples[0]"
   ]
  },
  {
   "cell_type": "code",
   "execution_count": null,
   "metadata": {},
   "outputs": [],
   "source": []
  }
 ],
 "metadata": {
  "kernelspec": {
   "display_name": "base",
   "language": "python",
   "name": "python3"
  },
  "language_info": {
   "codemirror_mode": {
    "name": "ipython",
    "version": 3
   },
   "file_extension": ".py",
   "mimetype": "text/x-python",
   "name": "python",
   "nbconvert_exporter": "python",
   "pygments_lexer": "ipython3",
   "version": "3.11.7"
  }
 },
 "nbformat": 4,
 "nbformat_minor": 2
}
