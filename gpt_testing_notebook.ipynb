{
 "cells": [
  {
   "cell_type": "code",
   "execution_count": 6,
   "metadata": {},
   "outputs": [],
   "source": [
    "import pandas as pd\n",
    "import numpy as np\n",
    "import torch\n",
    "import torch.nn as nn\n",
    "from torch.nn import functional as F"
   ]
  },
  {
   "cell_type": "code",
   "execution_count": 41,
   "metadata": {},
   "outputs": [
    {
     "name": "stdout",
     "output_type": "stream",
     "text": [
      "input read\n",
      "156\n"
     ]
    }
   ],
   "source": [
    "#hyperparameters\n",
    "batch_size = 8 # How many sentences are grouped together during training\n",
    "block_size = 8 # Sentence Length with which one does training. Maximum Context length == Block Size\n",
    "max_iters = 3000\n",
    "eval_interval = 300\n",
    "learning_rate = 1e-4\n",
    "with open('books.txt', 'r', encoding= 'UTF -8') as f:\n",
    "    text = f.read()\n",
    "print(\"input read\")\n",
    "\n",
    "\n",
    "## Vocabulary in our context is the individual characters\n",
    "chars = sorted(list(set(text)))\n",
    "vocab_size = len(chars)\n",
    "print(vocab_size)"
   ]
  },
  {
   "cell_type": "code",
   "execution_count": 42,
   "metadata": {},
   "outputs": [],
   "source": [
    "stoi = {ch:i for i,ch in enumerate(chars)}\n",
    "itos = {i:ch for i,ch in enumerate(chars)}\n",
    "encode = lambda s: [stoi[c] for c in s]\n",
    "decode = lambda i: ''.join(itos[l] for l in i)"
   ]
  },
  {
   "cell_type": "code",
   "execution_count": 43,
   "metadata": {},
   "outputs": [],
   "source": [
    "df = pd.read_csv('dataframe_testing.csv')\n",
    "df = df.drop(columns=['Link'])"
   ]
  },
  {
   "cell_type": "code",
   "execution_count": 56,
   "metadata": {},
   "outputs": [
    {
     "name": "stdout",
     "output_type": "stream",
     "text": [
      "10\n",
      "8 2\n",
      "tensor([1])\n"
     ]
    },
    {
     "data": {
      "text/plain": [
       "(tensor([[88,  1, 91,  1, 32, 77, 72, 76],\n",
       "         [81, 77, 64, 67, 64, 88,  1, 91],\n",
       "         [91,  1, 54, 72, 75, 75, 72, 64],\n",
       "         [77, 64, 67, 64, 88,  1, 91,  1],\n",
       "         [68, 81, 72, 66, 64, 77,  1, 33],\n",
       "         [82, 78, 77,  1, 91,  1, 54, 72],\n",
       "         [72, 64, 76,  1, 51, 15,  1, 39],\n",
       "         [ 1, 33, 72, 82, 78, 77,  1, 91]]),\n",
       " tensor([[78,  1, 72, 83,  1, 69, 78, 81],\n",
       "         [81, 68, 66, 68, 72, 85, 68,  1],\n",
       "         [84, 81, 68,  1, 72, 82,  1, 83],\n",
       "         [68,  1, 83, 78,  1, 83, 71, 68],\n",
       "         [77, 67,  1,  3, 71, 72, 67, 68],\n",
       "         [68, 81, 88,  1, 78, 75, 67,  1],\n",
       "         [64, 13,  1, 65, 88,  1, 32, 81],\n",
       "         [72, 77, 70,  1, 68, 64, 82, 83]]))"
      ]
     },
     "execution_count": 56,
     "metadata": {},
     "output_type": "execute_result"
    }
   ],
   "source": [
    "\n",
    "\n",
    "\n",
    "def prepare_data(df):\n",
    "    train_data = []\n",
    "\n",
    "    for _, row in df.iterrows():\n",
    "        encoder_input = f\"{row['Title']} | {row['Author']} | {row['Bookshelf']}\"\n",
    "        decoder_input = row['Text']  # Take a chunk of the text\n",
    "\n",
    "        enc_tokens = encode(encoder_input)\n",
    "        dec_tokens = encode(decoder_input)\n",
    "\n",
    "        train_data.append((torch.tensor(enc_tokens, dtype=torch.long), torch.tensor(dec_tokens, dtype=torch.long)))\n",
    "\n",
    "    return train_data\n",
    "\n",
    "tokenized_data = prepare_data(df)\n",
    "data_len = len(tokenized_data)\n",
    "print(len(tokenized_data))\n",
    "\n",
    "n = int(0.8*data_len)\n",
    "train_data = tokenized_data[:n]\n",
    "val_data = tokenized_data[n:]\n",
    "\n",
    "def get_batch_encoder_decoder(split):\n",
    "    if split == 'train':\n",
    "        data = train_data\n",
    "    else:\n",
    "        data = val_data\n",
    "    data_idx = torch.randint(len(data), (1,))\n",
    "    print(data_idx)\n",
    "    encoder_input = data[data_idx.item()][0]\n",
    "    ix = torch.randint(len(encoder_input)-block_size, (batch_size,))\n",
    "    x = torch.stack([encoder_input[i:i+block_size] for i in ix])\n",
    "    decoder_input = data[data_idx.item()][1]\n",
    "    ix = torch.randint(len(decoder_input)-block_size, (batch_size,))\n",
    "    y = torch.stack([decoder_input[i:i+block_size] for i in ix])\n",
    "    return x, y\n",
    "\n",
    "xb, yb = get_batch_encoder_decoder('val')\n",
    "xb, yb\n"
   ]
  },
  {
   "cell_type": "code",
   "execution_count": null,
   "metadata": {},
   "outputs": [],
   "source": []
  }
 ],
 "metadata": {
  "kernelspec": {
   "display_name": "base",
   "language": "python",
   "name": "python3"
  },
  "language_info": {
   "codemirror_mode": {
    "name": "ipython",
    "version": 3
   },
   "file_extension": ".py",
   "mimetype": "text/x-python",
   "name": "python",
   "nbconvert_exporter": "python",
   "pygments_lexer": "ipython3",
   "version": "3.11.7"
  }
 },
 "nbformat": 4,
 "nbformat_minor": 2
}
