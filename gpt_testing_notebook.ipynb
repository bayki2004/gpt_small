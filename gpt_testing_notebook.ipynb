{
 "cells": [
  {
   "cell_type": "code",
   "execution_count": 1,
   "metadata": {},
   "outputs": [],
   "source": [
    "import pandas as pd\n",
    "import numpy as np"
   ]
  },
  {
   "cell_type": "code",
   "execution_count": 2,
   "metadata": {},
   "outputs": [
    {
     "name": "stdout",
     "output_type": "stream",
     "text": [
      "length of dataset in characters: 42238758\n"
     ]
    }
   ],
   "source": [
    "with open('books.txt', 'r', encoding= 'UTF -8') as f:\n",
    "    text = f.read()\n",
    "\n",
    "print(f\"length of dataset in characters: {len(text)}\")"
   ]
  },
  {
   "cell_type": "code",
   "execution_count": 3,
   "metadata": {},
   "outputs": [
    {
     "name": "stdout",
     "output_type": "stream",
     "text": [
      "The Project Gutenberg eBook of Birds, Illustrated by Color Photography, Vol. 1, No. 1 This ebook is for the use of anyone anywhere in the United States and most other parts of the world at no cost and with almost no restrictions whatsoever. You may copy it, give it away or re-use it under the terms of the Project Gutenberg License included with this ebook or online at www.gutenberg.org. If you are not located in the United States, you will have to check the laws of the country where you are located before using this eBook. Title: Birds, Illustrated by Color Photography, Vol. 1, No. 1 Author: Various Release date: October 9, 2009 [eBook #30221] Most recently updated: October 24, 2024 Language: English Credits: Produced by Chris Curnow, Joseph Cooper, Anne Storer, some images courtesy of The Internet Archive and the Online Distributed Proofreading Team at https://www.pgdp.net *** START OF THE PROJECT GUTENBERG EBOOK BIRDS, ILLUSTRATED BY COLOR PHOTOGRAPHY, VOL. 1, NO. 1 *** FROM: THE PR\n"
     ]
    }
   ],
   "source": [
    "print(text[:1000])"
   ]
  },
  {
   "cell_type": "code",
   "execution_count": 4,
   "metadata": {},
   "outputs": [
    {
     "name": "stdout",
     "output_type": "stream",
     "text": [
      "vocabulary size: 156\n",
      "vocabulary: ['\\n', ' ', '!', '\"', '#', '$', '%', '&', \"'\", '(', ')', '*', '+', ',', '-', '.', '/', '0', '1', '2', '3', '4', '5', '6', '7', '8', '9', ':', ';', '=', '>', '?', 'A', 'B', 'C', 'D', 'E', 'F', 'G', 'H', 'I', 'J', 'K', 'L', 'M', 'N', 'O', 'P', 'Q', 'R', 'S', 'T', 'U', 'V', 'W', 'X', 'Y', 'Z', '[', '\\\\', ']', '^', '_', '`', 'a', 'b', 'c', 'd', 'e', 'f', 'g', 'h', 'i', 'j', 'k', 'l', 'm', 'n', 'o', 'p', 'q', 'r', 's', 't', 'u', 'v', 'w', 'x', 'y', 'z', '{', '|', '}', '~', '£', '§', '©', '°', '´', '·', '¹', 'º', '¼', '½', '¾', 'Á', 'Â', 'Ä', 'Æ', 'Ç', 'È', 'É', 'Ë', 'Î', 'Ó', 'Ô', 'Ö', '×', 'Ü', 'à', 'á', 'â', 'ã', 'ä', 'æ', 'ç', 'è', 'é', 'ê', 'ë', 'ì', 'í', 'î', 'ï', 'ñ', 'ò', 'ó', 'ô', 'ö', '÷', 'ù', 'ú', 'û', 'ü', 'ý', 'Œ', 'œ', '—', '‘', '’', '“', '”', '•', '′', '™', '\\ufeff']\n"
     ]
    }
   ],
   "source": [
    "chars = sorted(list(set(text)))\n",
    "vocab_size = len(chars)\n",
    "print(f\"vocabulary size: {vocab_size}\")\n",
    "print(f\"vocabulary: {chars}\")"
   ]
  },
  {
   "cell_type": "code",
   "execution_count": 5,
   "metadata": {},
   "outputs": [
    {
     "name": "stdout",
     "output_type": "stream",
     "text": [
      "[71, 68, 75, 75, 78, 1, 83, 71, 68, 81, 68]\n",
      "hello there\n"
     ]
    }
   ],
   "source": [
    "stoi = {ch:i for i,ch in enumerate(chars)}\n",
    "itos = {i:ch for i,ch in enumerate(chars)}\n",
    "encode = lambda s: [stoi[c] for c in s]\n",
    "decode = lambda i: ''.join(itos[l] for l in i)\n",
    "\n",
    "print(encode('hello there'))\n",
    "print(decode(encode('hello there')))"
   ]
  },
  {
   "cell_type": "code",
   "execution_count": 7,
   "metadata": {},
   "outputs": [
    {
     "name": "stdout",
     "output_type": "stream",
     "text": [
      "tensor([155,  51,  71,  68,   1,  47,  81,  78,  73,  68,  66,  83,   1,  38,\n",
      "         84,  83,  68,  77,  65,  68,  81,  70,   1,  68,  33,  78,  78,  74,\n",
      "          1,  78,  69,   1,  33,  72,  81,  67,  82,  13,   1,  40,  75,  75,\n",
      "         84,  82,  83,  81,  64,  83,  68,  67,   1,  65,  88,   1,  34,  78,\n",
      "         75,  78,  81,   1,  47,  71,  78,  83,  78,  70,  81,  64,  79,  71,\n",
      "         88,  13,   1,  53,  78,  75,  15,   1,  18,  13,   1,  45,  78,  15,\n",
      "          1,  18,   1,  51,  71,  72,  82,   1,  68,  65,  78,  78,  74,   1,\n",
      "         72,  82])\n",
      "torch.Size([42238758])\n"
     ]
    }
   ],
   "source": [
    "import torch \n",
    "data = torch.tensor(encode(text), dtype=torch.long)\n",
    "print(data[:100])\n",
    "print(data.shape)"
   ]
  },
  {
   "cell_type": "code",
   "execution_count": 9,
   "metadata": {},
   "outputs": [
    {
     "name": "stdout",
     "output_type": "stream",
     "text": [
      "torch.Size([38014882]) 4223876\n"
     ]
    }
   ],
   "source": [
    "n = int(0.9*len(text))\n",
    "train_data = data[:n]\n",
    "val_data = data[n:]\n",
    "print(train_data.shape, val_data.shape)"
   ]
  },
  {
   "cell_type": "code",
   "execution_count": 10,
   "metadata": {},
   "outputs": [
    {
     "data": {
      "text/plain": [
       "tensor([155,  51,  71,  68,   1,  47,  81,  78,  73])"
      ]
     },
     "execution_count": 10,
     "metadata": {},
     "output_type": "execute_result"
    }
   ],
   "source": [
    "block_size = 8\n",
    "train_data[:block_size+1]\n"
   ]
  },
  {
   "cell_type": "code",
   "execution_count": 11,
   "metadata": {},
   "outputs": [
    {
     "name": "stdout",
     "output_type": "stream",
     "text": [
      "when input is tensor([155]) target is: 51\n",
      "when input is tensor([155,  51]) target is: 71\n",
      "when input is tensor([155,  51,  71]) target is: 68\n",
      "when input is tensor([155,  51,  71,  68]) target is: 1\n",
      "when input is tensor([155,  51,  71,  68,   1]) target is: 47\n",
      "when input is tensor([155,  51,  71,  68,   1,  47]) target is: 81\n",
      "when input is tensor([155,  51,  71,  68,   1,  47,  81]) target is: 78\n",
      "when input is tensor([155,  51,  71,  68,   1,  47,  81,  78]) target is: 73\n"
     ]
    }
   ],
   "source": [
    "x_train = train_data[:block_size+1]\n",
    "y_train = train_data[1:block_size+1]\n",
    "for t in range(block_size):\n",
    "    context = x_train[:t+1]\n",
    "    target = y_train[t]\n",
    "    print(f\"when input is {context} target is: {target}\")"
   ]
  },
  {
   "cell_type": "code",
   "execution_count": 15,
   "metadata": {},
   "outputs": [
    {
     "name": "stdout",
     "output_type": "stream",
     "text": [
      "torch.Size([4]) 38014874 4\n",
      "inputs:\n",
      "torch.Size([4, 8])\n",
      "tensor([[28,  1, 78, 65, 82, 68, 81, 85],\n",
      "        [86, 77,  1, 64, 66, 66, 78, 81],\n",
      "        [ 1, 77, 78, 83, 72, 69, 72, 68],\n",
      "        [62,  1, 74, 77, 78, 86,  1, 83]])\n",
      "targets:\n",
      "torch.Size([4, 8])\n",
      "tensor([[ 1, 78, 65, 82, 68, 81, 85, 68],\n",
      "        [77,  1, 64, 66, 66, 78, 81, 67],\n",
      "        [77, 78, 83, 72, 69, 72, 68, 67],\n",
      "        [ 1, 74, 77, 78, 86,  1, 83, 71]])\n"
     ]
    }
   ],
   "source": [
    "torch.manual_seed(1337)\n",
    "batch_size = 4 #how many independent sequences we process in parallel\n",
    "block_size = 8 #maximum context length for predictions\n",
    "\n",
    "def get_batch(split):\n",
    "    #generate a small batch of data of inputs x and y\n",
    "    data = train_data if split == 'train' else val_data\n",
    "    ix = torch.randint(len(data)-block_size, (batch_size,))\n",
    "    print(ix.shape, len(data)-block_size, batch_size)\n",
    "    x = torch.stack([data[i:i+block_size] for i in ix])\n",
    "    y = torch.stack([data[i+1:i+1+block_size] for i in ix])\n",
    "    return x, y\n",
    "\n",
    "xb, yb = get_batch('train')\n",
    "print('inputs:')\n",
    "print(xb.shape)\n",
    "print(xb)\n",
    "print('targets:')\n",
    "print(yb.shape)\n",
    "print(yb)\n"
   ]
  },
  {
   "cell_type": "code",
   "execution_count": 23,
   "metadata": {},
   "outputs": [
    {
     "data": {
      "text/html": [
       "<div>\n",
       "<style scoped>\n",
       "    .dataframe tbody tr th:only-of-type {\n",
       "        vertical-align: middle;\n",
       "    }\n",
       "\n",
       "    .dataframe tbody tr th {\n",
       "        vertical-align: top;\n",
       "    }\n",
       "\n",
       "    .dataframe thead th {\n",
       "        text-align: right;\n",
       "    }\n",
       "</style>\n",
       "<table border=\"1\" class=\"dataframe\">\n",
       "  <thead>\n",
       "    <tr style=\"text-align: right;\">\n",
       "      <th></th>\n",
       "      <th>Title</th>\n",
       "      <th>Author</th>\n",
       "      <th>Bookshelf</th>\n",
       "      <th>Text</th>\n",
       "    </tr>\n",
       "  </thead>\n",
       "  <tbody>\n",
       "    <tr>\n",
       "      <th>0</th>\n",
       "      <td>Birds, Illustrated</td>\n",
       "      <td>Color Photography, Vol. 1, No. 1 Various</td>\n",
       "      <td>Animal</td>\n",
       "      <td>﻿The Project Gutenberg eBook of Birds, Illustr...</td>\n",
       "    </tr>\n",
       "    <tr>\n",
       "      <th>1</th>\n",
       "      <td>Artistic Anatomy of Animals</td>\n",
       "      <td>Édouard Cuyer</td>\n",
       "      <td>Animal</td>\n",
       "      <td>﻿The Project Gutenberg eBook of Artistic Anato...</td>\n",
       "    </tr>\n",
       "    <tr>\n",
       "      <th>2</th>\n",
       "      <td>What Bird is That?</td>\n",
       "      <td>Frank M. Chapman</td>\n",
       "      <td>Animal</td>\n",
       "      <td>﻿The Project Gutenberg eBook of What Bird is T...</td>\n",
       "    </tr>\n",
       "    <tr>\n",
       "      <th>3</th>\n",
       "      <td>Fox Trapping: A Book of Instruction Telling Ho...</td>\n",
       "      <td>NaN</td>\n",
       "      <td>Animal</td>\n",
       "      <td>﻿The Project Gutenberg eBook of Fox Trapping: ...</td>\n",
       "    </tr>\n",
       "    <tr>\n",
       "      <th>4</th>\n",
       "      <td>On Snake-Poison: Its Action and Its Antidote</td>\n",
       "      <td>A. Mueller</td>\n",
       "      <td>Animal</td>\n",
       "      <td>﻿The Project Gutenberg eBook of On Snake-Poiso...</td>\n",
       "    </tr>\n",
       "    <tr>\n",
       "      <th>5</th>\n",
       "      <td>Deadfalls and Snares</td>\n",
       "      <td>A. R. Harding</td>\n",
       "      <td>Animal</td>\n",
       "      <td>﻿The Project Gutenberg eBook of Deadfalls and ...</td>\n",
       "    </tr>\n",
       "    <tr>\n",
       "      <th>6</th>\n",
       "      <td>A Guide for the Study of Animals</td>\n",
       "      <td>Lucas, Shinn, Smallwood, and Whitney</td>\n",
       "      <td>Animal</td>\n",
       "      <td>﻿The Project Gutenberg eBook of A Guide for th...</td>\n",
       "    </tr>\n",
       "    <tr>\n",
       "      <th>7</th>\n",
       "      <td>Fifty Years a Hunter and Trapper</td>\n",
       "      <td>E. N. Woodcock</td>\n",
       "      <td>Animal</td>\n",
       "      <td>﻿The Project Gutenberg eBook of Fifty Years a ...</td>\n",
       "    </tr>\n",
       "    <tr>\n",
       "      <th>8</th>\n",
       "      <td>Our Vanishing Wild Life: Its Extermination and...</td>\n",
       "      <td>William T. Hornaday</td>\n",
       "      <td>Animal</td>\n",
       "      <td>﻿The Project Gutenberg eBook of Our Vanishing ...</td>\n",
       "    </tr>\n",
       "    <tr>\n",
       "      <th>9</th>\n",
       "      <td>The Extermination of the American Bison</td>\n",
       "      <td>William T. Hornaday</td>\n",
       "      <td>Animal</td>\n",
       "      <td>﻿The Project Gutenberg eBook of The Exterminat...</td>\n",
       "    </tr>\n",
       "  </tbody>\n",
       "</table>\n",
       "</div>"
      ],
      "text/plain": [
       "                                               Title  \\\n",
       "0                                 Birds, Illustrated   \n",
       "1                        Artistic Anatomy of Animals   \n",
       "2                                 What Bird is That?   \n",
       "3  Fox Trapping: A Book of Instruction Telling Ho...   \n",
       "4       On Snake-Poison: Its Action and Its Antidote   \n",
       "5                               Deadfalls and Snares   \n",
       "6                   A Guide for the Study of Animals   \n",
       "7                   Fifty Years a Hunter and Trapper   \n",
       "8  Our Vanishing Wild Life: Its Extermination and...   \n",
       "9            The Extermination of the American Bison   \n",
       "\n",
       "                                     Author Bookshelf  \\\n",
       "0  Color Photography, Vol. 1, No. 1 Various    Animal   \n",
       "1                             Édouard Cuyer    Animal   \n",
       "2                          Frank M. Chapman    Animal   \n",
       "3                                       NaN    Animal   \n",
       "4                                A. Mueller    Animal   \n",
       "5                             A. R. Harding    Animal   \n",
       "6      Lucas, Shinn, Smallwood, and Whitney    Animal   \n",
       "7                            E. N. Woodcock    Animal   \n",
       "8                       William T. Hornaday    Animal   \n",
       "9                       William T. Hornaday    Animal   \n",
       "\n",
       "                                                Text  \n",
       "0  ﻿The Project Gutenberg eBook of Birds, Illustr...  \n",
       "1  ﻿The Project Gutenberg eBook of Artistic Anato...  \n",
       "2  ﻿The Project Gutenberg eBook of What Bird is T...  \n",
       "3  ﻿The Project Gutenberg eBook of Fox Trapping: ...  \n",
       "4  ﻿The Project Gutenberg eBook of On Snake-Poiso...  \n",
       "5  ﻿The Project Gutenberg eBook of Deadfalls and ...  \n",
       "6  ﻿The Project Gutenberg eBook of A Guide for th...  \n",
       "7  ﻿The Project Gutenberg eBook of Fifty Years a ...  \n",
       "8  ﻿The Project Gutenberg eBook of Our Vanishing ...  \n",
       "9  ﻿The Project Gutenberg eBook of The Exterminat...  "
      ]
     },
     "execution_count": 23,
     "metadata": {},
     "output_type": "execute_result"
    }
   ],
   "source": [
    "df = pd.read_csv('gutenberg_data_with_text.csv', nrows=10)\n",
    "df = df.drop(labels=['Link'], axis=1)\n",
    "df"
   ]
  },
  {
   "cell_type": "code",
   "execution_count": 26,
   "metadata": {},
   "outputs": [
    {
     "data": {
      "text/html": [
       "<div>\n",
       "<style scoped>\n",
       "    .dataframe tbody tr th:only-of-type {\n",
       "        vertical-align: middle;\n",
       "    }\n",
       "\n",
       "    .dataframe tbody tr th {\n",
       "        vertical-align: top;\n",
       "    }\n",
       "\n",
       "    .dataframe thead th {\n",
       "        text-align: right;\n",
       "    }\n",
       "</style>\n",
       "<table border=\"1\" class=\"dataframe\">\n",
       "  <thead>\n",
       "    <tr style=\"text-align: right;\">\n",
       "      <th></th>\n",
       "      <th>Title</th>\n",
       "      <th>Author</th>\n",
       "      <th>Bookshelf</th>\n",
       "      <th>Text</th>\n",
       "      <th>encoder_input</th>\n",
       "    </tr>\n",
       "  </thead>\n",
       "  <tbody>\n",
       "    <tr>\n",
       "      <th>0</th>\n",
       "      <td>Birds, Illustrated</td>\n",
       "      <td>Color Photography, Vol. 1, No. 1 Various</td>\n",
       "      <td>Animal</td>\n",
       "      <td>﻿The Project Gutenberg eBook of Birds, Illustr...</td>\n",
       "      <td>Birds, Illustrated Color Photography, Vol. 1, ...</td>\n",
       "    </tr>\n",
       "    <tr>\n",
       "      <th>1</th>\n",
       "      <td>Artistic Anatomy of Animals</td>\n",
       "      <td>Édouard Cuyer</td>\n",
       "      <td>Animal</td>\n",
       "      <td>﻿The Project Gutenberg eBook of Artistic Anato...</td>\n",
       "      <td>Artistic Anatomy of Animals Édouard Cuyer Animal</td>\n",
       "    </tr>\n",
       "    <tr>\n",
       "      <th>2</th>\n",
       "      <td>What Bird is That?</td>\n",
       "      <td>Frank M. Chapman</td>\n",
       "      <td>Animal</td>\n",
       "      <td>﻿The Project Gutenberg eBook of What Bird is T...</td>\n",
       "      <td>What Bird is That? Frank M. Chapman Animal</td>\n",
       "    </tr>\n",
       "    <tr>\n",
       "      <th>3</th>\n",
       "      <td>Fox Trapping: A Book of Instruction Telling Ho...</td>\n",
       "      <td>NaN</td>\n",
       "      <td>Animal</td>\n",
       "      <td>﻿The Project Gutenberg eBook of Fox Trapping: ...</td>\n",
       "      <td>NaN</td>\n",
       "    </tr>\n",
       "    <tr>\n",
       "      <th>4</th>\n",
       "      <td>On Snake-Poison: Its Action and Its Antidote</td>\n",
       "      <td>A. Mueller</td>\n",
       "      <td>Animal</td>\n",
       "      <td>﻿The Project Gutenberg eBook of On Snake-Poiso...</td>\n",
       "      <td>On Snake-Poison: Its Action and Its Antidote A...</td>\n",
       "    </tr>\n",
       "    <tr>\n",
       "      <th>5</th>\n",
       "      <td>Deadfalls and Snares</td>\n",
       "      <td>A. R. Harding</td>\n",
       "      <td>Animal</td>\n",
       "      <td>﻿The Project Gutenberg eBook of Deadfalls and ...</td>\n",
       "      <td>Deadfalls and Snares A. R. Harding Animal</td>\n",
       "    </tr>\n",
       "    <tr>\n",
       "      <th>6</th>\n",
       "      <td>A Guide for the Study of Animals</td>\n",
       "      <td>Lucas, Shinn, Smallwood, and Whitney</td>\n",
       "      <td>Animal</td>\n",
       "      <td>﻿The Project Gutenberg eBook of A Guide for th...</td>\n",
       "      <td>A Guide for the Study of Animals Lucas, Shinn,...</td>\n",
       "    </tr>\n",
       "    <tr>\n",
       "      <th>7</th>\n",
       "      <td>Fifty Years a Hunter and Trapper</td>\n",
       "      <td>E. N. Woodcock</td>\n",
       "      <td>Animal</td>\n",
       "      <td>﻿The Project Gutenberg eBook of Fifty Years a ...</td>\n",
       "      <td>Fifty Years a Hunter and Trapper E. N. Woodcoc...</td>\n",
       "    </tr>\n",
       "    <tr>\n",
       "      <th>8</th>\n",
       "      <td>Our Vanishing Wild Life: Its Extermination and...</td>\n",
       "      <td>William T. Hornaday</td>\n",
       "      <td>Animal</td>\n",
       "      <td>﻿The Project Gutenberg eBook of Our Vanishing ...</td>\n",
       "      <td>Our Vanishing Wild Life: Its Extermination and...</td>\n",
       "    </tr>\n",
       "    <tr>\n",
       "      <th>9</th>\n",
       "      <td>The Extermination of the American Bison</td>\n",
       "      <td>William T. Hornaday</td>\n",
       "      <td>Animal</td>\n",
       "      <td>﻿The Project Gutenberg eBook of The Exterminat...</td>\n",
       "      <td>The Extermination of the American Bison Willia...</td>\n",
       "    </tr>\n",
       "  </tbody>\n",
       "</table>\n",
       "</div>"
      ],
      "text/plain": [
       "                                               Title  \\\n",
       "0                                 Birds, Illustrated   \n",
       "1                        Artistic Anatomy of Animals   \n",
       "2                                 What Bird is That?   \n",
       "3  Fox Trapping: A Book of Instruction Telling Ho...   \n",
       "4       On Snake-Poison: Its Action and Its Antidote   \n",
       "5                               Deadfalls and Snares   \n",
       "6                   A Guide for the Study of Animals   \n",
       "7                   Fifty Years a Hunter and Trapper   \n",
       "8  Our Vanishing Wild Life: Its Extermination and...   \n",
       "9            The Extermination of the American Bison   \n",
       "\n",
       "                                     Author Bookshelf  \\\n",
       "0  Color Photography, Vol. 1, No. 1 Various    Animal   \n",
       "1                             Édouard Cuyer    Animal   \n",
       "2                          Frank M. Chapman    Animal   \n",
       "3                                       NaN    Animal   \n",
       "4                                A. Mueller    Animal   \n",
       "5                             A. R. Harding    Animal   \n",
       "6      Lucas, Shinn, Smallwood, and Whitney    Animal   \n",
       "7                            E. N. Woodcock    Animal   \n",
       "8                       William T. Hornaday    Animal   \n",
       "9                       William T. Hornaday    Animal   \n",
       "\n",
       "                                                Text  \\\n",
       "0  ﻿The Project Gutenberg eBook of Birds, Illustr...   \n",
       "1  ﻿The Project Gutenberg eBook of Artistic Anato...   \n",
       "2  ﻿The Project Gutenberg eBook of What Bird is T...   \n",
       "3  ﻿The Project Gutenberg eBook of Fox Trapping: ...   \n",
       "4  ﻿The Project Gutenberg eBook of On Snake-Poiso...   \n",
       "5  ﻿The Project Gutenberg eBook of Deadfalls and ...   \n",
       "6  ﻿The Project Gutenberg eBook of A Guide for th...   \n",
       "7  ﻿The Project Gutenberg eBook of Fifty Years a ...   \n",
       "8  ﻿The Project Gutenberg eBook of Our Vanishing ...   \n",
       "9  ﻿The Project Gutenberg eBook of The Exterminat...   \n",
       "\n",
       "                                       encoder_input  \n",
       "0  Birds, Illustrated Color Photography, Vol. 1, ...  \n",
       "1   Artistic Anatomy of Animals Édouard Cuyer Animal  \n",
       "2         What Bird is That? Frank M. Chapman Animal  \n",
       "3                                                NaN  \n",
       "4  On Snake-Poison: Its Action and Its Antidote A...  \n",
       "5          Deadfalls and Snares A. R. Harding Animal  \n",
       "6  A Guide for the Study of Animals Lucas, Shinn,...  \n",
       "7  Fifty Years a Hunter and Trapper E. N. Woodcoc...  \n",
       "8  Our Vanishing Wild Life: Its Extermination and...  \n",
       "9  The Extermination of the American Bison Willia...  "
      ]
     },
     "execution_count": 26,
     "metadata": {},
     "output_type": "execute_result"
    }
   ],
   "source": [
    "df['encoder_input'] = df['Title'] + \" \" + df['Author'] + \" \" + df['Bookshelf']\n",
    "df"
   ]
  },
  {
   "cell_type": "code",
   "execution_count": 31,
   "metadata": {},
   "outputs": [
    {
     "data": {
      "text/plain": [
       "[' ',\n",
       " '!',\n",
       " '\"',\n",
       " '#',\n",
       " '$',\n",
       " '%',\n",
       " '&',\n",
       " \"'\",\n",
       " '(',\n",
       " ')',\n",
       " '*',\n",
       " '+',\n",
       " ',',\n",
       " '-',\n",
       " '.',\n",
       " '/',\n",
       " '0',\n",
       " '1',\n",
       " '2',\n",
       " '3',\n",
       " '4',\n",
       " '5',\n",
       " '6',\n",
       " '7',\n",
       " '8',\n",
       " '9',\n",
       " ':',\n",
       " ';',\n",
       " '=',\n",
       " '?',\n",
       " 'A',\n",
       " 'B',\n",
       " 'C',\n",
       " 'D',\n",
       " 'E',\n",
       " 'F',\n",
       " 'G',\n",
       " 'H',\n",
       " 'I',\n",
       " 'J',\n",
       " 'K',\n",
       " 'L',\n",
       " 'M',\n",
       " 'N',\n",
       " 'O',\n",
       " 'P',\n",
       " 'Q',\n",
       " 'R',\n",
       " 'S',\n",
       " 'T',\n",
       " 'U',\n",
       " 'V',\n",
       " 'W',\n",
       " 'X',\n",
       " 'Y',\n",
       " 'Z',\n",
       " '[',\n",
       " ']',\n",
       " '^',\n",
       " '_',\n",
       " 'a',\n",
       " 'b',\n",
       " 'c',\n",
       " 'd',\n",
       " 'e',\n",
       " 'f',\n",
       " 'g',\n",
       " 'h',\n",
       " 'i',\n",
       " 'j',\n",
       " 'k',\n",
       " 'l',\n",
       " 'm',\n",
       " 'n',\n",
       " 'o',\n",
       " 'p',\n",
       " 'q',\n",
       " 'r',\n",
       " 's',\n",
       " 't',\n",
       " 'u',\n",
       " 'v',\n",
       " 'w',\n",
       " 'x',\n",
       " 'y',\n",
       " 'z',\n",
       " '|',\n",
       " '£',\n",
       " '§',\n",
       " '°',\n",
       " '´',\n",
       " '·',\n",
       " '¹',\n",
       " 'Æ',\n",
       " 'È',\n",
       " 'É',\n",
       " '×',\n",
       " 'â',\n",
       " 'ä',\n",
       " 'æ',\n",
       " 'è',\n",
       " 'é',\n",
       " 'ê',\n",
       " 'ë',\n",
       " 'í',\n",
       " 'î',\n",
       " 'ñ',\n",
       " 'ó',\n",
       " 'ô',\n",
       " 'ö',\n",
       " 'ú',\n",
       " 'ü',\n",
       " '—',\n",
       " '‘',\n",
       " '’',\n",
       " '“',\n",
       " '”',\n",
       " '•',\n",
       " '™',\n",
       " '\\ufeff']"
      ]
     },
     "execution_count": 31,
     "metadata": {},
     "output_type": "execute_result"
    }
   ],
   "source": [
    "# Ensure all values are converted to strings before joining\n",
    "chars = sorted(list(set(' '.join(df['encoder_input'].astype(str).values) + ' '.join(df['Text'].astype(str).values))))\n",
    "len(chars)"
   ]
  },
  {
   "cell_type": "code",
   "execution_count": 33,
   "metadata": {},
   "outputs": [
    {
     "name": "stdout",
     "output_type": "stream",
     "text": [
      "mps\n",
      "155\n"
     ]
    }
   ],
   "source": [
    "import pandas as pd\n",
    "import numpy as np\n",
    "import torch\n",
    "import torch.nn as nn\n",
    "from torch.nn import functional as F\n",
    "\n",
    "#hyperparameters\n",
    "batch_size = 32\n",
    "block_size = 8\n",
    "max_iters = 3000\n",
    "eval_interval = 300\n",
    "learning_rate = 1e-4\n",
    "n_embd = 8\n",
    "device = 'mps' if torch.backends.mps.is_available() else 'cpu'\n",
    "\n",
    "print(device)\n",
    "eval_iters = 200\n",
    "n_head = 8\n",
    "n_layer = 6\n",
    "dropout = 0.2\n",
    "torch.manual_seed(1337)\n",
    "\n",
    "\n",
    "df = pd.read_csv('gutenberg_data_with_text.csv', nrows=100)\n",
    "df = df.drop(labels=['Link'], axis=1)\n",
    "df['encoder_input'] = df['Title'] + \" \" + df['Author'] + \" \" + df['Bookshelf']\n",
    "chars = sorted(list(set(' '.join(df['encoder_input'].astype(str).values) + ' '.join(df['Text'].astype(str).values))))\n",
    "vocab_size = len(chars)\n",
    "print(vocab_size)\n",
    "#encoder decoder mapping\n",
    "stoi = {ch:i for i,ch in enumerate(chars)}\n",
    "itos = {i:ch for i,ch in enumerate(chars)}\n",
    "encode = lambda s: [stoi[c] for c in s]\n",
    "decode = lambda i: ''.join(itos[l] for l in i)\n",
    " \n"
   ]
  },
  {
   "cell_type": "code",
   "execution_count": 57,
   "metadata": {},
   "outputs": [
    {
     "name": "stderr",
     "output_type": "stream",
     "text": [
      "/opt/anaconda3/lib/python3.11/site-packages/huggingface_hub/file_download.py:1132: FutureWarning: `resume_download` is deprecated and will be removed in version 1.0.0. Downloads always resume when possible. If you want to force a new download, use `force_download=True`.\n",
      "  warnings.warn(\n"
     ]
    },
    {
     "name": "stdout",
     "output_type": "stream",
     "text": [
      "['This', 'Ġis', 'Ġa', 'Ġtest', '.']\n",
      "[1212, 318, 257, 1332, 13]\n",
      "[1212, 318, 257, 1332, 13]\n"
     ]
    }
   ],
   "source": [
    "from transformers import GPT2Tokenizer\n",
    "\n",
    "# Load GPT-2 tokenizer\n",
    "tokenizer = GPT2Tokenizer.from_pretrained(\"gpt2\")\n",
    "\n",
    "# Tokenize and decode\n",
    "tokens = tokenizer.tokenize(\"This is a test.\")\n",
    "print(tokens)\n",
    "print(tokenizer.encode(tokens))\n",
    "print(tokenizer.encode(tokenizer.decode(tokenizer.encode(\"This is a test.\"))))\n"
   ]
  },
  {
   "cell_type": "code",
   "execution_count": 42,
   "metadata": {},
   "outputs": [
    {
     "data": {
      "text/plain": [
       "0     Birds, Illustrated Color Photography, Vol. 1, ...\n",
       "1      Artistic Anatomy of Animals Édouard Cuyer Animal\n",
       "2            What Bird is That? Frank M. Chapman Animal\n",
       "4     On Snake-Poison: Its Action and Its Antidote A...\n",
       "5             Deadfalls and Snares A. R. Harding Animal\n",
       "                            ...                        \n",
       "95    Off to the Wilds: Being the Adventures of Two ...\n",
       "96    The Hunters' Feast: Conversations Around the C...\n",
       "97    The Giraffe Hunters Mayne Reid Animals-Wild-Tr...\n",
       "98    Dead Man's Land George Manville Fenn Animals-W...\n",
       "99    Birds, Illustrated Color Photography, Vol. 1, ...\n",
       "Name: encoder_input, Length: 98, dtype: object"
      ]
     },
     "execution_count": 42,
     "metadata": {},
     "output_type": "execute_result"
    }
   ],
   "source": [
    "df = df[~df['encoder_input'].isna()]\n",
    "df['encoder_input']"
   ]
  },
  {
   "cell_type": "code",
   "execution_count": 34,
   "metadata": {},
   "outputs": [
    {
     "data": {
      "text/plain": [
       "21"
      ]
     },
     "execution_count": 34,
     "metadata": {},
     "output_type": "execute_result"
    }
   ],
   "source": [
    "stoi[\"5\"]"
   ]
  },
  {
   "cell_type": "code",
   "execution_count": 45,
   "metadata": {},
   "outputs": [],
   "source": [
    "# Convert the data into tokenized format\n",
    "train_data = []\n",
    "for idx, row in df.iterrows():\n",
    "    \n",
    "    if type(row['encoder_input']) == float:\n",
    "        print(row['encoder_input'])\n",
    "    encoder_input = encode(row['encoder_input'])\n",
    "    decoder_input = encode(row['Text'])\n",
    "    train_data.append((torch.tensor(encoder_input), torch.tensor(decoder_input)))\n",
    "\n",
    "def get_batch():\n",
    "    # Randomly pick a sample\n",
    "    ix = torch.randint(len(train_data), (batch_size,))\n",
    "    x = torch.stack([train_data[i][0] for i in ix]).to(device)\n",
    "    y = torch.stack([train_data[i][1] for i in ix]).to(device)\n",
    "    return x, y"
   ]
  },
  {
   "cell_type": "code",
   "execution_count": 54,
   "metadata": {},
   "outputs": [
    {
     "data": {
      "text/plain": [
       "list"
      ]
     },
     "execution_count": 54,
     "metadata": {},
     "output_type": "execute_result"
    }
   ],
   "source": [
    "type(train_data)"
   ]
  },
  {
   "cell_type": "code",
   "execution_count": 24,
   "metadata": {},
   "outputs": [
    {
     "data": {
      "text/plain": [
       "0    ﻿The Project Gutenberg eBook of Birds, Illustr...\n",
       "1    ﻿The Project Gutenberg eBook of Artistic Anato...\n",
       "2    ﻿The Project Gutenberg eBook of What Bird is T...\n",
       "3    ﻿The Project Gutenberg eBook of Fox Trapping: ...\n",
       "4    ﻿The Project Gutenberg eBook of On Snake-Poiso...\n",
       "5    ﻿The Project Gutenberg eBook of Deadfalls and ...\n",
       "6    ﻿The Project Gutenberg eBook of A Guide for th...\n",
       "7    ﻿The Project Gutenberg eBook of Fifty Years a ...\n",
       "8    ﻿The Project Gutenberg eBook of Our Vanishing ...\n",
       "9    ﻿The Project Gutenberg eBook of The Exterminat...\n",
       "Name: Text, dtype: object"
      ]
     },
     "execution_count": 24,
     "metadata": {},
     "output_type": "execute_result"
    }
   ],
   "source": [
    "df['Text']"
   ]
  },
  {
   "cell_type": "code",
   "execution_count": null,
   "metadata": {},
   "outputs": [],
   "source": [
    "\n",
    "print('-----')\n",
    "\n",
    "for b in range(batch_size):\n",
    "    for t in range(block_size):\n",
    "        context = xb[b, :t+1]\n",
    "        target = yb[b,t]\n",
    "        print(f\"when context is {context.tolist()} target is {target}\")\n",
    "\n"
   ]
  },
  {
   "cell_type": "code",
   "execution_count": 13,
   "metadata": {},
   "outputs": [
    {
     "name": "stdout",
     "output_type": "stream",
     "text": [
      "tensor([[28,  1, 78, 65, 82, 68, 81, 85],\n",
      "        [86, 77,  1, 64, 66, 66, 78, 81],\n",
      "        [ 1, 77, 78, 83, 72, 69, 72, 68],\n",
      "        [62,  1, 74, 77, 78, 86,  1, 83]])\n",
      "tensor([[ 1, 78, 65, 82, 68, 81, 85, 68],\n",
      "        [77,  1, 64, 66, 66, 78, 81, 67],\n",
      "        [77, 78, 83, 72, 69, 72, 68, 67],\n",
      "        [ 1, 74, 77, 78, 86,  1, 83, 71]])\n"
     ]
    }
   ],
   "source": [
    "print(xb)\n",
    "print(yb)"
   ]
  },
  {
   "cell_type": "code",
   "execution_count": 14,
   "metadata": {},
   "outputs": [
    {
     "name": "stdout",
     "output_type": "stream",
     "text": [
      "torch.Size([32, 156])\n",
      "tensor(5.6915, grad_fn=<NllLossBackward0>)\n",
      "\n",
      "_w¹àC8úAyÈÇ{á|95“É z§gÈ|~{è+îtsºnN?é﻿jJ`öbÇcÇç2kCJŒ÷Hx op99vXx7~h¹ÁºLgV\\j′G3\"a™A½löïjayjÇJUY.èÜ\\üèŒ×\n"
     ]
    }
   ],
   "source": [
    "import torch\n",
    "import torch.nn as nn\n",
    "from torch.nn import functional as F\n",
    "\n",
    "torch.manual_seed(1337)\n",
    "\n",
    "class BigramLanguageModel(nn.Module):\n",
    "\n",
    "    def __init__(self,vocab_size):\n",
    "        super().__init__()\n",
    "        self.token_embedding_table = nn.Embedding(vocab_size,vocab_size)\n",
    "\n",
    "    def forward(self, idx, targets=None):\n",
    "        #idx and targets are both tensors of size B,T\n",
    "        logits = self.token_embedding_table(idx) # (B,T,C)\n",
    "        if targets is None:\n",
    "            loss = None\n",
    "        else:    \n",
    "            B,T,C = logits.shape\n",
    "            logits = logits.view(B*T, C)\n",
    "            targets = targets.view(B*T)\n",
    "            loss = F.cross_entropy(logits,targets)\n",
    "        return logits, loss\n",
    "        \n",
    "\n",
    "    def generate(self, idx, max_new_tokens):\n",
    "        #idx is (B,T) array of indices in current context\n",
    "        for _ in range(max_new_tokens):\n",
    "            #get the predictions\n",
    "            logits, loss = self(idx)\n",
    "            #focus only on the last time step\n",
    "            logits = logits[:, -1, :] #becomes (B,C)\n",
    "            probs = F.softmax(logits, dim=-1)\n",
    "            idx_next = torch.multinomial(probs, num_samples = 1)\n",
    "            # append sampled index to running sequence\n",
    "            idx = torch.cat((idx,idx_next), dim = 1) # (B, T+1)\n",
    "        return idx\n",
    "\n",
    "m = BigramLanguageModel(vocab_size)\n",
    "logits, loss = m(xb, yb)\n",
    "\n",
    "print(logits.shape)\n",
    "print(loss)\n",
    "\n",
    "idx = torch.zeros((1,1), dtype=torch.long)\n",
    "print(decode(m.generate(idx = torch.zeros((1,1), dtype=torch.long), max_new_tokens=100)[0].tolist()))"
   ]
  },
  {
   "cell_type": "code",
   "execution_count": 15,
   "metadata": {},
   "outputs": [
    {
     "name": "stdout",
     "output_type": "stream",
     "text": [
      "2.479205369949341\n"
     ]
    }
   ],
   "source": [
    "optimizer = torch.optim.AdamW(m.parameters(), lr=1e-3)\n",
    "batch_size = 32\n",
    "for steps in range(10000):\n",
    "    xb,yb = get_batch('train')\n",
    "    logits, loss = m(xb,yb)\n",
    "    optimizer.zero_grad(set_to_none=True)\n",
    "    loss.backward()\n",
    "    optimizer.step()\n",
    "\n",
    "print(loss.item())"
   ]
  },
  {
   "cell_type": "code",
   "execution_count": 16,
   "metadata": {},
   "outputs": [
    {
     "name": "stdout",
     "output_type": "stream",
     "text": [
      "\n",
      "y p fýÓÔûnnd th, bony ng; totathas cke r oulenghis, therakis acod se orsmeru a wan m. s anoug o sigh\n"
     ]
    }
   ],
   "source": [
    "print(decode(m.generate(idx = torch.zeros((1,1), dtype=torch.long), max_new_tokens=100)[0].tolist()))"
   ]
  },
  {
   "cell_type": "code",
   "execution_count": 17,
   "metadata": {},
   "outputs": [
    {
     "data": {
      "text/plain": [
       "torch.Size([4, 8, 2])"
      ]
     },
     "execution_count": 17,
     "metadata": {},
     "output_type": "execute_result"
    }
   ],
   "source": [
    "torch.manual_seed(1337)\n",
    "\n",
    "B,T,C = 4,8,2 # batch, time, channels\n",
    "x = torch.randn(B,T,C)\n",
    "x.shape"
   ]
  },
  {
   "cell_type": "code",
   "execution_count": 18,
   "metadata": {},
   "outputs": [],
   "source": [
    "xbow = torch.zeros((B,T,C))\n",
    "for b in range(B):\n",
    "    for t in range(T):\n",
    "        xprev = x[b,:t+1]\n",
    "        xbow[b,t] = torch.mean(xprev, 0)\n"
   ]
  },
  {
   "cell_type": "code",
   "execution_count": 19,
   "metadata": {},
   "outputs": [
    {
     "data": {
      "text/plain": [
       "tensor([[ 0.1808, -0.0700],\n",
       "        [-0.3596, -0.9152],\n",
       "        [ 0.6258,  0.0255],\n",
       "        [ 0.9545,  0.0643],\n",
       "        [ 0.3612,  1.1679],\n",
       "        [-1.3499, -0.5102],\n",
       "        [ 0.2360, -0.2398],\n",
       "        [-0.9211,  1.5433]])"
      ]
     },
     "execution_count": 19,
     "metadata": {},
     "output_type": "execute_result"
    }
   ],
   "source": [
    "x[0]"
   ]
  },
  {
   "cell_type": "code",
   "execution_count": 20,
   "metadata": {},
   "outputs": [
    {
     "data": {
      "text/plain": [
       "tensor([[ 0.1808, -0.0700],\n",
       "        [-0.0894, -0.4926],\n",
       "        [ 0.1490, -0.3199],\n",
       "        [ 0.3504, -0.2238],\n",
       "        [ 0.3525,  0.0545],\n",
       "        [ 0.0688, -0.0396],\n",
       "        [ 0.0927, -0.0682],\n",
       "        [-0.0341,  0.1332]])"
      ]
     },
     "execution_count": 20,
     "metadata": {},
     "output_type": "execute_result"
    }
   ],
   "source": [
    "xbow[0]"
   ]
  },
  {
   "cell_type": "code",
   "execution_count": 21,
   "metadata": {},
   "outputs": [
    {
     "data": {
      "text/plain": [
       "tensor([[ 0.1808, -0.0700],\n",
       "        [-0.0894, -0.4926],\n",
       "        [ 0.1490, -0.3199],\n",
       "        [ 0.3504, -0.2238],\n",
       "        [ 0.3525,  0.0545],\n",
       "        [ 0.0688, -0.0396],\n",
       "        [ 0.0927, -0.0682],\n",
       "        [-0.0341,  0.1332]])"
      ]
     },
     "execution_count": 21,
     "metadata": {},
     "output_type": "execute_result"
    }
   ],
   "source": [
    "wei = torch.tril(torch.ones(T,T))\n",
    "wei = wei / wei.sum(1,keepdim=True)\n",
    "xbow2 = wei @ x\n",
    "xbow2[0]\n"
   ]
  },
  {
   "cell_type": "code",
   "execution_count": 22,
   "metadata": {},
   "outputs": [
    {
     "data": {
      "text/plain": [
       "(tensor([[ 0.1808, -0.0700],\n",
       "         [-0.0894, -0.4926],\n",
       "         [ 0.1490, -0.3199],\n",
       "         [ 0.3504, -0.2238],\n",
       "         [ 0.3525,  0.0545],\n",
       "         [ 0.0688, -0.0396],\n",
       "         [ 0.0927, -0.0682],\n",
       "         [-0.0341,  0.1332]]),\n",
       " tensor([[ 0.1808, -0.0700],\n",
       "         [-0.0894, -0.4926],\n",
       "         [ 0.1490, -0.3199],\n",
       "         [ 0.3504, -0.2238],\n",
       "         [ 0.3525,  0.0545],\n",
       "         [ 0.0688, -0.0396],\n",
       "         [ 0.0927, -0.0682],\n",
       "         [-0.0341,  0.1332]]))"
      ]
     },
     "execution_count": 22,
     "metadata": {},
     "output_type": "execute_result"
    }
   ],
   "source": [
    "xbow2[0], xbow[0]"
   ]
  },
  {
   "cell_type": "code",
   "execution_count": 23,
   "metadata": {},
   "outputs": [
    {
     "data": {
      "text/plain": [
       "True"
      ]
     },
     "execution_count": 23,
     "metadata": {},
     "output_type": "execute_result"
    }
   ],
   "source": [
    "tril = torch.tril(torch.ones(T,T))\n",
    "wei = torch.zeros(T,T)\n",
    "wei = wei.masked_fill(tril==0, float('-inf'))\n",
    "wei = F.softmax(wei, dim=-1)\n",
    "xbow3 = wei @ x\n",
    "torch.allclose(xbow, xbow3)"
   ]
  },
  {
   "cell_type": "code",
   "execution_count": 24,
   "metadata": {},
   "outputs": [],
   "source": [
    "#hyperparameters\n",
    "batch_size = 32\n",
    "block_size = 8\n",
    "max_iters = 3000\n",
    "eval_interval = 300\n",
    "learning_rate = 1e-3\n",
    "n_embd = 32\n",
    "#device = 'mps' if torch.backends.mps.is_available() else 'cpu'\n",
    "\n",
    "eval_iters = 200"
   ]
  },
  {
   "cell_type": "code",
   "execution_count": 26,
   "metadata": {},
   "outputs": [],
   "source": [
    "@torch.no_grad\n",
    "def estimate_loss():\n",
    "    out = {}\n",
    "    model.eval()\n",
    "    for split in ['train', 'val']:\n",
    "        losses = torch.zeros(eval_iters)\n",
    "        for k in range(eval_iters):\n",
    "            X,Y = get_batch(split)\n",
    "            logits, loss = model(X,Y)\n",
    "            losses[k] = loss.item()\n",
    "        out[split] = losses.mean()\n",
    "    model.train\n",
    "    return out"
   ]
  },
  {
   "cell_type": "code",
   "execution_count": 28,
   "metadata": {},
   "outputs": [
    {
     "name": "stdout",
     "output_type": "stream",
     "text": [
      "step 0: train loss 5.6474, val loss 5.6570\n",
      "step 300: train loss 5.6523, val loss 5.6556\n",
      "step 600: train loss 5.6542, val loss 5.6443\n",
      "step 900: train loss 5.6516, val loss 5.6531\n",
      "step 1200: train loss 5.6494, val loss 5.6565\n",
      "step 1500: train loss 5.6599, val loss 5.6495\n",
      "step 1800: train loss 5.6552, val loss 5.6548\n",
      "step 2100: train loss 5.6571, val loss 5.6469\n",
      "step 2400: train loss 5.6493, val loss 5.6446\n",
      "step 2700: train loss 5.6613, val loss 5.6500\n"
     ]
    }
   ],
   "source": [
    "model = BigramLanguageModel(vocab_size)\n",
    "\n",
    "optimizer = torch.optim.AdamW(m.parameters(), lr=1e-3)\n",
    "\n",
    "\n",
    "for iter in range(max_iters):\n",
    "    if iter % eval_interval == 0:\n",
    "        losses = estimate_loss()\n",
    "        print(f\"step {iter}: train loss {losses['train']:.4f}, val loss {losses['val']:.4f}\")\n",
    "\n",
    "    xb, yb = get_batch('train')\n",
    "    logits, loss = model(xb,yb)\n",
    "    optimizer.zero_grad(set_to_none=True)\n",
    "    loss.backward()\n",
    "    optimizer.step()"
   ]
  },
  {
   "cell_type": "code",
   "execution_count": null,
   "metadata": {},
   "outputs": [],
   "source": []
  },
  {
   "cell_type": "code",
   "execution_count": null,
   "metadata": {},
   "outputs": [],
   "source": []
  },
  {
   "cell_type": "code",
   "execution_count": null,
   "metadata": {},
   "outputs": [],
   "source": []
  },
  {
   "cell_type": "code",
   "execution_count": null,
   "metadata": {},
   "outputs": [],
   "source": []
  },
  {
   "cell_type": "code",
   "execution_count": null,
   "metadata": {},
   "outputs": [],
   "source": []
  },
  {
   "cell_type": "code",
   "execution_count": null,
   "metadata": {},
   "outputs": [],
   "source": []
  },
  {
   "cell_type": "code",
   "execution_count": null,
   "metadata": {},
   "outputs": [],
   "source": []
  },
  {
   "cell_type": "code",
   "execution_count": null,
   "metadata": {},
   "outputs": [],
   "source": []
  },
  {
   "cell_type": "code",
   "execution_count": null,
   "metadata": {},
   "outputs": [],
   "source": []
  },
  {
   "cell_type": "code",
   "execution_count": null,
   "metadata": {},
   "outputs": [],
   "source": []
  },
  {
   "cell_type": "code",
   "execution_count": null,
   "metadata": {},
   "outputs": [],
   "source": []
  }
 ],
 "metadata": {
  "kernelspec": {
   "display_name": "base",
   "language": "python",
   "name": "python3"
  },
  "language_info": {
   "codemirror_mode": {
    "name": "ipython",
    "version": 3
   },
   "file_extension": ".py",
   "mimetype": "text/x-python",
   "name": "python",
   "nbconvert_exporter": "python",
   "pygments_lexer": "ipython3",
   "version": "3.11.7"
  }
 },
 "nbformat": 4,
 "nbformat_minor": 2
}
