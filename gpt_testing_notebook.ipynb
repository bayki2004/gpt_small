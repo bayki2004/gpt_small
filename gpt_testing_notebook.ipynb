{
 "cells": [
  {
   "cell_type": "code",
   "execution_count": 30,
   "metadata": {},
   "outputs": [],
   "source": [
    "import pandas as pd\n",
    "import numpy as np"
   ]
  },
  {
   "cell_type": "code",
   "execution_count": 31,
   "metadata": {},
   "outputs": [
    {
     "data": {
      "text/html": [
       "<div>\n",
       "<style scoped>\n",
       "    .dataframe tbody tr th:only-of-type {\n",
       "        vertical-align: middle;\n",
       "    }\n",
       "\n",
       "    .dataframe tbody tr th {\n",
       "        vertical-align: top;\n",
       "    }\n",
       "\n",
       "    .dataframe thead th {\n",
       "        text-align: right;\n",
       "    }\n",
       "</style>\n",
       "<table border=\"1\" class=\"dataframe\">\n",
       "  <thead>\n",
       "    <tr style=\"text-align: right;\">\n",
       "      <th></th>\n",
       "      <th>Title</th>\n",
       "      <th>Author</th>\n",
       "      <th>Link</th>\n",
       "      <th>Bookshelf</th>\n",
       "      <th>Text</th>\n",
       "    </tr>\n",
       "  </thead>\n",
       "  <tbody>\n",
       "    <tr>\n",
       "      <th>0</th>\n",
       "      <td>Birds, Illustrated</td>\n",
       "      <td>Color Photography, Vol. 1, No. 1 Various</td>\n",
       "      <td>http://www.gutenberg.org/ebooks/30221</td>\n",
       "      <td>Animal</td>\n",
       "      <td>﻿The Project Gutenberg eBook of Birds, Illustr...</td>\n",
       "    </tr>\n",
       "    <tr>\n",
       "      <th>1</th>\n",
       "      <td>Artistic Anatomy of Animals</td>\n",
       "      <td>Édouard Cuyer</td>\n",
       "      <td>http://www.gutenberg.org/ebooks/38315</td>\n",
       "      <td>Animal</td>\n",
       "      <td>﻿The Project Gutenberg eBook of Artistic Anato...</td>\n",
       "    </tr>\n",
       "    <tr>\n",
       "      <th>2</th>\n",
       "      <td>What Bird is That?</td>\n",
       "      <td>Frank M. Chapman</td>\n",
       "      <td>http://www.gutenberg.org/ebooks/31751</td>\n",
       "      <td>Animal</td>\n",
       "      <td>﻿The Project Gutenberg eBook of What Bird is T...</td>\n",
       "    </tr>\n",
       "    <tr>\n",
       "      <th>3</th>\n",
       "      <td>Fox Trapping: A Book of Instruction Telling Ho...</td>\n",
       "      <td>NaN</td>\n",
       "      <td>http://www.gutenberg.org/ebooks/34076</td>\n",
       "      <td>Animal</td>\n",
       "      <td>﻿The Project Gutenberg eBook of Fox Trapping: ...</td>\n",
       "    </tr>\n",
       "    <tr>\n",
       "      <th>4</th>\n",
       "      <td>On Snake-Poison: Its Action and Its Antidote</td>\n",
       "      <td>A. Mueller</td>\n",
       "      <td>http://www.gutenberg.org/ebooks/32947</td>\n",
       "      <td>Animal</td>\n",
       "      <td>﻿The Project Gutenberg eBook of On Snake-Poiso...</td>\n",
       "    </tr>\n",
       "  </tbody>\n",
       "</table>\n",
       "</div>"
      ],
      "text/plain": [
       "                                               Title  \\\n",
       "0                                 Birds, Illustrated   \n",
       "1                        Artistic Anatomy of Animals   \n",
       "2                                 What Bird is That?   \n",
       "3  Fox Trapping: A Book of Instruction Telling Ho...   \n",
       "4       On Snake-Poison: Its Action and Its Antidote   \n",
       "\n",
       "                                     Author  \\\n",
       "0  Color Photography, Vol. 1, No. 1 Various   \n",
       "1                             Édouard Cuyer   \n",
       "2                          Frank M. Chapman   \n",
       "3                                       NaN   \n",
       "4                                A. Mueller   \n",
       "\n",
       "                                    Link Bookshelf  \\\n",
       "0  http://www.gutenberg.org/ebooks/30221    Animal   \n",
       "1  http://www.gutenberg.org/ebooks/38315    Animal   \n",
       "2  http://www.gutenberg.org/ebooks/31751    Animal   \n",
       "3  http://www.gutenberg.org/ebooks/34076    Animal   \n",
       "4  http://www.gutenberg.org/ebooks/32947    Animal   \n",
       "\n",
       "                                                Text  \n",
       "0  ﻿The Project Gutenberg eBook of Birds, Illustr...  \n",
       "1  ﻿The Project Gutenberg eBook of Artistic Anato...  \n",
       "2  ﻿The Project Gutenberg eBook of What Bird is T...  \n",
       "3  ﻿The Project Gutenberg eBook of Fox Trapping: ...  \n",
       "4  ﻿The Project Gutenberg eBook of On Snake-Poiso...  "
      ]
     },
     "execution_count": 31,
     "metadata": {},
     "output_type": "execute_result"
    }
   ],
   "source": [
    "df = pd.read_csv('gutenberg_data_with_text.csv')\n",
    "df.head()"
   ]
  },
  {
   "cell_type": "code",
   "execution_count": 32,
   "metadata": {},
   "outputs": [
    {
     "data": {
      "text/plain": [
       "(15331, 5)"
      ]
     },
     "execution_count": 32,
     "metadata": {},
     "output_type": "execute_result"
    }
   ],
   "source": [
    "df.shape"
   ]
  },
  {
   "cell_type": "code",
   "execution_count": 33,
   "metadata": {},
   "outputs": [
    {
     "data": {
      "text/plain": [
       "'\\ufeffThe Project Gutenberg eBook of Birds, Illustrated by Color Photography, Vol. 1, No. 1 This ebook is for the use of anyone anywhere in the United States and most other parts of the world at no cost and with almost no restrictions whatsoever. You may copy it, give it away or re-use it under the terms of the Project Gutenberg License included with this ebook or online at www.gutenberg.org. If you are not located in the United States, you will have to check the laws of the country where you are located before using this eBook. Title: Birds, Illustrated by Color Photography, Vol. 1, No. 1 Author: Various Release date: October 9, 2009 [eBook #30221] Most recently updated: October 24, 2024 Language: English Credits: Produced by Chris Curnow, Joseph Cooper, Anne Storer, some images courtesy of The Internet Archive and the Online Distributed Proofreading Team at https://www.pgdp.net *** START OF THE PROJECT GUTENBERG EBOOK BIRDS, ILLUSTRATED BY COLOR PHOTOGRAPHY, VOL. 1, NO. 1 *** FROM: THE PRESIDENT OF THE NATIONAL TEACHERS\\' ASSOCIATION. _STATE OF NEW YORK_ _Department of Public Instruction_ _SUPERINTENDENT\\'S OFFICE_ _Albany_ December 26, 1896. [Illustration: (seal)] _Stenographic Letter_ Dictated by __________ W. E. Watt, President &c., Fisher Building, 277 Dearborn St., Chicago, Ill. My dear Sir: Please accept my thanks for a copy of the first publication of \"Birds.\" Please enter my name as a regular subscriber. It is one of the most beautiful and interesting publications yet attempted in this direction. It has other attractions in addition to its beauty, and it must win its way to popular favor. Wishing the handsome little magazine abundant prosperity, I remain Yours very respectfully, [signature] State Superintendent. * * * * * Vol. 1. No. 1. JANUARY, 1897. PRICE 15 CENTS: $1.50 A YEAR. ONCE A MONTH. BIRDS ILLUSTRATED BY COLOR PHOTOGRAPHY [Illustration: NONPAREIL.] NATURE STUDY PUBLISHING COMPANY OFFICE: FISHER BUILDING CHICAGO BIRDS ILLUSTRATED BY COLOR PHOTOGRAPHY A MONTHLY SERIAL DESIGNED TO PROMOTE KNOWLEDGE OF BIRD-LIFE \"With cheerful hop from perch to spray, They sport along the meads; In social bliss together stray, Where love or fancy leads. Through spring\\'s gay scenes each happy pair Their fluttering joys pursue; Its various charms and produce share, Forever kind and true.\" CHICAGO, U. S. A. NATURE STUDY PUBLISHING COMPANY, PUBLISHERS 1896 PREFACE. It has become a universal custom to obtain and preserve the likenesses of one\\'s friends. Photographs are the most popular form of these likenesses, as they give the true exterior outlines and appearance, (except coloring) of the subjects. But how much more popular and useful does photography become, when it can be used as a means of securing plates from which to print photographs in a regular printing press, and, what is more astonishing and delightful, to produce the REAL COLORS of nature as shown in the subject, no matter how brilliant or varied. We quote from the December number of the Ladies\\' Home Journal: \"_An excellent_ suggestion was recently made by the Department of Agriculture at Washington that the public schools of the country shall have a new holiday, to be known as Bird Day. Three cities have already adopted the suggestion, and it is likely that others will quickly follow. Of course, Bird Day will differ from its successful predecessor, Arbor Day. We can plant trees but not birds. It is suggested that Bird Day take the form of bird exhibitions, of bird exercises, of bird studies--any form of entertainment, in fact, which will bring children closer to their little brethren of the air, and in more intelligent sympathy with their life and ways. There is a wonderful story in bird life, and but few of our children know it. Few of our elders do, for that matter. A whole day of a year can well and profitably be given over to the birds. Than such study, nothing can be more interesting. The cultivation of an intimate acquaintanceship with our feathered friends is a source of genuine pleasure. We are under greater obligations to the birds than we dream of. Without them the world would be more barren than we imagine. Consequently, we have some duties which we owe them. What these duties are only a few of us know or have ever taken the trouble to find out. Our children should not be allowed to grow to maturity without this knowledge. The more they know of the birds the better men and women they will be. We can hardly encourage such studies too much.\" Of all animated nature, birds are the most beautiful in coloring, most graceful in form and action, swiftest in motion and most perfect emblems of freedom. They are withal, very intelligent and have many remarkable traits, so that their habits and characteristics make a delightful study for all lovers of nature. In view of the facts, we feel that we are doing a useful work for the young, and one that will be appreciated by progressive parents, in placing within the easy possession of children in the homes these beautiful photographs of birds. The text is prepared with the view of giving the children as clear an idea as possible, of haunts, habits, characteristics and such other information as will lead them to love the birds and delight in their study and acquaintance. NATURE STUDY PUBLISHING CO. Copyrighted, 1896. * * * * * [Illustration: NONPAREIL.] THE NONPAREIL. I am called the Nonpareil because there is no other bird equal to me. I have many names. Some call me the \"Painted Finch\" or \"Painted Bunting.\" Others call me \"The Pope,\" because I wear a purple hood. I live in a cage, eat seeds, and am very fond of flies and spiders. Sometimes they let me out of the cage and I fly about the room and catch flies. I like to catch them while they are flying. When I am tired I stop and sing. There is a vase of flowers in front of the mirror. I fly to this vase where I can see myself in the glass. Then I sing as loud as I can. They like to hear me sing. I take a bath every day and how I do make the water fly! I used to live in the woods where there were many birds like me. We built our nests in bushes, hedges, and low trees. How happy we were. My cage is pretty but I wish I could go back to my home in the woods. See page 15. \"Sweet warblers of the sunny hours, Forever on the wing, I love thee as I love the flowers, The sunlight and the spring. They come like pleasant memories In summer\\'s joyous time, And sing their gushing melodies, As I would sing a rhyme. In the green and quiet places, Where the golden sunlight falls, We sit with smiling faces To list their silver calls. And when their holy anthems Come pealing through the air, Our hearts leap forth to meet them With a blessing and a prayer. Amid the morning\\'s fragrant dew, Amid the mists of even, They warble on as if they drew Their music down from heaven. How sweetly sounds each mellow note Beneath the moon\\'s pale ray, When dying zephyrs rise and float Like lovers\\' sighs away!\" THE RESPLENDENT TROGON. A Letter to Little Boys and Girls of the United States. Is it cold where you live, little boys and girls? It is not where I live. Don\\'t you think my feathers grew in the bright sunshine? My home is way down where the big oceans almost meet. The sun is almost straight overhead every noon. I live in the woods, way back where the trees are tall and thick. I don\\'t fly around much, but sit on a limb of a tree way up high. Don\\'t you think my red breast looks pretty among the green leaves? When I see a fly or a berry I dart down after it. My long tail streams out behind like four ribbons. I wish you could see me. My tail never gets in the way. Wouldn\\'t you like to have me sit on your shoulder, little boy? You see my tail would reach almost to the ground. If you went out into the street with me on your shoulder, I would call _whe-oo_, _whe-oo_, the way I do in the woods. All the little boys and girls playing near would look around and say, \"What is that noise?\" Then they would see you and me and run up fast and say, \"Where did you get that bird?\" The little girls would want to pull out my tail feathers to put around their hats. You would not let them, would you? I have a mate. I think she is very nice. Her tail is not so long as mine. Would you like to see her too? She lays eggs every year, and sits on them till little birds hatch out. They are just like us, but they have to grow and get dressed in the pretty feathers like ours. They look like little dumplings when they come out of the eggs. But they are all right. They get very hungry and we carry them lots of things to eat, so they can grow fast. Your friend, R. T. [Illustration: RESPLENDENT TROGON.] THE RESPLENDENT TROGON. Resplendent Trogons are natives of Central America. There are fifty kinds, and this is the largest. A systematic account of the superb tribe has been given by Mr. Gould, the only naturalist who has made himself fully acquainted with them. Of all birds there are few which excite so much admiration as the Resplendent Trogon. The skin is so singularly thin that it has been not inaptly compared to wet blotting paper, and the plumage has so light a hold upon the skin that when the bird is shot the feathers are plentifully struck from their sockets by its fall and the blows which it receives from the branches as it comes to the ground. Its eggs, of a pale bluish-green, were first procured by Mr. Robert Owen. Its chief home is in the mountains near Coban in Vera Paz, but it also inhabits forests in other parts of Guatemala at an elevation of from 6,000 to 9,000 feet. From Mr. Salvin\\'s account of his shooting in Vera Paz we extract the following hunting story: \"My companions are ahead and Filipe comes back to say that they have heard a quesal (Resplendent Trogon). Of course, being anxious to watch as well as to shoot one of these birds myself, I immediately hurry to the spot. I have not to wait long. A distant clattering noise indicates that the bird is on the wing. He settles--a splendid male--on the bough of a tree not seventy yards from where we are hidden. It sits almost motionless on its perch, the body remaining in the same position, the head only moving from side to side. The tail does not hang quite perpendicularly, the angle between the true tail and the vertical being perhaps as much as fifteen or twenty degrees. The tail is occasionally jerked open and closed again, and now and then slightly raised, causing the long tail coverts to vibrate gracefully. I have not seen all. A ripe fruit catches the quesal\\'s eye and he darts from his perch, plucks the berry, and returns to his former position. This is done with a degree of elegance that defies description. A low whistle from Capriano calls the bird near, and a moment afterward it is in my hand--the first quesal I have seen and shot.\" The above anecdote is very beautiful and graphic, but we read the last sentence with pain. We wish to go on record with this our first number as being unreconciled to the _ruthless_ killing of the birds. He who said, not a sparrow \"shall fall on the ground without your Father,\" did not intend such birds to be killed, but to beautify the earth. The cries of the quesal are various. They consist principally of a low note, _whe-oo_, _whe-oo_, which the bird repeats, whistling it softly at first, then gradually swelling it into a loud and not unmelodious cry. This is often succeeded by a long note, which begins low and after swelling dies away as it began. Other cries are harsh and discordant. The flight of the Trogon is rapid and straight. The long tail feathers, which never seem to be in the way, stream after him. The bird is never found except in forests of the loftiest trees, the lower branches of which, being high above the ground, seem to be its favorite resort. Its food consists principally of fruit, but occasionally a caterpillar is found in its stomach. THE MANDARIN DUCK. A Letter from China. Quack! Quack! I got in just in time. I came as fast as I could, as I was afraid of being whipped. You see I live in a boat with a great many other ducks. My master and his family live in the boat too. Isn\\'t that a funny place to live in? We stay in all night. Waking up early in the morning, we cry Quack! Quack! until we wake the master. He gets up and opens the gate for us and out we tumble into the water. We are in such a hurry that we fall over each other. We swim about awhile and then we go to shore for breakfast. There are wet places near the shore where we find worms, grubs, and roots. When evening comes the master blows a whistle. Then we know it is time to come home. We start as soon as we hear it, and hurry, because the last duck in gets a whipping. It does not hurt much but we do not like it, so we all try to get home first. I have web feet, but I perch like other birds on the branches of the trees near the river. My feathers are beautiful in the sunlight. My wife always sits near me. Her dress is not like mine. It is brown and grey. From May to August I lose my bright feathers, then I put on a dress like my wife\\'s. My master\\'s family are Chinese, and they are very queer. They would not sell me for anything, as they would not like to have me leave China. Sometimes a pair of us are put in a gay cage and carried to a wedding. After the wedding we are given to the bride and groom. I hear the master\\'s whistle again. He wants me to come in and go to bed. Quack! Quack! Good bye! [Illustration: MANDARIN DUCK.] THE MANDARIN DUCK. \"A more magnificently clothed bird,\" says Wood, \"than the male Chinese Mandarin Duck, can hardly be found, when in health and full nuptial plumage. They are natives of China and Japan, and are held in such high esteem by the Chinese that they can hardly be obtained at any price, the natives having a singular dislike to seeing the birds pass into the possession of Europeans.\" Though web-footed, the birds have the power of perching and it is a curious sight to watch them on the branches of trees overhanging the pond in which they live, the male and female being always close together, the one gorgeous in purple, green, white, and chestnut, and the other soberly appareled in brown and grey. This handsome plumage the male loses during four months of the year, from May to August, when he throws off his fine crest, his wing-fans, and all his brilliant colors, assuming the sober tinted dress of his mate. The Summer Duck of America bears a close resemblance to the Mandarin Duck, both in plumage and manners, and at certain times of the year is hardly to be distinguished from that bird. The foreign duck has been successfully reared in Zoological Gardens, some being hatched under the parent bird and others under a domestic hen, the latter hatching the eggs three days in advance of the former. \"The Chinese,\" says Dr. Bennett, \"highly esteem the Mandarin Duck, which exhibits, as they think, a most striking example of conjugal attachment and fidelity. A pair of them are frequently placed in a gaily decorated cage and carried in their marriage processions, to be presented to the bride and groom as worthy objects of emulation.\" \"I could more easily,\" wrote a friend of Dr. Bennett\\'s in China to whom he had expressed his desire for a pair of these birds, \"send you two live Mandarins than a pair of Mandarin Ducks.\" Concerning their attachment and fidelity to one another, Dr. Bennett recites the following: \"Mr. Beale\\'s aviary at Maceo one day was broken open and the male bird stolen from the side of its mate. She refused to be comforted, and, retiring to the farthest part of the aviary, sat disconsolate, rarely partaking of food, and giving no attention to her soiled and rumpled plumage. In vain did another handsome drake endeavor to console her for her loss. After some time the stolen bird was found in the quarters of a miserable Chinaman, and at once restored to its mate. As soon as he recognized his abode he began to flap his wings and quack vehemently. She heard his voice and almost quacked to screaming with ecstasy, both expressing their joy by crossing necks and quacking in concert. The next morning he fell upon the unfortunate drake who had made consolatory advances to his mate, pecked out his eyes and so injured him that the poor fellow died in the course of a few days.\" According to Schrenck, this species appears in the countries watered by the Amoor about May, and departs again at the end of August; at this season it is always met with in small or large flocks, which are so extremely shy that they rarely come within gunshot. Whilst on the wing these parties crowd closely together in front, the birds in the rear occupying a comparatively free space. THE GOLDEN PHEASANT They call me the Golden Pheasant, because I have a golden crest. It is like a king\\'s crown. Don\\'t you think my dress is beautiful enough for a king? See the large ruff around my neck. I can raise and lower it as I please. I am a very large bird. I am fourteen inches tall and twenty-eight inches long. I can step right over your little robins and meadow larks and blue jays and not touch them. Sometimes people get some of our eggs and put them under an old hen. By and by little pheasants hatch out, and the hen is very good to them. She watches over them and feeds them, but they do not wish to stay with her; they like their wild life. If they are not well fed they will fly away. I have a wife. Her feathers are beginning to grow like mine. In a few years she will look as I do. We like to have our nests by a fallen tree. * * * The well-known Chinese Pheasant, which we have named the Golden Pheasant, as well as its more sober-colored cousin, the Silver Pheasant, has its home in Eastern Asia. China is pre-eminently the land of Pheasants; for, besides those just mentioned, several other species of the same family are found there. Japan comes next to China as a pheasant country and there are some in India. In China the Golden Pheasant is a great favorite, not only for its splendid plumage and elegant form, but for the excellence of its flesh, which is said to surpass even that of the common pheasant. It has been introduced into Europe, but is fitted only for the aviary. For purposes of the table it is not likely to come into general use, as there are great difficulties in the way of breeding it in sufficient numbers, and one feels a natural repugnance to the killing of so beautiful a bird for the sake of eating it. The magnificent colors belong only to the male, the female being reddish brown, spotted and marked with a darker hue. The tail of the female is short. The statement is made, however, that some hens kept for six years by Lady Essex gradually assumed an attire like that of the males. Fly-fishers highly esteem the crest and feathers on the back of the neck of the male, as many of the artificial baits owe their chief beauty to the Golden Pheasant. According to Latham, it is called by the Chinese Keuki, or Keukee, a word which means gold flower fowl. * * * \"A merry welcome to thee, glittering bird! Lover of summer flowers and sunny things! A night hath passed since my young buds have heard The music of thy rainbow-colored wings-- Wings that flash spangles out where\\'er they quiver, Like sunlight rushing o\\'er a river.\" [Illustration: GOLDEN PHEASANT.] THE NONPAREIL. So full of fight is this little bird, that the bird trappers take advantage of his disposition to make him a prisoner. They place a decoy bird on a cage trap in the attitude of defense, and when it is discovered by the bird an attack at once follows, and the fighter soon finds himself caught. They are a great favorite for the cage, being preferred by many to the Canary. Whatever he may lack as a songster he more than makes up by his wonderful beauty. These birds are very easily tamed, the female, even in the wild state, being so gentle that she allows herself to be lifted from the nest. They are also called the _Painted Finch_ or _Painted Bunting_. They are found in our Southern States and Mexico. They are very numerous in the State of Louisiana and especially about the City of New Orleans, where they are greatly admired by the French inhabitants, who, true to their native instincts, admire anything with gay colors. As the first name indicates, he has no equal, perhaps, among the songsters for beauty of dress. On account of this purple hood, he is called by the French _Le Pape_, meaning The Pope. The bird makes its appearance in the Southern States the last of April and, during the breeding season, which lasts until July, two broods are raised. The nests are made of fine grass and rest in the crotches of twigs of the low bushes and hedges. The eggs have a dull or pearly-white ground and are marked with blotches and dots of purplish and reddish brown. It is very pleasing to watch the numerous changes which the feathers undergo before the male bird attains his full beauty of color. The young birds of both sexes during the first season are of a fine olive green color on the upper parts and a pale yellow below. The female undergoes no material change in color except becoming darker as she grows older. The male, on the contrary, is three seasons in obtaining his full variety of colors. In the second season the blue begins to show on his head and the red also makes its appearance in spots on the breast. The third year he attains his full beauty. Their favorite resorts are small thickets of low trees and bushes, and when singing they select the highest branches of the bush. They are passionately fond of flies and insects and also eat seeds and rice. Thousands of these birds are trapped for the cage, and sold annually to our northern people and also in Europe. They are comparatively cheap, even in our northern bird markets, as most of them are exchanged for our Canaries and imported birds that cannot be sent directly to the south on account of climatic conditions. Many a northern lady, while visiting the orange groves of Florida, becomes enchanted with the Nonpareil in his wild state, and some shrewd and wily negro, hearing her expressions of delight, easily procures one, and disposes of it to her at an extravagant price. THE AUSTRALIAN GRASS PARRAKEET. I am a Parrakeet. I belong to the Parrot family. A man bought me and brought me here. It is not warm here, as it was where I came from. I almost froze coming over here. I am not kept in a cage. I stay in the house and go about as I please. There is a Pussy Cat in the house. Sometimes I ride on her back. I like that. I used to live in the grass lands. It was very warm there. I ran among the thick grass blades, and sat on the stems and ate seeds. I had a wife then. Her feathers were almost like mine. We never made nests. When we wanted a nest, we found a hole in a gum tree. I used to sing to my wife while she sat on the nest. I can mock other birds. Sometimes I warble and chirp at the same time. Then it sounds like two birds singing. My tongue is short and thick, and this helps me to talk. But I have been talking too much. My tongue is getting tired. I think I\\'ll have a ride on Pussy\\'s back. Good bye. * * * Parrakeets have a great fondness for the grass lands, where they may be seen in great numbers, running amid the thick grass blades, clinging to their stems, or feeding on their seeds. Grass seed is their constant food in their native country. In captivity they take well to canary seed, and what is remarkable, never pick food with their feet, as do other species of parrots, but always use their beaks. \"They do not build a nest, but must be given a piece of wood with a rough hole in the middle, which they will fill to their liking, rejecting all soft lining of wool or cotton that you may furnish them.\" Only the male sings, warbling nearly all day long, pushing his beak at times into his mate\\'s ear as though to give her the full benefit of his song. The lady, however, does not seem to appreciate his efforts, but generally pecks him sharply in return. A gentleman who brought a Parrakeet from Australia to England, says it suffered greatly from the cold and change of climate and was kept alive by a kind-hearted weather-beaten sailor, who kept it warm and comfortable in his bosom. It was not kept in a cage, but roamed at will about the room, enjoying greatly at times, a ride on the cat\\'s back. At meals he perched upon his master\\'s shoulder, picking the bits he liked from a plate set before him. If the weather was cold or chilly, he would pull himself up by his master\\'s whiskers and warm his feet by standing on his bald head. He always announced his master\\'s coming by a shrill call, and no matter what the hour of night, never failed to utter a note of welcome, although apparently asleep with his head tucked under his wing. [Illustration: AUSTRALIAN GRASS PARRAKEET.] [Illustration: COCK-OF-THE-ROCK.] THE COCK-OF-THE-ROCK. The Cock-of-the-Rock lives in Guiana. Its nest is found among the rocks. T. K. Salmon says: \"I once went to see the breeding place of the Cock-of-the-Rock; and a darker or wilder place I have never been in. Following up a mountain stream the gorge became gradually more enclosed and more rocky, till I arrived at the mouth of a cave with high rock on each side, and overshadowed by high trees, into which the sun never penetrated. All was wet and dark, and the only sound heard was the rushing of the water over the rocks. We had hardly become accustomed to the gloom when a nest was found, a dark bird stealing away from what seemed to be a lump of mud upon the face of the rock. This was a nest of the Cock-of-the-Rock, containing two eggs; it was built upon a projecting piece, the body being made of mud or clay, then a few sticks, and on the top lined with green moss. It was about five feet from the water. I did not see the male bird, and, indeed, I have rarely ever seen the male and female birds together, though I have seen both sexes in separate flocks.\" The eggs are described as pale buff with various sized spots of shades from red-brown to pale lilac. It is a solitary and wary bird, feeding before sunrise and after sunset and hiding through the day in sombre ravines. Robert Schomburgh describes its dance as follows: \"While traversing the mountains of Western Guiana we fell in with a pack of these splendid birds, which gave me the opportunity of being an eye witness of their dancing, an accomplishment which I had hitherto regarded as a fable. We cautiously approached their ballet ground and place of meeting, which lay some little distance from the road. The stage, if we may so call it, measured from four to five feet in diameter; every blade of grass had been removed and the ground was as smooth as if leveled by human hands. On this space we saw one of the birds dance and jump about, while the others evidently played the part of admiring spectators. At one moment it expanded its wings, threw its head in the air, or spread out its tail like a peacock scratching the ground with its foot; all this took place with a sort of hopping gait, until tired, when on emitting a peculiar note, its place was immediately filled by another performer. In this manner the different birds went through their terpsichorean exercises, each retiring to its place among the spectators, who had settled on the low bushes near the theatre of operations. We counted ten males and two females in the flock. The noise of a breaking stick unfortunately raised an alarm, when the whole company of dancers immediately flew off.\" \"The Indians, who place great value on their skins, eagerly seek out their playing grounds, and armed with their blow-tubes and poisoned arrows, lie in wait for the dances. The hunter does not attempt to use his weapon until the company is quite engrossed in the performance, when the birds become so preoccupied with their amusement that four or five are often killed before the survivors detect the danger and decamp.\" THE RED BIRD OF PARADISE. My home is on an island where it is very warm. I fly among the tall trees and eat fruit and insects. See my beautiful feathers. The ladies like to wear them in their hats. The feathers of my wife are brown, but she has no long tail feathers. My wife thinks my plumes are very beautiful. When we have a party, we go with our wives to a tall tree. We spread our beautiful plumes while our wives sit and watch us. Sometimes a man finds our tree and builds a hut among the lower branches. He hides in the hut and while we are spreading our feathers shoots at us. The arrows are not sharp. They do not draw blood. When they dry the skins they take off the feet and wings. This is why people used to think we had neither feet nor wings. They also thought we lived on the dews of heaven and the honey of flowers. This is why we are called the Birds of Paradise. * * * \"Upon its waving feathers poised in air, Feathers, or rather clouds of golden down, With streamers thrown luxuriantly out In all the wantonness of winged wealth.\" [Illustration: RED BIRD OF PARADISE.] THE RED BIRD OF PARADISE. Birds of Paradise are found only in New Guinea and on the neighboring islands. The species presented here is found only on a few islands. In former days very singular ideas prevailed concerning these birds and the most extravagant tales were told of the life they led in their native lands. The natives of New Guinea, in preparing their skins for exportation, had removed all traces of legs, so that it was popularly supposed they possessed none, and on account of their want of feet and their great beauty, were called the Birds of Paradise, retaining, it was thought, the forms they had borne in the Garden of Eden, living upon dew or ether, through which it was imagined they perpetually floated by the aid of their long cloud-like plumage. Of one in confinement Dr. Bennett says: \"I observed the bird, before eating a grasshopper, place the insect upon the perch, keep it firmly fixed by the claws, and, divesting it of the legs, wings, etc., devour it with the head always first. It rarely alights upon the ground, and so proud is the creature of its elegant dress that it never permits a soil to remain upon it, frequently spreading out its wings and feathers, regarding its splendid self in every direction.\" The sounds uttered by this bird are very peculiar, resembling somewhat the cawing of the Raven, but change gradually to a varied scale in musical gradations, like _he, hi, ho, how_! He frequently raises his voice, sending forth notes of such power as to be heard at a long distance. These notes are _whack_, _whack_, uttered in a barking tone, the last being a low note in conclusion. While creeping amongst the branches in search of insects, he utters a soft clucking note. During the entire day he flies incessantly from one tree to another, perching but a few moments, and concealing himself among the foliage at the least suspicion of danger. In Bennett\\'s \"Wanderings\" is an entertaining description of Mr. Beale\\'s bird at Maceo. \"This elegant bird,\" he says, \"has a light, playful, and graceful manner, with an arch and impudent look, dances about when a visitor approaches the cage, and seems delighted at being made an object of admiration. It bathes twice daily, and after performing its ablutions throws its delicate feathers up nearly over its head, the quills of which have a peculiar structure, enabling the bird to effect this object. To watch this bird make its toilet is one of the most interesting sights of nature; the vanity which inspires its every movement, the rapturous delight with which it views its enchanting self, its arch look when demanding the spectator\\'s admiration, are all pardonable in a delicate creature so richly embellished, so neat and cleanly, so fastidious in its tastes, so scrupulously exact in its observances, and so winning in all its ways.\" Says a traveler in New Guinea: \"As we were drawing near a small grove of teak-trees, our eyes were dazzled with a sight more beautiful than any I had yet beheld. It was that of a Bird of Paradise moving through the bright light of the morning sun. I now saw that the birds must be seen alive in their native forests, in order to fully comprehend the poetic beauty of the words Birds of Paradise. They seem the inhabitants of a fairer world than ours, things that have wandered in some way from their home, and found the earth to show us something of the beauty of worlds beyond.\" THE YELLOW THROATED TOUCAN. I am a Toucan and I live in a very warm country. See my handsome black coat and my yellow vest. My toes are like a parrot\\'s, two in front and two behind. They help me to hold to the limbs. Look at my large beak. It looks heavy but it is not, as it is filled with air cells. These make it very light. Do you like my blue eyes? My nest is very hard to find. If I tell you where it is, you will not take the eggs, will you? It is in a hollow limb of a very high tree. I am very fond of fruit, and for this reason the people on the plantations do not like me very well. I can fly very fast, but I cannot get along so well on the ground. I keep my feet far apart and hop. I like to sit in the top of the tallest trees. Then I am not afraid. Nothing can reach me there but a rifle ball. I do not like the owl, he is so ugly. When we find an owl we get in a circle around him and snap our great beaks, and jerk our tails up and down and scream. He is very much afraid of us. The people where I live like our yellow breasts. They wear them on their heads, and also put them on the ends of their bows. We sometimes sit together in a tree and snap our beaks and shout. This is why we have been called \"Preacher Birds.\" We can scream so loud that we may be heard a mile away. Our song is \"Tucano! Tucano!\" I think it is a pretty song, but the people do not like it very much. [Illustration: YELLOW THROATED TOUCAN.] THE YELLOW THROATED TOUCAN. The Toucans are a numerous race of South American birds, at once recognizable by the prodigious size of their beaks and by the richness of their plumage. \"These birds are very common,\" says Prince Von Wied, \"in all parts of the extensive forests of the Brazils and are killed for the table in large numbers during the cool seasons. Their eggs are deposited in the hollow limbs and holes of the colossal trees, so common in the tropical forests, but their nests are very difficult to find. The egg is said to be white. They are very fond of fruit, oranges, guavas and plantains, and when these fruits are ripe make sad havoc among the neighboring plantations. In return for these depredations the planter eats their flesh, which is very delicate.\" The flight of these birds is easy and graceful, sweeping with facility over the loftiest trees of their native forests, their strangely developed bills being no encumbrance to them, replete as they are with a tissue of air-filled cells rendering them very light and even buoyant. On the ground they get along with a rather awkward hopping movement, their legs being kept widely apart. In ascending a tree they do not climb but mount from one branch to another with a series of jumps, ascending to the tops of the very loftiest trees, safe from every missile except a rifle ball. They have a habit of sitting on the branches in flocks, lifting their bills, clattering them together, and shouting hoarsely all the while, from which custom the natives call them Preacher-birds. Sometimes the whole party, including the sentinel, set up a simultaneous yell so deafeningly loud that it can be heard a mile. They are very loquacious birds and are often discovered through their perpetual chattering. Their cry resembles the word \"Tucano,\" which has given origin to the peculiar name. When settling itself to sleep, the Toucan packs itself up in a very systematic manner, supporting its huge beak by resting it on its back, and tucking it completely among the feathers, while it doubles its tail across its back just as if it moved on hinges. So completely is the large bill hidden among the feathers, that hardly a trace of it is visible in spite of its great size and bright color, so that the bird when sleeping looks like a great ball of loose feathers. Sir R. Owen concludes that the large beak is of service in masticating food compensating for the absence of any grinding structures in the intestinal tract. Says a naturalist: \"We turned into a gloomy forest and for some time saw nothing but a huge brown moth, which looked almost like a bat on the wing. Suddenly we heard high upon the trees a short shrieking sort of noise ending in a hiss, and our guide became excited and said, \"Toucan!\" The birds were very wary and made off. They are much in quest and often shot at. At last we caught sight of a pair, but they were at the top of such a high tree that they were out of range. Presently, when I had about lost hope, I heard loud calls, and three birds came and settled in a low bush in the middle of the path. I shot one and it proved to be a very large toucan. The bird was not quite dead when I picked it up, and it bit me severely with its huge bill.\" THE RED-RUMPED TANAGER. I have just been singing my morning song, and I wish you could have heard it. I think you would have liked it. I always sing very early in the morning. I sing because I am happy, and the people like to hear me. My home is near a small stream, where there are low woods and underbrush along its banks. There is an old dead tree there, and just before the sun is up I fly to this tree. I sit on one of the branches and sing for about half an hour. Then I fly away to get my breakfast. I am very fond of fruit. Bananas grow where I live, and I like them best of all. I eat insects, and sometimes I fly to the rice fields and swing on the stalks and eat rice. The people say I do much harm to the rice, but I do not see why it is wrong for me to eat it, for I think there is enough for all. I must go now and get my breakfast. If you ever come to see me I will sing to you. I will show you my wife, too. She looks just like me. Be sure to get up very early. If you do not, you will be too late for my song. * * * \"Birds, Birds! ye are beautiful things, With your earth-treading feet and your cloud-cleaving wings. Where shall man wander, and where shall he dwell-- Beautiful birds--that ye come not as well? Ye have nests on the mountain, all rugged and stark, Ye have nests in the forest, all tangled and dark; Ye build and ye brood \\'neath the cottagers\\' eaves, And ye sleep on the sod, \\'mid the bonnie green leaves; Ye hide in the heather, ye lurk in the brake, Ye dine in the sweet flags that shadow the lake; Ye skim where the stream parts the orchard decked land, Ye dance where the foam sweeps the desolate strand.\" [Illustration: RED-RUMPED TANAGER.] THE RED-RUMPED TANAGER. An American family, the Tanagers are mostly birds of very brilliant plumage. There are 300 species, a few being tropical birds. They are found in British and French Guiana, living in the latter country in open spots of dwellings and feeding on bananas and other fruits. They are also said to do much harm in the rice fields. In \"The Auk,\" of July, 1893, Mr. George K. Cherrie, of the Field Museum, says of the Red-Rumped Tanager: \"During my stay at Boruca and Palmar, (the last of February) the breeding season was at its height, and I observed many of the Costa Rica Red-Rumps nesting. In almost every instance where possible I collected both parents of the nests, and in the majority of cases found the males wearing the same dress as the females. In a few instances the male was in mottled plumage, evidently just assuming the adult phase, and in a lesser number of examples the male was in fully adult plumage--velvety black and crimson red. From the above it is clear that the males begin to breed before they attain fully adult plumage, and that they retain the dress of the female until, at least, the beginning of the second year. \"While on this trip I had many proofs that, in spite of its rich plumage, and being a bird of the tropics, it is well worthy to hold a place of honor among the song birds. And if the bird chooses an early hour and a secluded spot for expressing its happiness, the melody is none the less delightful. At the little village of Buenos Aires, on the Rio Grande of Terraba, I heard the song more frequently than at any other point. Close by the ranch house at which we were staying, there is a small stream bordered by low woods and underbrush, that formed a favorite resort for the birds. Just below the ranch is a convenient spot where we took our morning bath. I was always there just as the day was breaking. On the opposite bank was a small open space in the brush occupied by the limbs of a dead tree. On one of these branches, and always the same one, was the spot chosen by a Red-rump to pour forth his morning song. Some mornings I found him busy with his music when I arrived, and again he would be a few minutes behind me. Sometimes he would come from one direction, sometimes from another, but he always alighted at the same spot and then lost no time in commencing his song. While singing, the body was swayed to and fro, much after the manner of a canary while singing. The song would last for perhaps half an hour, and then away the singer would go. I have not enough musical ability to describe the song, but will say that often I remained standing quietly for a long time, only that I might listen to the music.\" THE GOLDEN ORIOLE. We find the Golden Oriole in America only. According to Mr. Nuttall, it is migratory, appearing in considerable numbers in West Florida about the middle of March. It is a good songster, and in a state of captivity imitates various tunes. This beautiful bird feeds on fruits and insects, and its nest is constructed of blades of grass, wool, hair, fine strings, and various vegetable fibers, which are so curiously interwoven as to confine and sustain each other. The nest is usually suspended from a forked and slender branch, in shape like a deep basin and generally lined with fine feathers. \"On arriving at their breeding locality they appear full of life and activity, darting incessantly through the lofty branches of the tallest trees, appearing and vanishing restlessly, flashing at intervals into sight from amidst the tender waving foliage, and seem like living gems intended to decorate the verdant garments of the fresh clad forest.\" It is said these birds are so attached to their young that the female has been taken and conveyed on her eggs, upon which with resolute and fatal instinct she remained faithfully sitting until she expired. An Indiana gentleman relates the following story: \"When I was a boy living in the hilly country of Southern Indiana, I remember very vividly the nesting of a pair of fine Orioles. There stood in the barn yard a large and tall sugar tree with limbs within six or eight feet of the ground. \"At about thirty feet above the ground I discovered evidences of an Oriole\\'s nest. A few days later I noticed they had done considerably more work, and that they were using horse hair, wool and fine strings. This second visit seemed to create consternation in the minds of the birds, who made a great deal of noise, apparently trying to frighten me away. I went to the barn and got a bunch of horse hair and some wool, and hung it on limbs near the nest. Then climbing up higher, I concealed myself where I could watch the work. In less than five minutes they were using the materials and chatted with evident pleasure over the abundant supply at hand. \"They appeared to have some knowledge of spinning, as they would take a horse hair and seemingly wrap it with wool before placing it in position on the nest. \"I visited these birds almost daily, and shortly after the nest was completed I noticed five little speckled eggs in it. The female was so attached to the nest that I often rubbed her on the back and even lifted her to look at the eggs.\" [Illustration: GOLDEN ORIOLE.] TESTIMONIALS. CHICAGO, December 10th, 1896. NATURE STUDY PUBLISHING COMPANY. DEAR SIRS: I am very much pleased with this movement to give such substantial and tangible aid to us on this subject, and for your kind offer also. Respectfully, HARRIET N. WINCHELL, Principal Tilden School. ST. JOSEPH, MICH., January 4, 1897. PRINCIPAL W. J. BLACK, Chicago. DEAR SIR: Thanks for sample copy of \"Birds.\" It is by far the finest thing I have ever seen in that line. I shall take great pleasure in presenting it to my teachers, and shall be glad to be of any assistance to you that I am able. Yours, GEORGE W. LOOMIS, Superintendent City Schools. DES MOINES, IOWA, January 5, 1897. NATURE STUDY PUBLISHING COMPANY, Fisher Building, Chicago. I have just seen the January number of \"Birds,\" illustrated by color photography; and think it instructive, delightful and beautiful. Very sincerely, MRS. MINNIE THERESA HATCH, Principal Washington School. LUTHER, MICH., December 31st, 1896. W. E. WATT, Chicago, Ill. DEAR SIR: Your serial on Birds received and after examination I have no hesitation in saying that it is the best publication of the kind that I have ever seen and I will do all that I can for you in presenting it to my teachers and recommending it to their favorable notice. Very truly, E. G. JOHNSON, Commissioner of Schools. OUR PREMIUM A picture of wonderful beauty of the Golden Pheasant almost life size in a natural scene, plate 12×18 inches, on card 19×25 inches, is given as a premium to yearly subscribers. Our price on this picture in Art Stores is $3.50. *** END OF THE PROJECT GUTENBERG EBOOK BIRDS, ILLUSTRATED BY COLOR PHOTOGRAPHY, VOL. 1, NO. 1 *** Updated editions will replace the previous one—the old editions will be renamed. Creating the works from print editions not protected by U.S. copyright law means that no one owns a United States copyright in these works, so the Foundation (and you!) can copy and distribute it in the United States without permission and without paying copyright royalties. Special rules, set forth in the General Terms of Use part of this license, apply to copying and distributing Project Gutenberg™ electronic works to protect the PROJECT GUTENBERG™ concept and trademark. Project Gutenberg is a registered trademark, and may not be used if you charge for an eBook, except by following the terms of the trademark license, including paying royalties for use of the Project Gutenberg trademark. If you do not charge anything for copies of this eBook, complying with the trademark license is very easy. You may use this eBook for nearly any purpose such as creation of derivative works, reports, performances and research. Project Gutenberg eBooks may be modified and printed and given away—you may do practically ANYTHING in the United States with eBooks not protected by U.S. copyright law. Redistribution is subject to the trademark license, especially commercial redistribution. START: FULL LICENSE THE FULL PROJECT GUTENBERG LICENSE PLEASE READ THIS BEFORE YOU DISTRIBUTE OR USE THIS WORK To protect the Project Gutenberg™ mission of promoting the free distribution of electronic works, by using or distributing this work (or any other work associated in any way with the phrase “Project Gutenberg”), you agree to comply with all the terms of the Full Project Gutenberg™ License available with this file or online at www.gutenberg.org/license. Section 1. General Terms of Use and Redistributing Project Gutenberg™ electronic works 1.A. By reading or using any part of this Project Gutenberg™ electronic work, you indicate that you have read, understand, agree to and accept all the terms of this license and intellectual property (trademark/copyright) agreement. If you do not agree to abide by all the terms of this agreement, you must cease using and return or destroy all copies of Project Gutenberg™ electronic works in your possession. If you paid a fee for obtaining a copy of or access to a Project Gutenberg™ electronic work and you do not agree to be bound by the terms of this agreement, you may obtain a refund from the person or entity to whom you paid the fee as set forth in paragraph 1.E.8. 1.B. “Project Gutenberg” is a registered trademark. It may only be used on or associated in any way with an electronic work by people who agree to be bound by the terms of this agreement. There are a few things that you can do with most Project Gutenberg™ electronic works even without complying with the full terms of this agreement. See paragraph 1.C below. There are a lot of things you can do with Project Gutenberg™ electronic works if you follow the terms of this agreement and help preserve free future access to Project Gutenberg™ electronic works. See paragraph 1.E below. 1.C. The Project Gutenberg Literary Archive Foundation (“the Foundation” or PGLAF), owns a compilation copyright in the collection of Project Gutenberg™ electronic works. Nearly all the individual works in the collection are in the public domain in the United States. If an individual work is unprotected by copyright law in the United States and you are located in the United States, we do not claim a right to prevent you from copying, distributing, performing, displaying or creating derivative works based on the work as long as all references to Project Gutenberg are removed. Of course, we hope that you will support the Project Gutenberg™ mission of promoting free access to electronic works by freely sharing Project Gutenberg™ works in compliance with the terms of this agreement for keeping the Project Gutenberg™ name associated with the work. You can easily comply with the terms of this agreement by keeping this work in the same format with its attached full Project Gutenberg™ License when you share it without charge with others. 1.D. The copyright laws of the place where you are located also govern what you can do with this work. Copyright laws in most countries are in a constant state of change. If you are outside the United States, check the laws of your country in addition to the terms of this agreement before downloading, copying, displaying, performing, distributing or creating derivative works based on this work or any other Project Gutenberg™ work. The Foundation makes no representations concerning the copyright status of any work in any country other than the United States. 1.E. Unless you have removed all references to Project Gutenberg: 1.E.1. The following sentence, with active links to, or other immediate access to, the full Project Gutenberg™ License must appear prominently whenever any copy of a Project Gutenberg™ work (any work on which the phrase “Project Gutenberg” appears, or with which the phrase “Project Gutenberg” is associated) is accessed, displayed, performed, viewed, copied or distributed: This eBook is for the use of anyone anywhere in the United States and most other parts of the world at no cost and with almost no restrictions whatsoever. You may copy it, give it away or re-use it under the terms of the Project Gutenberg License included with this eBook or online at www.gutenberg.org. If you are not located in the United States, you will have to check the laws of the country where you are located before using this eBook. 1.E.2. If an individual Project Gutenberg™ electronic work is derived from texts not protected by U.S. copyright law (does not contain a notice indicating that it is posted with permission of the copyright holder), the work can be copied and distributed to anyone in the United States without paying any fees or charges. If you are redistributing or providing access to a work with the phrase “Project Gutenberg” associated with or appearing on the work, you must comply either with the requirements of paragraphs 1.E.1 through 1.E.7 or obtain permission for the use of the work and the Project Gutenberg™ trademark as set forth in paragraphs 1.E.8 or 1.E.9. 1.E.3. If an individual Project Gutenberg™ electronic work is posted with the permission of the copyright holder, your use and distribution must comply with both paragraphs 1.E.1 through 1.E.7 and any additional terms imposed by the copyright holder. Additional terms will be linked to the Project Gutenberg™ License for all works posted with the permission of the copyright holder found at the beginning of this work. 1.E.4. Do not unlink or detach or remove the full Project Gutenberg™ License terms from this work, or any files containing a part of this work or any other work associated with Project Gutenberg™. 1.E.5. Do not copy, display, perform, distribute or redistribute this electronic work, or any part of this electronic work, without prominently displaying the sentence set forth in paragraph 1.E.1 with active links or immediate access to the full terms of the Project Gutenberg™ License. 1.E.6. You may convert to and distribute this work in any binary, compressed, marked up, nonproprietary or proprietary form, including any word processing or hypertext form. However, if you provide access to or distribute copies of a Project Gutenberg™ work in a format other than “Plain Vanilla ASCII” or other format used in the official version posted on the official Project Gutenberg™ website (www.gutenberg.org), you must, at no additional cost, fee or expense to the user, provide a copy, a means of exporting a copy, or a means of obtaining a copy upon request, of the work in its original “Plain Vanilla ASCII” or other form. Any alternate format must include the full Project Gutenberg™ License as specified in paragraph 1.E.1. 1.E.7. Do not charge a fee for access to, viewing, displaying, performing, copying or distributing any Project Gutenberg™ works unless you comply with paragraph 1.E.8 or 1.E.9. 1.E.8. You may charge a reasonable fee for copies of or providing access to or distributing Project Gutenberg™ electronic works provided that: • You pay a royalty fee of 20% of the gross profits you derive from the use of Project Gutenberg™ works calculated using the method you already use to calculate your applicable taxes. The fee is owed to the owner of the Project Gutenberg™ trademark, but he has agreed to donate royalties under this paragraph to the Project Gutenberg Literary Archive Foundation. Royalty payments must be paid within 60 days following each date on which you prepare (or are legally required to prepare) your periodic tax returns. Royalty payments should be clearly marked as such and sent to the Project Gutenberg Literary Archive Foundation at the address specified in Section 4, “Information about donations to the Project Gutenberg Literary Archive Foundation.” • You provide a full refund of any money paid by a user who notifies you in writing (or by e-mail) within 30 days of receipt that s/he does not agree to the terms of the full Project Gutenberg™ License. You must require such a user to return or destroy all copies of the works possessed in a physical medium and discontinue all use of and all access to other copies of Project Gutenberg™ works. • You provide, in accordance with paragraph 1.F.3, a full refund of any money paid for a work or a replacement copy, if a defect in the electronic work is discovered and reported to you within 90 days of receipt of the work. • You comply with all other terms of this agreement for free distribution of Project Gutenberg™ works. 1.E.9. If you wish to charge a fee or distribute a Project Gutenberg™ electronic work or group of works on different terms than are set forth in this agreement, you must obtain permission in writing from the Project Gutenberg Literary Archive Foundation, the manager of the Project Gutenberg™ trademark. Contact the Foundation as set forth in Section 3 below. 1.F. 1.F.1. Project Gutenberg volunteers and employees expend considerable effort to identify, do copyright research on, transcribe and proofread works not protected by U.S. copyright law in creating the Project Gutenberg™ collection. Despite these efforts, Project Gutenberg™ electronic works, and the medium on which they may be stored, may contain “Defects,” such as, but not limited to, incomplete, inaccurate or corrupt data, transcription errors, a copyright or other intellectual property infringement, a defective or damaged disk or other medium, a computer virus, or computer codes that damage or cannot be read by your equipment. 1.F.2. LIMITED WARRANTY, DISCLAIMER OF DAMAGES - Except for the “Right of Replacement or Refund” described in paragraph 1.F.3, the Project Gutenberg Literary Archive Foundation, the owner of the Project Gutenberg™ trademark, and any other party distributing a Project Gutenberg™ electronic work under this agreement, disclaim all liability to you for damages, costs and expenses, including legal fees. YOU AGREE THAT YOU HAVE NO REMEDIES FOR NEGLIGENCE, STRICT LIABILITY, BREACH OF WARRANTY OR BREACH OF CONTRACT EXCEPT THOSE PROVIDED IN PARAGRAPH 1.F.3. YOU AGREE THAT THE FOUNDATION, THE TRADEMARK OWNER, AND ANY DISTRIBUTOR UNDER THIS AGREEMENT WILL NOT BE LIABLE TO YOU FOR ACTUAL, DIRECT, INDIRECT, CONSEQUENTIAL, PUNITIVE OR INCIDENTAL DAMAGES EVEN IF YOU GIVE NOTICE OF THE POSSIBILITY OF SUCH DAMAGE. 1.F.3. LIMITED RIGHT OF REPLACEMENT OR REFUND - If you discover a defect in this electronic work within 90 days of receiving it, you can receive a refund of the money (if any) you paid for it by sending a written explanation to the person you received the work from. If you received the work on a physical medium, you must return the medium with your written explanation. The person or entity that provided you with the defective work may elect to provide a replacement copy in lieu of a refund. If you received the work electronically, the person or entity providing it to you may choose to give you a second opportunity to receive the work electronically in lieu of a refund. If the second copy is also defective, you may demand a refund in writing without further opportunities to fix the problem. 1.F.4. Except for the limited right of replacement or refund set forth in paragraph 1.F.3, this work is provided to you ‘AS-IS’, WITH NO OTHER WARRANTIES OF ANY KIND, EXPRESS OR IMPLIED, INCLUDING BUT NOT LIMITED TO WARRANTIES OF MERCHANTABILITY OR FITNESS FOR ANY PURPOSE. 1.F.5. Some states do not allow disclaimers of certain implied warranties or the exclusion or limitation of certain types of damages. If any disclaimer or limitation set forth in this agreement violates the law of the state applicable to this agreement, the agreement shall be interpreted to make the maximum disclaimer or limitation permitted by the applicable state law. The invalidity or unenforceability of any provision of this agreement shall not void the remaining provisions. 1.F.6. INDEMNITY - You agree to indemnify and hold the Foundation, the trademark owner, any agent or employee of the Foundation, anyone providing copies of Project Gutenberg™ electronic works in accordance with this agreement, and any volunteers associated with the production, promotion and distribution of Project Gutenberg™ electronic works, harmless from all liability, costs and expenses, including legal fees, that arise directly or indirectly from any of the following which you do or cause to occur: (a) distribution of this or any Project Gutenberg™ work, (b) alteration, modification, or additions or deletions to any Project Gutenberg™ work, and (c) any Defect you cause. Section 2. Information about the Mission of Project Gutenberg™ Project Gutenberg™ is synonymous with the free distribution of electronic works in formats readable by the widest variety of computers including obsolete, old, middle-aged and new computers. It exists because of the efforts of hundreds of volunteers and donations from people in all walks of life. Volunteers and financial support to provide volunteers with the assistance they need are critical to reaching Project Gutenberg™’s goals and ensuring that the Project Gutenberg™ collection will remain freely available for generations to come. In 2001, the Project Gutenberg Literary Archive Foundation was created to provide a secure and permanent future for Project Gutenberg™ and future generations. To learn more about the Project Gutenberg Literary Archive Foundation and how your efforts and donations can help, see Sections 3 and 4 and the Foundation information page at www.gutenberg.org. Section 3. Information about the Project Gutenberg Literary Archive Foundation The Project Gutenberg Literary Archive Foundation is a non-profit 501(c)(3) educational corporation organized under the laws of the state of Mississippi and granted tax exempt status by the Internal Revenue Service. The Foundation’s EIN or federal tax identification number is 64-6221541. Contributions to the Project Gutenberg Literary Archive Foundation are tax deductible to the full extent permitted by U.S. federal laws and your state’s laws. The Foundation’s business office is located at 809 North 1500 West, Salt Lake City, UT 84116, (801) 596-1887. Email contact links and up to date contact information can be found at the Foundation’s website and official page at www.gutenberg.org/contact Section 4. Information about Donations to the Project Gutenberg Literary Archive Foundation Project Gutenberg™ depends upon and cannot survive without widespread public support and donations to carry out its mission of increasing the number of public domain and licensed works that can be freely distributed in machine-readable form accessible by the widest array of equipment including outdated equipment. Many small donations ($1 to $5,000) are particularly important to maintaining tax exempt status with the IRS. The Foundation is committed to complying with the laws regulating charities and charitable donations in all 50 states of the United States. Compliance requirements are not uniform and it takes a considerable effort, much paperwork and many fees to meet and keep up with these requirements. We do not solicit donations in locations where we have not received written confirmation of compliance. To SEND DONATIONS or determine the status of compliance for any particular state visit www.gutenberg.org/donate. While we cannot and do not solicit contributions from states where we have not met the solicitation requirements, we know of no prohibition against accepting unsolicited donations from donors in such states who approach us with offers to donate. International donations are gratefully accepted, but we cannot make any statements concerning tax treatment of donations received from outside the United States. U.S. laws alone swamp our small staff. Please check the Project Gutenberg web pages for current donation methods and addresses. Donations are accepted in a number of other ways including checks, online payments and credit card donations. To donate, please visit: www.gutenberg.org/donate. Section 5. General Information About Project Gutenberg™ electronic works Professor Michael S. Hart was the originator of the Project Gutenberg™ concept of a library of electronic works that could be freely shared with anyone. For forty years, he produced and distributed Project Gutenberg™ eBooks with only a loose network of volunteer support. Project Gutenberg™ eBooks are often created from several printed editions, all of which are confirmed as not protected by copyright in the U.S. unless a copyright notice is included. Thus, we do not necessarily keep eBooks in compliance with any particular paper edition. Most people start at our website which has the main PG search facility: www.gutenberg.org. This website includes information about Project Gutenberg™, including how to make donations to the Project Gutenberg Literary Archive Foundation, how to help produce our new eBooks, and how to subscribe to our email newsletter to hear about new eBooks.'"
      ]
     },
     "execution_count": 33,
     "metadata": {},
     "output_type": "execute_result"
    }
   ],
   "source": [
    "first_book = df['Text'][0]\n",
    "first_book"
   ]
  },
  {
   "cell_type": "code",
   "execution_count": 34,
   "metadata": {},
   "outputs": [
    {
     "name": "stdout",
     "output_type": "stream",
     "text": [
      "The Proje\n"
     ]
    }
   ],
   "source": [
    "len(list(set(first_book)))\n",
    "print(first_book[:10])"
   ]
  },
  {
   "cell_type": "code",
   "execution_count": 7,
   "metadata": {},
   "outputs": [
    {
     "name": "stdout",
     "output_type": "stream",
     "text": [
      "hello\n"
     ]
    }
   ],
   "source": [
    "print('hello')"
   ]
  },
  {
   "cell_type": "code",
   "execution_count": 8,
   "metadata": {},
   "outputs": [
    {
     "data": {
      "text/plain": [
       "(14814, 5)"
      ]
     },
     "execution_count": 8,
     "metadata": {},
     "output_type": "execute_result"
    }
   ],
   "source": [
    "df = df[~df['Text'].isna()]\n",
    "df.shape"
   ]
  },
  {
   "cell_type": "code",
   "execution_count": 10,
   "metadata": {},
   "outputs": [
    {
     "ename": "KeyboardInterrupt",
     "evalue": "",
     "output_type": "error",
     "traceback": [
      "\u001b[0;31m---------------------------------------------------------------------------\u001b[0m",
      "\u001b[0;31mKeyboardInterrupt\u001b[0m                         Traceback (most recent call last)",
      "Cell \u001b[0;32mIn[10], line 1\u001b[0m\n\u001b[0;32m----> 1\u001b[0m chars \u001b[38;5;241m=\u001b[39m \u001b[38;5;28msorted\u001b[39m(\u001b[38;5;28mset\u001b[39m(\u001b[38;5;124m\"\u001b[39m\u001b[38;5;124m\"\u001b[39m\u001b[38;5;241m.\u001b[39mjoin(\u001b[38;5;28mstr\u001b[39m(x) \u001b[38;5;28;01mfor\u001b[39;00m x \u001b[38;5;129;01min\u001b[39;00m df[\u001b[38;5;124m'\u001b[39m\u001b[38;5;124mText\u001b[39m\u001b[38;5;124m'\u001b[39m] \u001b[38;5;28;01mif\u001b[39;00m pd\u001b[38;5;241m.\u001b[39mnotnull(x))))\n\u001b[1;32m      2\u001b[0m chars\n",
      "\u001b[0;31mKeyboardInterrupt\u001b[0m: "
     ]
    }
   ],
   "source": [
    "chars = sorted(set(\"\".join(str(x) for x in df['Text'] if pd.notnull(x))))\n",
    "chars"
   ]
  },
  {
   "cell_type": "code",
   "execution_count": 11,
   "metadata": {},
   "outputs": [
    {
     "name": "stdout",
     "output_type": "stream",
     "text": [
      "\u0003\u000f\u0012\u0015\u0016\u0019\u001a\u001b !\"#$%&'()*+,-./0123456789:;<=>?@ABCDEFGHIJKLMNOPQRSTUVWXYZ[\\]^_`abcdefghijklmnopqrstuvwxyz{|}~¡¢£¤¥¦§¨©ª«¬­®¯°±²³´µ¶·¸¹º»¼½¾¿ÀÁÂÃÄÅÆÇÈÉÊËÌÍÎÏÐÑÒÓÔÕÖ×ØÙÚÛÜÝÞßàáâãäåæçèéêëìíîïðñòóôõö÷øùúûüýþÿĀāĂăąĆćĈĉČčďĒēĔĕėĘęĚěĜĝġĩĪīĭĵķĺľŁłŃńňŌōŎŏŒœŕŘřŚśŠšŤťũŪūŭŮůŰűŷŸźŽžſƆƒƞǒǣǧǪǫțȜȝȧȯȳɤɶʳʹʺʻʾʿˆ˘˙˚˛˜˝̵̷̸̠̣̤́̂̃̄̅̆̇̈̏̑̓̿ͤͥ͝͞͠΄ΆΈΉΊΌΎΏΐΑΒΓΔΕΖΗΘΙΚΛΜΝΞΟΠΡΣΤΥΦΧΨΩάέήίΰαβγδεζηθικλμνξοπρςστυφχψωϊϋόύώϐϑϕϛϝϰϹКагеиопрְִֵֶַָֹּׂאבגדהוזחטיךכלםמןנסעףפץצקרשתاحدسلمهᚠᚢᚦᚭᚲᚳᚴᚼᛁᛅᛎᛏᛐᛘᛚᛦᛯᵀᵃᵉᵐᵒᵗᵛḅḊḍḏḤḥḫḷṃṄṅṇṓṚṛṢṣṪṬṭṯṼṿẓẖạắẵẹẽịọỏồỗụỹἀἁἂἃἄἅἆἈἉἌἎἐἑἒἓἔἕἘἙἜἝἠἡἢἣἤἥἦἧἨἩἫἬἭἮἰἱἲἳἴἵἶἷἸἹἼὀὁὂὃὄὅὈὉὊὌὍὐὑὓὔὕὖὗὝὠὡὢὣὤὥὦὧὨὩὬὰὲὴὶὸὺὼᾄᾐᾔᾖᾗᾠᾡᾤᾦᾧᾱᾳᾴᾶᾷ᾽᾿ῂῃῄῆῇῐῑῒῖῠῤῥῦῬῳῴῶῷῸ῾‏‐‑‒–—―‘’‚“”„†‡•…‧‰′″‹›⁂⁄⁊⁰ⁱ⁴⁵⁶⁷⁸⁹₀₁₂₃₄₅₆₇₈₉€℅™℥⅐⅑⅒⅓⅔⅕⅖⅗⅘⅙⅚⅛⅜⅝⅞→⇽⇾∂∆∑−√∛∞∫∴⋅─│┌┐└┘├┤┬┴┼║░■□△▽◊★☆☉☞☼☿♀♂♃♄♦♭♯✝✠❧⟶⬭⸺、。々《》「」『』〔〕あいうえおかがきぎくぐけげこごさざしじすずせぜそぞただちっつづてでとどなにねのはばひびふぶへべほまみむめもゃやゆょよらりるれろわをんアィイウエオカキクグコスタダチッテトドニヌパピブプポマムメャラリルロン・ー一丁七丈三上下不与丑且丕世丘丙丞丟両並丫中丰串丸丹主乃久之乍乎乏乖乘乜九乞也乩乳乾亂了予事二于云互五井亙些亞亟亡亢交亥亦亨享京亭亮亳人亻什仁仃仄仆仇今介仍仔仕他仗付仙仞代令以仰仲件任份企伉伊伍伎伏伐休伙会伯伴伶伸伺似伽佃但佇佈位低住佐佑体佔何余佛作佞你佣佩佯佳併佼使侃侄來侈例侍侏侑侔侖侘供依侮侯侵侶侷便係促俄俊俎俏俐俗俘俚保俞俟俠信修俯俱俳俸俺俾倆倉個倌倍倏們倒倔倖倘候倚倜借倡倦倨倩倫倭值偃假偈偉偌偎偏偕做停健側偵偶偷偽傀傅傍傑傘備催傭傲傳傴債傷傺傾僂僅僉働像僕僚僥僦僧僬僭僮僱僵價僻儀儂億儆儉儒儔償儡優儲儷儻儼兀允元兄充兆兇先光克兌免兑兒兔兜兢入內全兩八公六兮共兵其具典兼冀内冉冊再冑冒冕冗冠冢冤冥冬冰冶冷冽准凋凌凍凜凝几凡処凰凱凳凴凶出函刀刁刂刃分切刊刎刑列初判別利刮到刳制刺刻剃剄則削剋剌前剎剔剖剛剜剝剞剡剩剪剮副割創剽剿劂劃劇劈劉劍劑力功加劣助努劫劾勁勃勇勉勒動勘務勛勝勞募勢勤勵勸勺勻勾勿包匆匍匏匐匕化北匙匝匡匣匪匯匱匹区匾匿區十千升午卉半卑卒卓協南単博卜卞占卦卮卯印危即卵卷卸卻卿厄厘厚厝原厥厭厲去参參又叉及友反叔取受叛叟叢口古句另叨叩只叫召叮可台叱史右号司吁吃各吆合吉吊同名后吏吐向君吝吞吟吠否吩含吮吳吵吶吸吹吻吼吾呀呂呆呈告呢呤周呪味呵呷呻呼命咀咂咄咆咋和咎咐咒咤咨咫咬咯咱咳咸咽咿哀品哂哄哈哉員哥哦哩哪哭哮哲哺哼哽唅唆唇唏唐唔唧唬售唯唱唳唷唸唾啄商問啐啖啜啞啟啥啻啼啾喁喂喃善喈喉喊喋喏喔喘喙喚喜喝喟喧喪喬單喲喻嗄嗅嗇嗑嗔嗚嗜嗟嗣嗤嗷嗽嘆嘈嘉嘎嘔嘖嘗嘘嘩嘯嘲嘴嘶嘹嘻噓器噩噪噫噬噴嚀嚅嚇嚏嚙嚦嚨嚴嚶嚷嚼囀囁囂囉囊囑囚四回因囤困囹固国圂圃圄圈國圍園圓圖團圜土在圭地圻址均坊坌坎坐坑坡坤坦坯坳坻坼垂垓垢垣埃埋城埒域執培基堂堅堆堡堤堪堯報場堵塊塋塌塑塔塗塘塚塞塢填塵塹塾墀境墓増墜增墟墨墩墮墳墾壁壇壑壓壘壙壚壞壟壤壩士壬壯売壺壽夏夔夕外夙多夜夠夢夤夥大天太夫夭央夯失夷夾奇奈奉奎奏契奔奕套奚奠奢奩奪奮女奴奶奸她好妁如妃妄妊妍妒妓妖妗妙妝妣妤妥妨妮妯妹妻妾姆姊始姐姑姓委姚姜姝姣姤姦姨姪姬姻姿威娃娉娌娑娘娛娜娟娠娥娩娬娶娼婁婆婉婕婚婢婦婪婬婷婿媒媚媛媯媲媳媵媸媼媽媾嫁嫂嫉嫋嫌嫖嫗嫠嫡嫣嫦嫩嬈嬉嬋嬌嬖嬙嬪嬰嬲嬸孀孌子孑孔孕字存孚孛孜孝孟季孤孥学孩孫孰學孺孽宄宅宇守安宋完宏宗官宙定宛宜実客宣室宥宦宮宰害宴宵家宸容宿寂寄寅密寇富寐寒寓寝寞察寡寢寤寥實寧寨審寫寬寮寰寵寶寸寺対封射將專尉尊尋對導小少尖尚尤尬就尷尹尺尼尾尿局屁居屆屈屋屍屏屐屑展屠屢屣層履屬屯山岐岑岡岩岫岳岸峒峙峨峰島峻峽崇崎崑崔崖崗崙崢崤崩嵐嵩嵬嶂嶇嶠嶸嶺嶼嶽巍巒巔巖川州巡巢工左巧巨巫差己已巳巴巷巹巽巾市布帆希帔帕帖帙帚帛帝帥師席帳帶帷常帽幃幄幅幌幔幕幡幢幣幫干平年幸幹幻幼幽幾庇床序底庖店庚府庠度座庫庭庵庶康庸廁廂廄廈廉廊廑廓廖廚廛廝廟廡廢廣廬廳延廷建廿弁弄弈弊式弒弓弔引弗弘弛弟弦弧弩弭弱張強弼彀彈彌彎当彖彗彘彝形彩彪彬彭彰影彷役彼彿往征徂待徇很徉徊律後徐徑徒従得徘徙徜從御徨復循微徳徵德徹徼徽心忄必忌忍忒忖志忘忙応忝忠忡忤忪快忱念忸忻忽忿怊怎怏怒怕怖怙怛思怠怡急性怨怩怪怯恁恂恃恆恍恐恒恕恙恚恝恢恣恤恥恨恩恪恬恭息恰恵悃悄悅悉悌悍悒悔悖悚悛悟悠患悩悪悲悴悵悶悸悼悽情惆惇惋惑惕惘惚惜惟惠惡惰惱想惶惹惺惻愀愁愆愈愍意愕愚愛愜感愧愫愴愷慄慇慈慊態慌慍慎慕慘慚慝慟慢慣慧慨慮慰慳慵慶慷慼慾憂憊憍憎憐憑憔憚憤憧憨憩憫憮憲憶憾懃懇懈應懊懦懨懲懵懶懷懸懺懼懿戀戈戊戌戍戎成我戒戕或戚戛戟戢截戮戰戲戳戴戶戾房所扁扃扇扉手扌才扎扑扒打托扛扣扭扮扯扱扳扶批扼找承技抄把抑抓投抖抗折披抬抱抵抹押抽拂拆拈拉拊拋拌拍拎拐拒拔拖拗拘拙拚招拜拝括拭拯拱拳拴拶拷拼拽拾拿持挂指挈按挑挖挨挪挫振挲挹挺挽挾捆捉捍捎捏捐捕捧捨捫捱捲捶捷捺捻掀掃掄掇授掉掌排掖掘掙掛掠採探掣接控推掩措掬掾揀揆揉描提插揖揚換握揣揩揪揭揮援損搏搔搖搗搜搠搦搧搬搭搶搽摅摒摘摟摧摩摭摯摳摶摸摹摺撃撇撈撐撒撓撞撤撥撩撫撬播撮撰撲撻撼撿擁擂擄擅擇擊操擎擒擔擘據擠擢擦擬擱擲擴擷擺擾攀攏攔攘攙攛攜攝攢攤攪攬支收攸改攻放政故效敏救敕敖敗敘教敝敞敢散敦敬敲整敵敷數斂斃文斌斐斑斗料斛斜斟斡斤斥斧斫斬断斯新斷方於施旁旃旄旅旆旋旌旎族旒旖旗既日旦旨早旬旭旰旱旺昂昃昆昇昊昌明昏易昔星映春昧昨昭是昵時晃晉晌晏晒晚晝晤晦晨晩普景晰晴晶晷智暄暇暈暉暑暖暗暝暢暨暫暮暴曆曇曉曙曜曝曠曩曬曰曲曳更曷書曹曼曾替最會月有朋服朔朕朗望朝期朦朧木未末本札朮朱朴朵朽杆杉杌李杏材村杓杖杜束条来杪杭杯杰東杳杵杷杼松板枇枉枋析枕林枚果枝枯枰枳架枷柄柏某柑染柔柘查柩柬柯柰柱柳柴柵柿栄栓栗校株核根格栽桀桂桃桅案桌桎桐桑桓桔桶梁梅梆梏梓梗條梟梢梧梨梭梯械梳梵棄棉棋棍棒棕棗棘棚棟棠棣棧森棱棲棹棺椅植椎椒椽椿楊楓楚楫業楮極楷楹楻概榆榔榛榜榭榮榴榷榻槁槃構槍槎槐槔様槧槨樁樂樊樑樓樗標樞模樣樨権樵樸樹樽橄橋橐橘橙機橫檀檄檐檑檗檜檠檢檣檯檳檻櫃櫓櫛櫝櫟櫱櫳櫺櫻欄權欒欖欠次欣欲欹欺欽款歃歆歇歉歌歎歐歓歟歡止正此步武歧歩歪歲歴歷歸歹死歿殂殃殆殉殊殍殖殘殛殞殪殫殮殯殲段殷殺殼殿毀毅毆毋母毎每毒毓比毛毫毯氅氈氏民気氛氣氤氳水氵永汀汁求汆汔汗汙汛汝汞江池污汪汲汴汶決汾沁沂沃沈沉沌沐沒沖沙沛沫沮沱河沸油治沼沽沾沿況泄泉泊泌泐泓法泛泠泡波泣泥注泮泯泰泱洄洋洗洙洛洞津洩洪洲洵洶洹活洽派流浙浠浣浦浩浪浮浴海浸浹浼涂涅涇消涉涌涎涓涕涙涣涯液涵涸涼淄淅淇淋淑淒淘淚淡淤淥淨淩淪淫淮深淳淵混淹淺添清渚減渝渠渡渣渤渥測渭港渴游渺渾湃湊湍湖湘湛湧湫湮湯満源準溘溜溝溟溢溥溪溫溶溺滂滄滅滋滌滑滓滔滯滲滴滸滾滿漁漂漆漉漏漓演漚漠漢漣漪漫漬漯漱漲漳漸漾漿潑潔潘潛潞潢潤潭潮潯潰潸潺澀澄澆澈澗澠澡澤澶澹激濁濃濕濛濟濡濤濫濯濱濺瀆瀉瀑瀚瀛瀝瀟瀦瀰瀲瀾灌灑灘灞灣灩火灰灶灼災炊炎炒炙炫炬炭炮炳炷為烈烊烏烘烹烽焉焙焚無焦焰焱然煉煌煎煙煞煢煤煥照煩煮煽熊熏熒熔熙熟熠熬熱熳熾燁燃燄燈燎燒燕燙營燥燦燭燴燼爆爍爐爛爨爪爬爭爰爵父爹爺爽爾牀牆片牌牒牖牘牙牛牝牡牢牧物牯牲特牽牾犀犁犄犒犬犭犯狀狂狄狎狐狗狙狠狡狩独狴狸狼猊猖猗猛猜猥猩献猴猶猾猿獄獅獍獎獐獒獨獲獵獸獻玄率玉王玎玕玖玩玫玲玳玷玻珀珂珊珍珏珙珠珥班現球琅理琉琛琢琥琪琰琳琴琵琶瑁瑕瑙瑚瑛瑜瑞瑟瑣瑤瑩瑪瑯瑰璀璃璇璉璋璘璞璣璧璨環瓊瓏瓜瓠瓢瓣瓦瓮瓶甌甍甑甕甘甚甜生產産甥甦用甫田由甲申男畋界畏畑畔留畜畝畢略畦番畫異當畹畿疆疇疊疏疑疫疲疵疼疾病症痊痍痕痘痛痼瘋瘞瘟瘠瘡瘥瘦瘧瘴療癆癒癖癡癢癩癸登發白百皂的皆皇皎皓皮皺皿盂盆盈益盍盎盒盔盗盛盜盞盟盡監盤盥盧目盱盲直相盼盾省眇眉看真眠眥眩眶眷眸眺眼眾着睃睆睍睏睚睛睜睡睢督睥睦睨睫睬睹睽睿瞀瞅瞇瞋瞌瞎瞑瞞瞟瞠瞥瞧瞬瞰瞳瞻瞿矇矍矗矚矛矜矢矣知矧矩短矮矯石砂砌砍研砕砧破硃硎硬硯碌碎碑碗碧碩碰確碼磋磐磔磕磚磧磨磬礙礪礫示礻礼社祀祁祇祈祖祗祛祝神祟祠祥祧票祭祿禁禍福禪禮禱禳禹禽禾禿秀私秉秋科秘租秣秤秦秧秩移稀稅程稍稔稗稚稟稠種稱稷稹稻稼稽稿穀穄積穎穠穢穩穴究穸穹空穿窀突窄窈窒窕窗窘窟窠窩窬窮窯窺竄竅竇竊立站竟章童竦竭端競竹竺竿笄笑笙笛笞笠笥符第笳筆等筋筌筍筐筑筒答策筠筮筲筵箋箏箔箕算箜管箭箱箴箸節範篆篇築篋篌篙篤篦篩篪篳篷篾簇簟簡簣簧簪簫簷簽簾簿籃籌籍籟籠籤籬米籸粉粋粒粕粗粘粟粱粲粵粽精糊糕糖糜糞糟糠糧糴糾紀紂約紅紆紇紈紋納紐純紗紙級紛紜紟素紡索紫紮累細紲紳紹紿終組絆経結絕絞絡絢給絨絮統絲絳絶絹綃經続綜綠綢綣維綰綱網綴綵綸綺綻綽綾綿緇緊緋緒緘線緝緞締緣編緩緬緯緲練緺緻縈縉縊縐縑縛縞縣縧縫縮縱縲縵縷縹縻總績繁繆織繕繚繞繡繩繪繫繭繳繹繼繽繾纊續纍纏纓纔纖纜纟缸缺缽罄罅罌罐罔罕罘罟罩罪置罰署罵罷罹羅羈羊羋羌美羞群羨義羯羲羶羸羹羽翁翅翌翎習翔翕翠翡翦翩翮翰翱翳翹翻翼耀老考耄者耆而耍耐耒耕耗耙耜耦耨耳耶耽耿聆聊聒聖聘聚聞聯聰聲聳職聽聾聿肄肅肆肇肉肋肌肓肖肘肚肝股肢肥肩肯肱育肴肺胃背胎胖胞胡胥胭胯胸胼能脂脅脆脈脊脖脛脣脫脯腆腐腑腔腕腥腦腫腮腰腳腴腸腹腼腿膏膚膝膠膩膳膺膻膽膾膿臂臆臉臍臘臚臞臟臣臥臧臨自臬臭臯至致臺臻臼臾舁舂舅與興舉舊舌舍舐舒舔舖舛舜舞舟航舫般船艇艙艤艮良艱色艴艷艾芊芋芍芎芒芙芝芟芥芨芬芭芰花芳芷芸芹芻芽苑苒苔苗苛苞苟若苦苧英茁茂范茅茉茗茨茫茲茵茶茸茹荀草荊荐荒荔荳荷荻荼莉莊莎莖莢莪莫莽菁菊菜菡菩華菰菱菲菴萃萄萆萇萊萋萌萍萎萏萬萱萸萼落葆葉著葛葡董葦葩葫葬葭葳葵葷蒂蒙蒲蒸蒹蒼蒿蓁蓄蓉蓋蓑蓬蓮蓼蔑蔓蔗蔚蔡蔣蔥蔬蔭蔻蔽蕃蕉蕊蕕蕖蕙蕞蕤蕨蕩蕪蕭薄薇薑薔薛薜薦薨薩薪薰薺藉藍藏藐藕藜藝藤藥藩藪藹藻蘆蘇蘊蘋蘩蘭蘸蘼蘿虎虐虔處虛虜虞號虢虧虯虱虹蚊蚌蚓蚤蚨蚯蛆蛇蛉蛋蛙蛛蛟蛤蛩蛺蛻蛾蜀蜂蜇蜉蜍蜒蜓蜘蜚蜜蜺蜻蝕蝗蝟蝣蝦蝨蝮蝴蝶蝸螄融螞螢螺螻蟀蟄蟆蟋蟠蟬蟲蟹蟻蟾蠅蠍蠖蠟蠡蠢蠱蠶蠹蠻血行衍術街衙衛衝衡衢衣表衫衰衲衷衽衾衿袁袂袈袋袍袒袖袞被袱裁裂裉裊裎裏裔裕裘裙補裝裟裡裰裱裳裴裸裹裼製裾複褐褒褓褙褚褥褪褰褲褻襁襄襏襖襟襠襪襫襯襲西要覃覆見規覓視覘覚親覬覲覷覺覽覿觀角觚解觥觫觳觴觸言訂訃計訊討訓訕訖記訛訝訟訣訪設許訳訴訶訾詆詈詎詐詔評詛詞詠詢詣試詩詫詭詰話該詳詼誅誇誉誌認誑誓誕誘誚語誠誡誣誤誥誦誨說説誰課誼調諂諄談諉請諍諒論諗諛諢諦諧諫諭諱諳諷諸諺諼諾謀謁謂謊謎謔謗謙講謝謨謫謬謳謹謾證譏識譙譚譜警譬譯議譴護譽譾讀變讒讓讖讜谷豁豆豈豊豎豐豔豕豚象豢豪豫豬豳豹豺貂貅貌貓貔貝貞負財貢貧貨販貪貫責貯貲貳貴貶買貸貺費貼貽貿賀賂賃賄資賈賊賑賒賓賛賜賞賠賡賢賣賤賦質賬賭賴賺賽贄贅贈贊贍贏贐贑贓贖赤赦赧赫赭走赳赴起趁趄超越趑趕趙趟趣趨足趴趾趿跋跌跎跑跖跛距跟跡跣跤跨跪跬路跳跽踏踐踝踞踟踢踱踴踵踽蹀蹄蹇蹈蹉蹊蹌蹙蹟蹤蹬蹭蹲蹴蹺躁躅躇躊躍躑躕躚躞躡身躬躲躺軀車軋軌軍軒軔軟軫軱軸軺軻軽較輅載輊輒輓輔輕輜輝輟輦輩輪輳輴輸輻輾輿轄轅轆轉轍轎轟轡轤辛辜辟辣辦辨辭辯辰辱農込迂迄迅迍迎近迓返迢迤迥迦迨迪迫迭述迴迷迸追退送逃逅逆逋逍透逐逑途逕逖逗這通逝逞速造逡逢連逭逮週進逶逸逼逾遁遂遄遇遊運遍過遏遐遑遒道達違遘遙遜遞遠遣遨適遭遮遲遴遵遶遷選遺遼遽避邀邁邂還邅邇邊邐邑邕邙邢那邦邪邯邱邵邸郁郊郎郝郡郢部郭郵都鄂鄉鄒鄙鄧鄭鄰鄲鄴酉酊酋酌配酒酗酡酢酣酥酩酪酬酲酷酸酹醇醉醋醍醐醑醒醜醞醪醫醮醴醺釀釁采釋里重野量釐金釘針釣釦釧釵鈍鈔鈕鈞鈴鈸鈿鉅鉛鉞鉤鉦鉺銀銅銑銖銘銜銭銳銷鋒鋤鋪鋼錄錐錙錚錠錢錦錨錫錮錯鍋鍛鍬鍵鍾鎖鎦鎧鎮鏃鏖鏗鏘鏜鏡鏤鏹鏽鐃鐘鐙鐫鐮鐲鐵鐸鑄鑊鑑鑒鑠鑰鑼鑽鑾鑿钅長門閃閉開閑閒間閔閘関閣閨閩閫閬閭閱閶閹閻闇闈闊闋闌闍闐闔闕闖關闢闥阜阡阮阱防阻阿陀陂附陋陌降限陛陝陞陟陡院陣除陪陰陳陵陶陷陸険陽隅隆隈隊隋隍階隔隘隙際障隣隨險隰隱隳隴隷隸隻雀雁雄雅集雇雉雋雌雍雎雕雖雙雛雜雞離難雨雪雲零雷電需霄震霊霍霎霏霓霜霞霧霰露霹霽霾靂靄靈青靖靚靜非靠靡面革靳靴鞋鞍鞏鞠鞦鞭韁韆韋韓韙韜韞音韶韻響頁頂頃項順須頊頌頏預頑頒頓頗領頡頤頭頰頷頸頹頻頼顆題額顏顓願顙顛類顧顫顯顰顱風颯颺飄飛食飢飭飯飲飼飽飾餅餉養餌餐餒餓餘餚餞館饅饈饋饌饑饒饕饗饞饣馀首馗香馥馨馬馭馮馱馳馴駐駑駒駕駘駝駟駢駭駿騁騎騏騙騭騰騷驀驂驄驅驕驗驚驛驟驢驤驥驪骨骯骰骷骸髏髒髓體高髦髫髮髯髻鬆鬍鬚鬟鬢鬥鬧鬨鬱鬻鬼魁魂魄魅魏魑魔魚魯鮑鮒鮫鮮鮹鯀鯁鯉鯗鯤鯨鰍鰥鰲鱉鱗鳥鳩鳳鳴鳶鴇鴉鴛鴟鴣鴦鴨鴻鴿鵑鵒鵝鵠鵡鵬鵲鶉鶊鶚鶬鶯鶴鶼鷓鷗鷙鷥鷦鷯鷸鷹鷺鸚鸛鸝鸞鹽鹿麋麒麓麗麝麟麥麴麵麻麼麾黃黄黌黍黎黏黑默黛黜黝點黧黨黯黹鼇鼎鼓鼕鼙鼠鼯鼻鼾齊齋齎齏齒齟齡齧齪齬齷龍龐龔龕龜﻿！（），－．３６：；？�\n",
      "5561\n"
     ]
    }
   ],
   "source": [
    "vocab_size = len(set(chars))\n",
    "print(''.join(chars))\n",
    "print(vocab_size)"
   ]
  },
  {
   "cell_type": "code",
   "execution_count": 11,
   "metadata": {},
   "outputs": [
    {
     "data": {
      "text/html": [
       "<div>\n",
       "<style scoped>\n",
       "    .dataframe tbody tr th:only-of-type {\n",
       "        vertical-align: middle;\n",
       "    }\n",
       "\n",
       "    .dataframe tbody tr th {\n",
       "        vertical-align: top;\n",
       "    }\n",
       "\n",
       "    .dataframe thead th {\n",
       "        text-align: right;\n",
       "    }\n",
       "</style>\n",
       "<table border=\"1\" class=\"dataframe\">\n",
       "  <thead>\n",
       "    <tr style=\"text-align: right;\">\n",
       "      <th></th>\n",
       "      <th>Title</th>\n",
       "      <th>Author</th>\n",
       "      <th>Bookshelf</th>\n",
       "      <th>Text</th>\n",
       "    </tr>\n",
       "  </thead>\n",
       "  <tbody>\n",
       "    <tr>\n",
       "      <th>0</th>\n",
       "      <td>Birds, Illustrated</td>\n",
       "      <td>Color Photography, Vol. 1, No. 1 Various</td>\n",
       "      <td>Animal</td>\n",
       "      <td>﻿The Project Gutenberg eBook of Birds, Illustr...</td>\n",
       "    </tr>\n",
       "    <tr>\n",
       "      <th>1</th>\n",
       "      <td>Artistic Anatomy of Animals</td>\n",
       "      <td>Édouard Cuyer</td>\n",
       "      <td>Animal</td>\n",
       "      <td>﻿The Project Gutenberg eBook of Artistic Anato...</td>\n",
       "    </tr>\n",
       "    <tr>\n",
       "      <th>2</th>\n",
       "      <td>What Bird is That?</td>\n",
       "      <td>Frank M. Chapman</td>\n",
       "      <td>Animal</td>\n",
       "      <td>﻿The Project Gutenberg eBook of What Bird is T...</td>\n",
       "    </tr>\n",
       "    <tr>\n",
       "      <th>3</th>\n",
       "      <td>Fox Trapping: A Book of Instruction Telling Ho...</td>\n",
       "      <td>NaN</td>\n",
       "      <td>Animal</td>\n",
       "      <td>﻿The Project Gutenberg eBook of Fox Trapping: ...</td>\n",
       "    </tr>\n",
       "    <tr>\n",
       "      <th>4</th>\n",
       "      <td>On Snake-Poison: Its Action and Its Antidote</td>\n",
       "      <td>A. Mueller</td>\n",
       "      <td>Animal</td>\n",
       "      <td>﻿The Project Gutenberg eBook of On Snake-Poiso...</td>\n",
       "    </tr>\n",
       "    <tr>\n",
       "      <th>...</th>\n",
       "      <td>...</td>\n",
       "      <td>...</td>\n",
       "      <td>...</td>\n",
       "      <td>...</td>\n",
       "    </tr>\n",
       "    <tr>\n",
       "      <th>15326</th>\n",
       "      <td>Psichopath</td>\n",
       "      <td>Randall Garrett</td>\n",
       "      <td>NaN</td>\n",
       "      <td>﻿The Project Gutenberg eBook of Psichopath Thi...</td>\n",
       "    </tr>\n",
       "    <tr>\n",
       "      <th>15327</th>\n",
       "      <td>Poisoned Air</td>\n",
       "      <td>S. P. Meek</td>\n",
       "      <td>NaN</td>\n",
       "      <td>﻿The Project Gutenberg eBook of Poisoned Air T...</td>\n",
       "    </tr>\n",
       "    <tr>\n",
       "      <th>15328</th>\n",
       "      <td>Cry from a Far Planet</td>\n",
       "      <td>Tom Godwin</td>\n",
       "      <td>NaN</td>\n",
       "      <td>﻿The Project Gutenberg eBook of Cry from a Far...</td>\n",
       "    </tr>\n",
       "    <tr>\n",
       "      <th>15329</th>\n",
       "      <td>Spies Die Hard!</td>\n",
       "      <td>Arnold Marmor</td>\n",
       "      <td>NaN</td>\n",
       "      <td>﻿The Project Gutenberg eBook of Spies Die Hard...</td>\n",
       "    </tr>\n",
       "    <tr>\n",
       "      <th>15330</th>\n",
       "      <td>The Doomsman</td>\n",
       "      <td>Van Tassel Sutphen</td>\n",
       "      <td>NaN</td>\n",
       "      <td>﻿The Project Gutenberg eBook of The Doomsman T...</td>\n",
       "    </tr>\n",
       "  </tbody>\n",
       "</table>\n",
       "<p>14814 rows × 4 columns</p>\n",
       "</div>"
      ],
      "text/plain": [
       "                                                   Title  \\\n",
       "0                                     Birds, Illustrated   \n",
       "1                            Artistic Anatomy of Animals   \n",
       "2                                     What Bird is That?   \n",
       "3      Fox Trapping: A Book of Instruction Telling Ho...   \n",
       "4           On Snake-Poison: Its Action and Its Antidote   \n",
       "...                                                  ...   \n",
       "15326                                         Psichopath   \n",
       "15327                                       Poisoned Air   \n",
       "15328                              Cry from a Far Planet   \n",
       "15329                                    Spies Die Hard!   \n",
       "15330                                       The Doomsman   \n",
       "\n",
       "                                         Author Bookshelf  \\\n",
       "0      Color Photography, Vol. 1, No. 1 Various    Animal   \n",
       "1                                 Édouard Cuyer    Animal   \n",
       "2                              Frank M. Chapman    Animal   \n",
       "3                                           NaN    Animal   \n",
       "4                                    A. Mueller    Animal   \n",
       "...                                         ...       ...   \n",
       "15326                           Randall Garrett       NaN   \n",
       "15327                                S. P. Meek       NaN   \n",
       "15328                                Tom Godwin       NaN   \n",
       "15329                             Arnold Marmor       NaN   \n",
       "15330                        Van Tassel Sutphen       NaN   \n",
       "\n",
       "                                                    Text  \n",
       "0      ﻿The Project Gutenberg eBook of Birds, Illustr...  \n",
       "1      ﻿The Project Gutenberg eBook of Artistic Anato...  \n",
       "2      ﻿The Project Gutenberg eBook of What Bird is T...  \n",
       "3      ﻿The Project Gutenberg eBook of Fox Trapping: ...  \n",
       "4      ﻿The Project Gutenberg eBook of On Snake-Poiso...  \n",
       "...                                                  ...  \n",
       "15326  ﻿The Project Gutenberg eBook of Psichopath Thi...  \n",
       "15327  ﻿The Project Gutenberg eBook of Poisoned Air T...  \n",
       "15328  ﻿The Project Gutenberg eBook of Cry from a Far...  \n",
       "15329  ﻿The Project Gutenberg eBook of Spies Die Hard...  \n",
       "15330  ﻿The Project Gutenberg eBook of The Doomsman T...  \n",
       "\n",
       "[14814 rows x 4 columns]"
      ]
     },
     "execution_count": 11,
     "metadata": {},
     "output_type": "execute_result"
    }
   ],
   "source": [
    "df = df.drop('Link', axis = 1)\n",
    "df"
   ]
  },
  {
   "cell_type": "code",
   "execution_count": 35,
   "metadata": {},
   "outputs": [
    {
     "name": "stdout",
     "output_type": "stream",
     "text": [
      "First 1000 rows saved to books_large.txt\n"
     ]
    }
   ],
   "source": [
    "import pandas as pd\n",
    "\n",
    "# Assuming `df` is your DataFrame\n",
    "# Select the first 100 rows of the 'Text' column\n",
    "subset_text = df['Text'].head(1000).dropna().astype(str)  # Handle NaN and non-string values\n",
    "\n",
    "# Concatenate the strings\n",
    "all_text = \"\\n\\n\".join(subset_text)\n",
    "\n",
    "# Write to a .txt file\n",
    "output_file = \"books_large.txt\"\n",
    "with open(output_file, \"w\", encoding=\"utf-8\") as f:\n",
    "    f.write(all_text)\n",
    "\n",
    "print(f\"First 1000 rows saved to {output_file}\")\n"
   ]
  },
  {
   "cell_type": "code",
   "execution_count": 4,
   "metadata": {},
   "outputs": [
    {
     "name": "stdout",
     "output_type": "stream",
     "text": [
      "length of dataset in characters: 42238758\n"
     ]
    }
   ],
   "source": [
    "with open('books.txt', 'r', encoding= 'UTF -8') as f:\n",
    "    text = f.read()\n",
    "\n",
    "print(f\"length of dataset in characters: {len(text)}\")"
   ]
  },
  {
   "cell_type": "code",
   "execution_count": 5,
   "metadata": {},
   "outputs": [
    {
     "name": "stdout",
     "output_type": "stream",
     "text": [
      "The Project Gutenberg eBook of Birds, Illustrated by Color Photography, Vol. 1, No. 1 This ebook is\n"
     ]
    }
   ],
   "source": [
    "print(text[:100])"
   ]
  },
  {
   "cell_type": "code",
   "execution_count": 6,
   "metadata": {},
   "outputs": [
    {
     "name": "stdout",
     "output_type": "stream",
     "text": [
      "vocabulary size: 156\n",
      "vocabulary: ['\\n', ' ', '!', '\"', '#', '$', '%', '&', \"'\", '(', ')', '*', '+', ',', '-', '.', '/', '0', '1', '2', '3', '4', '5', '6', '7', '8', '9', ':', ';', '=', '>', '?', 'A', 'B', 'C', 'D', 'E', 'F', 'G', 'H', 'I', 'J', 'K', 'L', 'M', 'N', 'O', 'P', 'Q', 'R', 'S', 'T', 'U', 'V', 'W', 'X', 'Y', 'Z', '[', '\\\\', ']', '^', '_', '`', 'a', 'b', 'c', 'd', 'e', 'f', 'g', 'h', 'i', 'j', 'k', 'l', 'm', 'n', 'o', 'p', 'q', 'r', 's', 't', 'u', 'v', 'w', 'x', 'y', 'z', '{', '|', '}', '~', '£', '§', '©', '°', '´', '·', '¹', 'º', '¼', '½', '¾', 'Á', 'Â', 'Ä', 'Æ', 'Ç', 'È', 'É', 'Ë', 'Î', 'Ó', 'Ô', 'Ö', '×', 'Ü', 'à', 'á', 'â', 'ã', 'ä', 'æ', 'ç', 'è', 'é', 'ê', 'ë', 'ì', 'í', 'î', 'ï', 'ñ', 'ò', 'ó', 'ô', 'ö', '÷', 'ù', 'ú', 'û', 'ü', 'ý', 'Œ', 'œ', '—', '‘', '’', '“', '”', '•', '′', '™', '\\ufeff']\n"
     ]
    }
   ],
   "source": [
    "chars = sorted(list(set(text)))\n",
    "vocab_size = len(chars)\n",
    "print(f\"vocabulary size: {vocab_size}\")\n",
    "print(f\"vocabulary: {chars}\")"
   ]
  },
  {
   "cell_type": "code",
   "execution_count": 7,
   "metadata": {},
   "outputs": [
    {
     "name": "stdout",
     "output_type": "stream",
     "text": [
      "[71, 68, 75, 75, 78, 1, 83, 71, 68, 81, 68]\n",
      "hello there\n"
     ]
    }
   ],
   "source": [
    "stoi = {ch:i for i,ch in enumerate(chars)}\n",
    "itos = {i:ch for i,ch in enumerate(chars)}\n",
    "encode = lambda s: [stoi[c] for c in s]\n",
    "decode = lambda i: ''.join(itos[l] for l in i)\n",
    "\n",
    "print(encode('hello there'))\n",
    "print(decode(encode('hello there')))"
   ]
  },
  {
   "cell_type": "code",
   "execution_count": 8,
   "metadata": {},
   "outputs": [
    {
     "name": "stdout",
     "output_type": "stream",
     "text": [
      "<built-in method size of Tensor object at 0x30355a330>\n",
      "tensor([155,  51,  71,  68,   1,  47,  81,  78,  73,  68,  66,  83,   1,  38,\n",
      "         84,  83,  68,  77,  65,  68,  81,  70,   1,  68,  33,  78,  78,  74,\n",
      "          1,  78,  69,   1,  33,  72,  81,  67,  82,  13,   1,  40,  75,  75,\n",
      "         84,  82,  83,  81,  64,  83,  68,  67,   1,  65,  88,   1,  34,  78,\n",
      "         75,  78,  81,   1,  47,  71,  78,  83,  78,  70,  81,  64,  79,  71,\n",
      "         88,  13,   1,  53,  78,  75,  15,   1,  18,  13,   1,  45,  78,  15,\n",
      "          1,  18,   1,  51,  71,  72,  82,   1,  68,  65,  78,  78,  74,   1,\n",
      "         72,  82])\n"
     ]
    }
   ],
   "source": [
    "import torch \n",
    "data = torch.tensor(encode(text), dtype=torch.long)\n",
    "print(data.size)\n",
    "print(data[:100])"
   ]
  },
  {
   "cell_type": "code",
   "execution_count": 9,
   "metadata": {},
   "outputs": [],
   "source": [
    "n = int(0.9*len(text))\n",
    "train_data = data[:n]\n",
    "val_data = data[n:]"
   ]
  },
  {
   "cell_type": "code",
   "execution_count": 10,
   "metadata": {},
   "outputs": [
    {
     "data": {
      "text/plain": [
       "tensor([155,  51,  71,  68,   1,  47,  81,  78,  73])"
      ]
     },
     "execution_count": 10,
     "metadata": {},
     "output_type": "execute_result"
    }
   ],
   "source": [
    "block_size = 8\n",
    "train_data[:block_size+1]\n"
   ]
  },
  {
   "cell_type": "code",
   "execution_count": 11,
   "metadata": {},
   "outputs": [
    {
     "name": "stdout",
     "output_type": "stream",
     "text": [
      "when input is tensor([155]) target is: 51\n",
      "when input is tensor([155,  51]) target is: 71\n",
      "when input is tensor([155,  51,  71]) target is: 68\n",
      "when input is tensor([155,  51,  71,  68]) target is: 1\n",
      "when input is tensor([155,  51,  71,  68,   1]) target is: 47\n",
      "when input is tensor([155,  51,  71,  68,   1,  47]) target is: 81\n",
      "when input is tensor([155,  51,  71,  68,   1,  47,  81]) target is: 78\n",
      "when input is tensor([155,  51,  71,  68,   1,  47,  81,  78]) target is: 73\n"
     ]
    }
   ],
   "source": [
    "x_train = train_data[:block_size+1]\n",
    "y_train = train_data[1:block_size+1]\n",
    "for t in range(block_size):\n",
    "    context = x_train[:t+1]\n",
    "    target = y_train[t]\n",
    "    print(f\"when input is {context} target is: {target}\")"
   ]
  },
  {
   "cell_type": "code",
   "execution_count": 12,
   "metadata": {},
   "outputs": [
    {
     "name": "stdout",
     "output_type": "stream",
     "text": [
      "inputs:\n",
      "torch.Size([4, 8])\n",
      "tensor([[28,  1, 78, 65, 82, 68, 81, 85],\n",
      "        [86, 77,  1, 64, 66, 66, 78, 81],\n",
      "        [ 1, 77, 78, 83, 72, 69, 72, 68],\n",
      "        [62,  1, 74, 77, 78, 86,  1, 83]])\n",
      "targets:\n",
      "torch.Size([4, 8])\n",
      "tensor([[ 1, 78, 65, 82, 68, 81, 85, 68],\n",
      "        [77,  1, 64, 66, 66, 78, 81, 67],\n",
      "        [77, 78, 83, 72, 69, 72, 68, 67],\n",
      "        [ 1, 74, 77, 78, 86,  1, 83, 71]])\n",
      "-----\n",
      "when context is [28] target is 1\n",
      "when context is [28, 1] target is 78\n",
      "when context is [28, 1, 78] target is 65\n",
      "when context is [28, 1, 78, 65] target is 82\n",
      "when context is [28, 1, 78, 65, 82] target is 68\n",
      "when context is [28, 1, 78, 65, 82, 68] target is 81\n",
      "when context is [28, 1, 78, 65, 82, 68, 81] target is 85\n",
      "when context is [28, 1, 78, 65, 82, 68, 81, 85] target is 68\n",
      "when context is [86] target is 77\n",
      "when context is [86, 77] target is 1\n",
      "when context is [86, 77, 1] target is 64\n",
      "when context is [86, 77, 1, 64] target is 66\n",
      "when context is [86, 77, 1, 64, 66] target is 66\n",
      "when context is [86, 77, 1, 64, 66, 66] target is 78\n",
      "when context is [86, 77, 1, 64, 66, 66, 78] target is 81\n",
      "when context is [86, 77, 1, 64, 66, 66, 78, 81] target is 67\n",
      "when context is [1] target is 77\n",
      "when context is [1, 77] target is 78\n",
      "when context is [1, 77, 78] target is 83\n",
      "when context is [1, 77, 78, 83] target is 72\n",
      "when context is [1, 77, 78, 83, 72] target is 69\n",
      "when context is [1, 77, 78, 83, 72, 69] target is 72\n",
      "when context is [1, 77, 78, 83, 72, 69, 72] target is 68\n",
      "when context is [1, 77, 78, 83, 72, 69, 72, 68] target is 67\n",
      "when context is [62] target is 1\n",
      "when context is [62, 1] target is 74\n",
      "when context is [62, 1, 74] target is 77\n",
      "when context is [62, 1, 74, 77] target is 78\n",
      "when context is [62, 1, 74, 77, 78] target is 86\n",
      "when context is [62, 1, 74, 77, 78, 86] target is 1\n",
      "when context is [62, 1, 74, 77, 78, 86, 1] target is 83\n",
      "when context is [62, 1, 74, 77, 78, 86, 1, 83] target is 71\n"
     ]
    }
   ],
   "source": [
    "torch.manual_seed(1337)\n",
    "batch_size = 4 #how many independent sequences we process in parallel\n",
    "block_size = 8 #maximum context length for predictions\n",
    "\n",
    "def get_batch(split):\n",
    "    #generate a small batch of data of inputs x and y\n",
    "    data = train_data if split == 'train' else val_data\n",
    "    ix = torch.randint(len(data)-block_size, (batch_size,))\n",
    "    x = torch.stack([data[i:i+block_size] for i in ix])\n",
    "    y = torch.stack([data[i+1:i+1+block_size] for i in ix])\n",
    "    return x, y\n",
    "\n",
    "xb, yb = get_batch('train')\n",
    "print('inputs:')\n",
    "print(xb.shape)\n",
    "print(xb)\n",
    "print('targets:')\n",
    "print(yb.shape)\n",
    "print(yb)\n",
    "\n",
    "print('-----')\n",
    "\n",
    "for b in range(batch_size):\n",
    "    for t in range(block_size):\n",
    "        context = xb[b, :t+1]\n",
    "        target = yb[b,t]\n",
    "        print(f\"when context is {context.tolist()} target is {target}\")\n",
    "\n"
   ]
  },
  {
   "cell_type": "code",
   "execution_count": 13,
   "metadata": {},
   "outputs": [
    {
     "name": "stdout",
     "output_type": "stream",
     "text": [
      "tensor([[28,  1, 78, 65, 82, 68, 81, 85],\n",
      "        [86, 77,  1, 64, 66, 66, 78, 81],\n",
      "        [ 1, 77, 78, 83, 72, 69, 72, 68],\n",
      "        [62,  1, 74, 77, 78, 86,  1, 83]])\n",
      "tensor([[ 1, 78, 65, 82, 68, 81, 85, 68],\n",
      "        [77,  1, 64, 66, 66, 78, 81, 67],\n",
      "        [77, 78, 83, 72, 69, 72, 68, 67],\n",
      "        [ 1, 74, 77, 78, 86,  1, 83, 71]])\n"
     ]
    }
   ],
   "source": [
    "print(xb)\n",
    "print(yb)"
   ]
  },
  {
   "cell_type": "code",
   "execution_count": 14,
   "metadata": {},
   "outputs": [
    {
     "name": "stdout",
     "output_type": "stream",
     "text": [
      "torch.Size([32, 156])\n",
      "tensor(5.6915, grad_fn=<NllLossBackward0>)\n",
      "\n",
      "_w¹àC8úAyÈÇ{á|95“É z§gÈ|~{è+îtsºnN?é﻿jJ`öbÇcÇç2kCJŒ÷Hx op99vXx7~h¹ÁºLgV\\j′G3\"a™A½löïjayjÇJUY.èÜ\\üèŒ×\n"
     ]
    }
   ],
   "source": [
    "import torch\n",
    "import torch.nn as nn\n",
    "from torch.nn import functional as F\n",
    "\n",
    "torch.manual_seed(1337)\n",
    "\n",
    "class BigramLanguageModel(nn.Module):\n",
    "\n",
    "    def __init__(self,vocab_size):\n",
    "        super().__init__()\n",
    "        self.token_embedding_table = nn.Embedding(vocab_size,vocab_size)\n",
    "\n",
    "    def forward(self, idx, targets=None):\n",
    "        #idx and targets are both tensors of size B,T\n",
    "        logits = self.token_embedding_table(idx) # (B,T,C)\n",
    "        if targets is None:\n",
    "            loss = None\n",
    "        else:    \n",
    "            B,T,C = logits.shape\n",
    "            logits = logits.view(B*T, C)\n",
    "            targets = targets.view(B*T)\n",
    "            loss = F.cross_entropy(logits,targets)\n",
    "        return logits, loss\n",
    "        \n",
    "\n",
    "    def generate(self, idx, max_new_tokens):\n",
    "        #idx is (B,T) array of indices in current context\n",
    "        for _ in range(max_new_tokens):\n",
    "            #get the predictions\n",
    "            logits, loss = self(idx)\n",
    "            #focus only on the last time step\n",
    "            logits = logits[:, -1, :] #becomes (B,C)\n",
    "            probs = F.softmax(logits, dim=-1)\n",
    "            idx_next = torch.multinomial(probs, num_samples = 1)\n",
    "            # append sampled index to running sequence\n",
    "            idx = torch.cat((idx,idx_next), dim = 1) # (B, T+1)\n",
    "        return idx\n",
    "\n",
    "m = BigramLanguageModel(vocab_size)\n",
    "logits, loss = m(xb, yb)\n",
    "\n",
    "print(logits.shape)\n",
    "print(loss)\n",
    "\n",
    "idx = torch.zeros((1,1), dtype=torch.long)\n",
    "print(decode(m.generate(idx = torch.zeros((1,1), dtype=torch.long), max_new_tokens=100)[0].tolist()))"
   ]
  },
  {
   "cell_type": "code",
   "execution_count": 15,
   "metadata": {},
   "outputs": [
    {
     "name": "stdout",
     "output_type": "stream",
     "text": [
      "2.479205369949341\n"
     ]
    }
   ],
   "source": [
    "optimizer = torch.optim.AdamW(m.parameters(), lr=1e-3)\n",
    "batch_size = 32\n",
    "for steps in range(10000):\n",
    "    xb,yb = get_batch('train')\n",
    "    logits, loss = m(xb,yb)\n",
    "    optimizer.zero_grad(set_to_none=True)\n",
    "    loss.backward()\n",
    "    optimizer.step()\n",
    "\n",
    "print(loss.item())"
   ]
  },
  {
   "cell_type": "code",
   "execution_count": 16,
   "metadata": {},
   "outputs": [
    {
     "name": "stdout",
     "output_type": "stream",
     "text": [
      "\n",
      "y p fýÓÔûnnd th, bony ng; totathas cke r oulenghis, therakis acod se orsmeru a wan m. s anoug o sigh\n"
     ]
    }
   ],
   "source": [
    "print(decode(m.generate(idx = torch.zeros((1,1), dtype=torch.long), max_new_tokens=100)[0].tolist()))"
   ]
  },
  {
   "cell_type": "code",
   "execution_count": 17,
   "metadata": {},
   "outputs": [
    {
     "data": {
      "text/plain": [
       "torch.Size([4, 8, 2])"
      ]
     },
     "execution_count": 17,
     "metadata": {},
     "output_type": "execute_result"
    }
   ],
   "source": [
    "torch.manual_seed(1337)\n",
    "\n",
    "B,T,C = 4,8,2 # batch, time, channels\n",
    "x = torch.randn(B,T,C)\n",
    "x.shape"
   ]
  },
  {
   "cell_type": "code",
   "execution_count": 18,
   "metadata": {},
   "outputs": [],
   "source": [
    "xbow = torch.zeros((B,T,C))\n",
    "for b in range(B):\n",
    "    for t in range(T):\n",
    "        xprev = x[b,:t+1]\n",
    "        xbow[b,t] = torch.mean(xprev, 0)\n"
   ]
  },
  {
   "cell_type": "code",
   "execution_count": 19,
   "metadata": {},
   "outputs": [
    {
     "data": {
      "text/plain": [
       "tensor([[ 0.1808, -0.0700],\n",
       "        [-0.3596, -0.9152],\n",
       "        [ 0.6258,  0.0255],\n",
       "        [ 0.9545,  0.0643],\n",
       "        [ 0.3612,  1.1679],\n",
       "        [-1.3499, -0.5102],\n",
       "        [ 0.2360, -0.2398],\n",
       "        [-0.9211,  1.5433]])"
      ]
     },
     "execution_count": 19,
     "metadata": {},
     "output_type": "execute_result"
    }
   ],
   "source": [
    "x[0]"
   ]
  },
  {
   "cell_type": "code",
   "execution_count": 20,
   "metadata": {},
   "outputs": [
    {
     "data": {
      "text/plain": [
       "tensor([[ 0.1808, -0.0700],\n",
       "        [-0.0894, -0.4926],\n",
       "        [ 0.1490, -0.3199],\n",
       "        [ 0.3504, -0.2238],\n",
       "        [ 0.3525,  0.0545],\n",
       "        [ 0.0688, -0.0396],\n",
       "        [ 0.0927, -0.0682],\n",
       "        [-0.0341,  0.1332]])"
      ]
     },
     "execution_count": 20,
     "metadata": {},
     "output_type": "execute_result"
    }
   ],
   "source": [
    "xbow[0]"
   ]
  },
  {
   "cell_type": "code",
   "execution_count": 21,
   "metadata": {},
   "outputs": [
    {
     "data": {
      "text/plain": [
       "tensor([[ 0.1808, -0.0700],\n",
       "        [-0.0894, -0.4926],\n",
       "        [ 0.1490, -0.3199],\n",
       "        [ 0.3504, -0.2238],\n",
       "        [ 0.3525,  0.0545],\n",
       "        [ 0.0688, -0.0396],\n",
       "        [ 0.0927, -0.0682],\n",
       "        [-0.0341,  0.1332]])"
      ]
     },
     "execution_count": 21,
     "metadata": {},
     "output_type": "execute_result"
    }
   ],
   "source": [
    "wei = torch.tril(torch.ones(T,T))\n",
    "wei = wei / wei.sum(1,keepdim=True)\n",
    "xbow2 = wei @ x\n",
    "xbow2[0]\n"
   ]
  },
  {
   "cell_type": "code",
   "execution_count": 22,
   "metadata": {},
   "outputs": [
    {
     "data": {
      "text/plain": [
       "(tensor([[ 0.1808, -0.0700],\n",
       "         [-0.0894, -0.4926],\n",
       "         [ 0.1490, -0.3199],\n",
       "         [ 0.3504, -0.2238],\n",
       "         [ 0.3525,  0.0545],\n",
       "         [ 0.0688, -0.0396],\n",
       "         [ 0.0927, -0.0682],\n",
       "         [-0.0341,  0.1332]]),\n",
       " tensor([[ 0.1808, -0.0700],\n",
       "         [-0.0894, -0.4926],\n",
       "         [ 0.1490, -0.3199],\n",
       "         [ 0.3504, -0.2238],\n",
       "         [ 0.3525,  0.0545],\n",
       "         [ 0.0688, -0.0396],\n",
       "         [ 0.0927, -0.0682],\n",
       "         [-0.0341,  0.1332]]))"
      ]
     },
     "execution_count": 22,
     "metadata": {},
     "output_type": "execute_result"
    }
   ],
   "source": [
    "xbow2[0], xbow[0]"
   ]
  },
  {
   "cell_type": "code",
   "execution_count": 23,
   "metadata": {},
   "outputs": [
    {
     "data": {
      "text/plain": [
       "True"
      ]
     },
     "execution_count": 23,
     "metadata": {},
     "output_type": "execute_result"
    }
   ],
   "source": [
    "tril = torch.tril(torch.ones(T,T))\n",
    "wei = torch.zeros(T,T)\n",
    "wei = wei.masked_fill(tril==0, float('-inf'))\n",
    "wei = F.softmax(wei, dim=-1)\n",
    "xbow3 = wei @ x\n",
    "torch.allclose(xbow, xbow3)"
   ]
  },
  {
   "cell_type": "code",
   "execution_count": 24,
   "metadata": {},
   "outputs": [],
   "source": [
    "#hyperparameters\n",
    "batch_size = 32\n",
    "block_size = 8\n",
    "max_iters = 3000\n",
    "eval_interval = 300\n",
    "learning_rate = 1e-3\n",
    "n_embd = 32\n",
    "#device = 'mps' if torch.backends.mps.is_available() else 'cpu'\n",
    "\n",
    "eval_iters = 200"
   ]
  },
  {
   "cell_type": "code",
   "execution_count": 26,
   "metadata": {},
   "outputs": [],
   "source": [
    "@torch.no_grad\n",
    "def estimate_loss():\n",
    "    out = {}\n",
    "    model.eval()\n",
    "    for split in ['train', 'val']:\n",
    "        losses = torch.zeros(eval_iters)\n",
    "        for k in range(eval_iters):\n",
    "            X,Y = get_batch(split)\n",
    "            logits, loss = model(X,Y)\n",
    "            losses[k] = loss.item()\n",
    "        out[split] = losses.mean()\n",
    "    model.train\n",
    "    return out"
   ]
  },
  {
   "cell_type": "code",
   "execution_count": 28,
   "metadata": {},
   "outputs": [
    {
     "name": "stdout",
     "output_type": "stream",
     "text": [
      "step 0: train loss 5.6474, val loss 5.6570\n",
      "step 300: train loss 5.6523, val loss 5.6556\n",
      "step 600: train loss 5.6542, val loss 5.6443\n",
      "step 900: train loss 5.6516, val loss 5.6531\n",
      "step 1200: train loss 5.6494, val loss 5.6565\n",
      "step 1500: train loss 5.6599, val loss 5.6495\n",
      "step 1800: train loss 5.6552, val loss 5.6548\n",
      "step 2100: train loss 5.6571, val loss 5.6469\n",
      "step 2400: train loss 5.6493, val loss 5.6446\n",
      "step 2700: train loss 5.6613, val loss 5.6500\n"
     ]
    }
   ],
   "source": [
    "model = BigramLanguageModel(vocab_size)\n",
    "\n",
    "optimizer = torch.optim.AdamW(m.parameters(), lr=1e-3)\n",
    "\n",
    "\n",
    "for iter in range(max_iters):\n",
    "    if iter % eval_interval == 0:\n",
    "        losses = estimate_loss()\n",
    "        print(f\"step {iter}: train loss {losses['train']:.4f}, val loss {losses['val']:.4f}\")\n",
    "\n",
    "    xb, yb = get_batch('train')\n",
    "    logits, loss = model(xb,yb)\n",
    "    optimizer.zero_grad(set_to_none=True)\n",
    "    loss.backward()\n",
    "    optimizer.step()"
   ]
  },
  {
   "cell_type": "code",
   "execution_count": null,
   "metadata": {},
   "outputs": [],
   "source": []
  },
  {
   "cell_type": "code",
   "execution_count": null,
   "metadata": {},
   "outputs": [],
   "source": []
  },
  {
   "cell_type": "code",
   "execution_count": null,
   "metadata": {},
   "outputs": [],
   "source": []
  },
  {
   "cell_type": "code",
   "execution_count": null,
   "metadata": {},
   "outputs": [],
   "source": []
  },
  {
   "cell_type": "code",
   "execution_count": null,
   "metadata": {},
   "outputs": [],
   "source": []
  },
  {
   "cell_type": "code",
   "execution_count": null,
   "metadata": {},
   "outputs": [],
   "source": []
  },
  {
   "cell_type": "code",
   "execution_count": null,
   "metadata": {},
   "outputs": [],
   "source": []
  },
  {
   "cell_type": "code",
   "execution_count": null,
   "metadata": {},
   "outputs": [],
   "source": []
  },
  {
   "cell_type": "code",
   "execution_count": null,
   "metadata": {},
   "outputs": [],
   "source": []
  },
  {
   "cell_type": "code",
   "execution_count": null,
   "metadata": {},
   "outputs": [],
   "source": []
  },
  {
   "cell_type": "code",
   "execution_count": null,
   "metadata": {},
   "outputs": [],
   "source": []
  }
 ],
 "metadata": {
  "kernelspec": {
   "display_name": "base",
   "language": "python",
   "name": "python3"
  },
  "language_info": {
   "codemirror_mode": {
    "name": "ipython",
    "version": 3
   },
   "file_extension": ".py",
   "mimetype": "text/x-python",
   "name": "python",
   "nbconvert_exporter": "python",
   "pygments_lexer": "ipython3",
   "version": "3.11.7"
  }
 },
 "nbformat": 4,
 "nbformat_minor": 2
}
